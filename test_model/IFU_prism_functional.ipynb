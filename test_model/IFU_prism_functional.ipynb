{
 "cells": [
  {
   "cell_type": "code",
   "execution_count": 1,
   "metadata": {
    "collapsed": true
   },
   "outputs": [],
   "source": [
    "import numpy as np\n",
    "from asdf import AsdfFile\n",
    "from astropy.io import fits\n",
    "from astropy import wcs as astwcs\n",
    "from gwcs import wcs\n",
    "\n",
    "from jwst import datamodels\n",
    "from jwst.assign_wcs import nirspec\n",
    "from jwst.transforms import models"
   ]
  },
  {
   "cell_type": "code",
   "execution_count": 2,
   "metadata": {
    "collapsed": true
   },
   "outputs": [],
   "source": [
    "# These are the CV3 files\n",
    "# It uses the new ifupost and ote files\n",
    "refs = {'camera': '/grp/crds/cache/references/jwst/jwst_nirspec_camera_0004.asdf',\n",
    "        'collimator': '/grp/crds/cache/references/jwst/jwst_nirspec_collimator_0004.asdf',\n",
    "        'disperser': '/grp/crds/cache/references/jwst/jwst_nirspec_disperser_0034.asdf',\n",
    "        'distortion': 'N/A',\n",
    "        'filteroffset': 'N/A',\n",
    "        'fore': '/grp/crds/cache/references/jwst/jwst_nirspec_fore_0022.asdf',\n",
    "        'fpa': '/grp/crds/cache/references/jwst/jwst_nirspec_fpa_0005.asdf',\n",
    "        'ifufore': '/grp/crds/cache/references/jwst/jwst_nirspec_ifufore_0003.asdf',\n",
    "        'ifupost': 'ifupost.asdf',\n",
    "        'ifuslicer': '/grp/crds/cache/references/jwst/jwst_nirspec_ifuslicer_0003.asdf',\n",
    "        'msa': '/grp/crds/cache/references/jwst/jwst_nirspec_msa_0005.asdf',\n",
    "        'ote': 'ote.asdf',\n",
    "        'regions': 'N/A',\n",
    "        'specwcs': 'N/A',\n",
    "        'wavelengthrange': '/grp/crds/cache/references/jwst/jwst_nirspec_wavelengthrange_0004.asdf'}\n"
   ]
  },
  {
   "cell_type": "code",
   "execution_count": 3,
   "metadata": {
    "collapsed": true
   },
   "outputs": [],
   "source": [
    "wcs_kw = {'wcsaxes': 2, 'ra_ref': 165, 'dec_ref': 54,\n",
    "          'v2_ref': -8.3942412, 'v3_ref': -5.3123744, 'roll_ref': 37,\n",
    "          'crpix1': 1024, 'crpix2': 1024,\n",
    "          'cdelt1': .08, 'cdelt2': .08,\n",
    "          'ctype1': 'RA---TAN', 'ctype2': 'DEC--TAN',\n",
    "          'pc1_1': 1, 'pc1_2': 0, 'pc2_1': 0, 'pc2_2': 1\n",
    "          }\n",
    "\n",
    "slit_fields_num = [\"shutter_id\", \"xcen\", \"ycen\",\n",
    "                   \"ymin\", \"ymax\", \"quadrant\", \"source_id\",\n",
    "                   \"stellarity\", \"source_xpos\", \"source_ypos\"]\n",
    "\n",
    "\n",
    "slit_fields_str = [\"name\", \"shutter_state\", \"source_name\", \"source_alias\"]\n"
   ]
  },
  {
   "cell_type": "code",
   "execution_count": 4,
   "metadata": {
    "collapsed": true
   },
   "outputs": [],
   "source": [
    "def create_hdul(detector='NRS1'):\n",
    "    \"\"\"\n",
    "    Create a fits HDUList instance.\n",
    "    \"\"\"\n",
    "    hdul = fits.HDUList()\n",
    "    phdu = fits.PrimaryHDU()\n",
    "    phdu.header['instrume'] = 'NIRSPEC'\n",
    "    phdu.header['detector'] = detector\n",
    "    phdu.header['time-obs'] = '8:59:37'\n",
    "    phdu.header['date-obs'] = '2016-09-05'\n",
    "\n",
    "    scihdu = fits.ImageHDU()\n",
    "    scihdu.header['EXTNAME'] = \"SCI\"\n",
    "    for item in wcs_kw.items():\n",
    "        scihdu.header[item[0]] = item[1]\n",
    "    hdul.append(phdu)\n",
    "    hdul.append(scihdu)\n",
    "    return hdul"
   ]
  },
  {
   "cell_type": "code",
   "execution_count": 5,
   "metadata": {
    "collapsed": true
   },
   "outputs": [],
   "source": [
    "def create_nirspec_ifu_file(filter, grating, lamp='N/A', detector='NRS1'):\n",
    "    image = create_hdul(detector)\n",
    "    image[0].header['exp_type'] = 'NRS_IFU'\n",
    "    image[0].header['filter'] = filter\n",
    "    image[0].header['grating'] = grating\n",
    "    image[1].header['crval3'] = 0\n",
    "    image[1].header['wcsaxes'] = 3\n",
    "    image[1].header['ctype3'] = 'WAVE'\n",
    "    image[0].header['lamp'] = lamp\n",
    "    image[0].header['GWA_XTIL'] = 0.35986012\n",
    "    image[0].header['GWA_YTIL'] = 0.13448857\n",
    "    image[0].header['GWA_TILT'] = 37.1\n",
    "    return image"
   ]
  },
  {
   "cell_type": "code",
   "execution_count": 6,
   "metadata": {},
   "outputs": [
    {
     "name": "stderr",
     "output_type": "stream",
     "text": [
      "2018-06-19 14:28:14,173 - stpipe - INFO - gwa_ytilt is 0.13448857 deg\n",
      "2018-06-19 14:28:14,173 - stpipe - INFO - gwa_xtilt is 0.35986012 deg\n",
      "2018-06-19 14:28:14,174 - stpipe - INFO - theta_y correction: -0.02747388780339539 deg\n",
      "2018-06-19 14:28:14,175 - stpipe - INFO - theta_x correction: 0.0 deg\n",
      "2018-06-19 14:28:27,332 - stpipe - INFO - Created a NIRSPEC nrs_ifu pipeline with references {'ifufore': '/grp/crds/cache/references/jwst/jwst_nirspec_ifufore_0003.asdf', 'wavelengthrange': '/grp/crds/cache/references/jwst/jwst_nirspec_wavelengthrange_0004.asdf', 'fpa': '/grp/crds/cache/references/jwst/jwst_nirspec_fpa_0005.asdf', 'ifuslicer': '/grp/crds/cache/references/jwst/jwst_nirspec_ifuslicer_0003.asdf', 'specwcs': 'N/A', 'camera': '/grp/crds/cache/references/jwst/jwst_nirspec_camera_0004.asdf', 'msa': '/grp/crds/cache/references/jwst/jwst_nirspec_msa_0005.asdf', 'ifupost': 'ifupost.asdf', 'distortion': 'N/A', 'regions': 'N/A', 'ote': 'ote.asdf', 'filteroffset': 'N/A', 'disperser': '/grp/crds/cache/references/jwst/jwst_nirspec_disperser_0034.asdf', 'fore': '/grp/crds/cache/references/jwst/jwst_nirspec_fore_0022.asdf', 'collimator': '/grp/crds/cache/references/jwst/jwst_nirspec_collimator_0004.asdf'}\n"
     ]
    }
   ],
   "source": [
    "!ulimit -n 1024\n",
    "hdul = create_nirspec_ifu_file(grating='PRISM', filter='CLEAR',  detector='NRS1')\n",
    "im = datamodels.ImageModel(hdul)\n",
    "\n",
    "pipeline = nirspec.create_pipeline(im, refs)\n",
    "w = wcs.WCS(pipeline)\n",
    "im.meta.wcs = w"
   ]
  },
  {
   "cell_type": "code",
   "execution_count": 7,
   "metadata": {
    "collapsed": true
   },
   "outputs": [],
   "source": [
    "# Setup the test\n",
    "slitx = [0] * 5\n",
    "slity = [-.5, -.25, 0, .25, .5]\n",
    "wave_range = [6e-07, 5.3e-06]\n",
    "lam = np.array([.7e-7, 1e-6, 2e-6, 3e-6, 5e-6])\n",
    "\n",
    "order, wrange = nirspec.get_spectral_order_wrange(im, refs['wavelengthrange'])\n",
    "im.meta.wcsinfo.sporder = order\n",
    "im.meta.wcsinfo.waverange_start = wrange[0]\n",
    "im.meta.wcsinfo.waverange_end = wrange[1]\n",
    "# Use slice 0\n",
    "slit_wcs = nirspec.nrs_wcs_set_input(im, 0)\n"
   ]
  },
  {
   "cell_type": "code",
   "execution_count": 8,
   "metadata": {},
   "outputs": [
    {
     "name": "stdout",
     "output_type": "stream",
     "text": [
      "slitx:  [0, 0, 0, 0, 0]\n",
      "slity:  [-0.5, -0.25, 0, 0.25, 0.5]\n",
      "msax:  [ 0.04131163  0.04131081  0.04131053  0.04131081  0.04131163]\n",
      "msay:  [ -6.16115660e-04  -3.08195113e-04   3.43005693e-09   3.08202601e-04\n",
      "   6.16125124e-04]\n"
     ]
    }
   ],
   "source": [
    "# Slit to MSA entrance\n",
    "# This includes the Slicer transform and the IFUFORE transform\n",
    "slit2msa = slit_wcs.get_transform('slit_frame', 'msa_frame')\n",
    "msax, msay, _= slit2msa(slitx, slity, lam)\n",
    "print('slitx: ', slitx )\n",
    "print('slity: ', slity)\n",
    "print('msax: ', msax)\n",
    "print('msay: ', msay)\n"
   ]
  },
  {
   "cell_type": "code",
   "execution_count": 9,
   "metadata": {},
   "outputs": [
    {
     "name": "stdout",
     "output_type": "stream",
     "text": [
      "x_slicer:  [ 0.0004  0.0004  0.0004  0.0004  0.0004]\n",
      "y_slicer: [-0.006 -0.003  0.     0.003  0.006]\n"
     ]
    }
   ],
   "source": [
    "# Slicer\n",
    "slit2slicer = slit_wcs.get_transform('slit_frame', 'slicer')\n",
    "x_slicer, y_slicer, _ = slit2slicer(slitx, slity, lam)\n",
    "print('x_slicer: ', x_slicer)\n",
    "print('y_slicer:', y_slicer)"
   ]
  },
  {
   "cell_type": "code",
   "execution_count": 10,
   "metadata": {},
   "outputs": [
    {
     "name": "stdout",
     "output_type": "stream",
     "text": [
      "x_msa_exit:  [ 0.04862196  0.0486194   0.04861821  0.04861838  0.04861992]\n",
      "y_msa_exit:  [ 0.00794006  0.00824181  0.00854343  0.0088448   0.00914578]\n"
     ]
    }
   ],
   "source": [
    "# MSA exit\n",
    "# Applies the IFUPOST transform to coordinates at the Slicer\n",
    "ifupost = datamodels.IFUPostModel('ifupost.asdf')\n",
    "ifupost_transform = nirspec._create_ifupost_transform(ifupost.slice_0)\n",
    "x_msa_exit, y_msa_exit = ifupost_transform(x_slicer, y_slicer, lam)\n",
    "ifupost.close()\n",
    "print('x_msa_exit: ', x_msa_exit)\n",
    "print('y_msa_exit: ', y_msa_exit)"
   ]
  },
  {
   "cell_type": "code",
   "execution_count": 11,
   "metadata": {},
   "outputs": [
    {
     "name": "stdout",
     "output_type": "stream",
     "text": [
      "x_collimator_exit [ 0.07443995  0.074434    0.07443021  0.07442859  0.07442913]\n",
      "y_collimator_exit [-0.28242038 -0.28192617 -0.28143233 -0.28093905 -0.28044655]\n"
     ]
    }
   ],
   "source": [
    "# Coordinates at Collimator exit\n",
    "# Applies the Collimator forward transform to coordinates at the MSA exit\n",
    "col = datamodels.open(refs['collimator'])\n",
    "colx, coly = col.model.inverse(x_msa_exit, y_msa_exit)\n",
    "col.close()\n",
    "print('x_collimator_exit', colx)\n",
    "print('y_collimator_exit', coly)"
   ]
  },
  {
   "cell_type": "code",
   "execution_count": 12,
   "metadata": {},
   "outputs": [
    {
     "name": "stderr",
     "output_type": "stream",
     "text": [
      "2018-06-19 14:28:30,308 - stpipe - INFO - gwa_ytilt is 0.13448857 deg\n",
      "2018-06-19 14:28:30,309 - stpipe - INFO - gwa_xtilt is 0.35986012 deg\n",
      "2018-06-19 14:28:30,310 - stpipe - INFO - theta_y correction: -0.02747388780339539 deg\n",
      "2018-06-19 14:28:30,311 - stpipe - INFO - theta_x correction: 0.0 deg\n"
     ]
    },
    {
     "name": "stdout",
     "output_type": "stream",
     "text": [
      "x_gwa_entrance: [-0.3243966  -0.3244446  -0.32449057 -0.32453449 -0.32457633]\n",
      "y_gwa_entrance: [-0.27034551 -0.26990593 -0.26946646 -0.26902728 -0.26858858]\n",
      "z_gwa_entrance: [ 0.90646575  0.90657955  0.90669383  0.90680852  0.90692358]\n"
     ]
    }
   ],
   "source": [
    "# Slit to GWA entrance\n",
    "# applies the Collimator forward, Unitless to Directional and 3D Rotation to MSA exit coordinates\n",
    "disp = datamodels.DisperserModel(refs['disperser'])\n",
    "disperser = nirspec.correct_tilt(disp, im.meta.instrument.gwa_xtilt, im.meta.instrument.gwa_ytilt)\n",
    "collimator2gwa = nirspec.collimator_to_gwa(refs, disperser)\n",
    "x_gwa_in, y_gwa_in, z_gwa_in = collimator2gwa(x_msa_exit, y_msa_exit)\n",
    "disp.close()\n",
    "print('x_gwa_entrance:' , x_gwa_in)\n",
    "print('y_gwa_entrance:' , y_gwa_in)\n",
    "print('z_gwa_entrance:' , z_gwa_in)"
   ]
  },
  {
   "cell_type": "code",
   "execution_count": 13,
   "metadata": {},
   "outputs": [
    {
     "name": "stdout",
     "output_type": "stream",
     "text": [
      "x_gwa_exit: [-0.41469069 -0.47249373 -0.46962239 -0.46617283 -0.45529259]\n",
      "y_gwa_exit: [ 0.27034551  0.26990593  0.26946646  0.26902728  0.26858858]\n",
      "z_gwa_exit: [ 0.86887568  0.83898776  0.84073934  0.84279726  0.84886326]\n"
     ]
    }
   ],
   "source": [
    "# Slit to GWA out\n",
    "#agreq = nirspec.angle_from_disperser(disp, im)\n",
    "#print(agreq(lam, x_gwa_in, y_gwa_in, z_gwa_in))\n",
    "slit2gwa = slit_wcs.get_transform('slit_frame', 'gwa')\n",
    "x_gwa_out, y_gwa_out, z_gwa_out = slit2gwa(slitx, slity, lam)\n",
    "print('x_gwa_exit:' , x_gwa_out)\n",
    "print('y_gwa_exit:' , y_gwa_out)\n",
    "print('z_gwa_exit:' , z_gwa_out)"
   ]
  },
  {
   "cell_type": "code",
   "execution_count": 14,
   "metadata": {},
   "outputs": [
    {
     "name": "stdout",
     "output_type": "stream",
     "text": [
      "x_camera_entrance: [-0.0259538  -0.09381243 -0.09029396 -0.08609438 -0.07308257]\n",
      "y_camera_entrance: [ 0.28032485  0.28115008  0.28055619  0.27994835  0.27913311]\n"
     ]
    }
   ],
   "source": [
    "# CAMERA entrance (assuming direction is from sky to detector)\n",
    "angles = [disperser['theta_x'], disperser['theta_y'],\n",
    "          disperser['theta_z'], disperser['tilt_y']]\n",
    "rotation = models.Rotation3DToGWA(angles, axes_order=\"xyzy\", name='rotation')\n",
    "dircos2unitless = models.DirCos2Unitless()\n",
    "\n",
    "gwa2cam = rotation.inverse | dircos2unitless\n",
    "x_camera_entrance, y_camera_entrance = gwa2cam(x_gwa_out, y_gwa_out, z_gwa_out)\n",
    "print('x_camera_entrance:' , x_camera_entrance)\n",
    "print('y_camera_entrance:' , y_camera_entrance)"
   ]
  },
  {
   "cell_type": "code",
   "execution_count": 15,
   "metadata": {},
   "outputs": [
    {
     "name": "stdout",
     "output_type": "stream",
     "text": [
      "x_fpa:  [-0.00792689 -0.02717285 -0.02618148 -0.02499675 -0.02131642]\n",
      "y_fpa:  [-0.00379232 -0.00388355 -0.00402386 -0.00416465 -0.00431548]\n"
     ]
    }
   ],
   "source": [
    "# at FPA\n",
    "camera = datamodels.CameraModel(refs['camera'])\n",
    "x_fpa, y_fpa = camera.model.inverse(x_camera_entrance, y_camera_entrance)\n",
    "camera.close()\n",
    "print('x_fpa: ', x_fpa )\n",
    "print('y_fpa: ' , y_fpa)"
   ]
  },
  {
   "cell_type": "code",
   "execution_count": 16,
   "metadata": {},
   "outputs": [
    {
     "name": "stdout",
     "output_type": "stream",
     "text": [
      "x_sca1:  [ 1680.21927388   610.99911049   666.07536121   731.89380074   936.35646729]\n",
      "y_sca1:  [ 812.81553332  807.74719871  799.95200182  792.13037934  783.7509911 ]\n",
      "x_sca2:  [ 2561.00329019  3630.22352916  3575.14739488  3509.32907218  3304.8665308 ]\n",
      "y_sca2:  [ 1234.10985934  1239.16222412  1246.95824362  1254.78084916  1263.16329125]\n"
     ]
    }
   ],
   "source": [
    "# at SCA\n",
    "slit2sca = slit_wcs.get_transform('slit_frame', 'sca')\n",
    "x_sca_nrs1, y_sca_nrs1 = slit2sca(slitx, slity, lam)\n",
    "\n",
    "# At NRS2\n",
    "fpa = datamodels.FPAModel(refs['fpa'])\n",
    "x_sca_nrs2, y_sca_nrs2 = fpa.nrs2_model.inverse(x_fpa, y_fpa)\n",
    "fpa.close()\n",
    "print('x_sca1: ', x_sca_nrs1)\n",
    "print('y_sca1: ' , y_sca_nrs1)\n",
    "print('x_sca2: ', x_sca_nrs2 )\n",
    "print('y_sca2: ' , y_sca_nrs2)"
   ]
  },
  {
   "cell_type": "code",
   "execution_count": 17,
   "metadata": {},
   "outputs": [
    {
     "name": "stdout",
     "output_type": "stream",
     "text": [
      "x_oteip:  [ 0.05009413  0.05043085  0.05076882  0.05110744  0.05145047]\n",
      "y_oteip:  [-0.04490203 -0.04451562 -0.04412939 -0.04374378 -0.04335772]\n"
     ]
    }
   ],
   "source": [
    "# at oteip\n",
    "# Goes through slicer, ifufore, and fore transforms\n",
    "slit2oteip = slit_wcs.get_transform('slit_frame', 'oteip')\n",
    "x_oteip, y_oteip, _ = slit2oteip(slitx, slity, lam)\n",
    "print('x_oteip: ', x_oteip)\n",
    "print('y_oteip: ' , y_oteip)"
   ]
  },
  {
   "cell_type": "code",
   "execution_count": 18,
   "metadata": {},
   "outputs": [
    {
     "name": "stdout",
     "output_type": "stream",
     "text": [
      "v2:  [ 0.08365822  0.08351106  0.08336336  0.08321538  0.08306549]\n",
      "v3:  [-0.13873477 -0.13856653 -0.13839837 -0.13823048 -0.1380624 ]\n"
     ]
    }
   ],
   "source": [
    "# at v2, v3 [in arcsec]\n",
    "slit2v23 = slit_wcs.get_transform('slit_frame', 'v2v3')\n",
    "v2, v3, _ = slit2v23(slitx, slity, lam)\n",
    "v2 /= 3600\n",
    "v3 /= 3600\n",
    "print('v2: ', v2)\n",
    "print('v3: ' , v3)"
   ]
  },
  {
   "cell_type": "code",
   "execution_count": 19,
   "metadata": {
    "collapsed": true
   },
   "outputs": [],
   "source": [
    "# Save results to an asdf file\n",
    "\n",
    "fa = AsdfFile()\n",
    "fa.tree['slitx'] = list(slitx)\n",
    "fa.tree['slity'] = list(slity)\n",
    "fa.tree['lam'] = list(lam)\n",
    "fa.tree['msax'] = list(msax)\n",
    "fa.tree['msay'] = list(msay)\n",
    "fa.tree['x_collimator_exit'] = list(colx)\n",
    "fa.tree['y_collimator_exit'] = list(coly)\n",
    "fa.tree['x_gwa_entrance'] = list(x_gwa_in)\n",
    "fa.tree['y_gwa_entrance'] = list(y_gwa_in)\n",
    "fa.tree['z_gwa_entrance'] = list(z_gwa_in)\n",
    "fa.tree['x_gwa_exit'] = list(x_gwa_out)\n",
    "fa.tree['y_gwa_exit'] = list(y_gwa_out)\n",
    "fa.tree['z_gwa_exit'] = list(z_gwa_out)\n",
    "fa.tree['x_camera_entrance'] = list(x_camera_entrance)\n",
    "fa.tree['y_camera_entrance'] = list(y_camera_entrance)\n",
    "fa.tree['x_fpa'] = list(x_fpa)\n",
    "fa.tree['y_fpa'] = list(y_fpa)\n",
    "fa.tree['x_sca_nrs1'] = list(x_sca_nrs1)\n",
    "fa.tree['y_sca_nrs1'] = list(y_sca_nrs1)\n",
    "fa.tree['x_sca_nrs2'] = list(x_sca_nrs2)\n",
    "fa.tree['y_sca_nrs2'] = list(y_sca_nrs2)\n",
    "fa.tree['x_oteip'] = list(x_oteip)\n",
    "fa.tree['y_oteip'] = list(y_oteip)\n",
    "fa.tree['v2'] = list(v2)\n",
    "fa.tree['v3'] = list(v3)\n",
    "fa.tree['x_slicer'] = list(x_slicer)\n",
    "fa.tree['y_slicer'] = list(y_slicer)\n",
    "fa.tree['x_msa_exit'] = list(x_msa_exit)\n",
    "fa.tree['y_msa_exit'] = list(y_msa_exit)\n",
    "fa.write_to(\"ifu_prism_functional.asdf\", all_array_storage=\"internal\")"
   ]
  },
  {
   "cell_type": "code",
   "execution_count": null,
   "metadata": {
    "collapsed": true
   },
   "outputs": [],
   "source": []
  }
 ],
 "metadata": {
  "kernelspec": {
   "display_name": "Python 3",
   "language": "python",
   "name": "python3"
  },
  "language_info": {
   "codemirror_mode": {
    "name": "ipython",
    "version": 3
   },
   "file_extension": ".py",
   "mimetype": "text/x-python",
   "name": "python",
   "nbconvert_exporter": "python",
   "pygments_lexer": "ipython3",
   "version": "3.5.1"
  }
 },
 "nbformat": 4,
 "nbformat_minor": 2
}
