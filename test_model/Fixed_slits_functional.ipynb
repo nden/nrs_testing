{
 "cells": [
  {
   "cell_type": "code",
   "execution_count": 1,
   "metadata": {},
   "outputs": [],
   "source": [
    "import numpy as np\n",
    "from asdf import AsdfFile\n",
    "from astropy.io import fits\n",
    "from astropy import wcs as astwcs\n",
    "from astropy import table\n",
    "\n",
    "from gwcs import wcs\n",
    "from jwst import datamodels\n",
    "from jwst.assign_wcs import nirspec\n",
    "from jwst.transforms import models"
   ]
  },
  {
   "cell_type": "code",
   "execution_count": 2,
   "metadata": {},
   "outputs": [],
   "source": [
    "#t = table.Table.read('/Users/dencheva/Downloads/fixed_slits_functional_ESA.txt', format='ascii')"
   ]
  },
  {
   "cell_type": "code",
   "execution_count": 3,
   "metadata": {},
   "outputs": [],
   "source": [
    "#Create reference file dict\n",
    "def create_reference_files(datamodel):\n",
    "    \"\"\"\n",
    "    Create a dict {reftype: reference_file}.\n",
    "    \"\"\"\n",
    "    refs = {}\n",
    "    step = assign_wcs_step.AssignWcsStep()\n",
    "    for reftype in assign_wcs_step.AssignWcsStep.reference_file_types:\n",
    "        refs[reftype] = step.get_reference_file(datamodel, reftype)\n",
    "    return refs\n",
    "\n",
    "# These are the CV3 files\n",
    "refs = {'camera': '/grp/crds/cache/references/jwst/jwst_nirspec_camera_0004.asdf',\n",
    "        'collimator': '/grp/crds/cache/references/jwst/jwst_nirspec_collimator_0004.asdf',\n",
    "        'disperser': '/grp/crds/cache/references/jwst/jwst_nirspec_disperser_0035.asdf',\n",
    "        'distortion': 'N/A',\n",
    "        'filteroffset': 'N/A',\n",
    "        'fore': '/grp/crds/cache/references/jwst/jwst_nirspec_fore_0022.asdf',\n",
    "        'fpa': '/grp/crds/cache/references/jwst/jwst_nirspec_fpa_0005.asdf',\n",
    "        'ifufore': '/grp/crds/cache/references/jwst/jwst_nirspec_ifufore_0003.asdf',\n",
    "        'ifupost': 'ifupost.asdf',\n",
    "        'ifuslicer': '/grp/crds/cache/references/jwst/jwst_nirspec_ifuslicer_0003.asdf',\n",
    "        'msa': '/grp/crds/cache/references/jwst/jwst_nirspec_msa_0005.asdf',\n",
    "        'ote': 'ote.asdf',\n",
    "        'regions': 'N/A',\n",
    "        'specwcs': 'N/A',\n",
    "        'wavelengthrange': '/grp/crds/cache/references/jwst/jwst_nirspec_wavelengthrange_0004.asdf'}\n"
   ]
  },
  {
   "cell_type": "code",
   "execution_count": 4,
   "metadata": {},
   "outputs": [],
   "source": [
    "wcs_kw = {'wcsaxes': 2, 'ra_ref': 165, 'dec_ref': 54,\n",
    "          'v2_ref': -8.3942412, 'v3_ref': -5.3123744, 'roll_ref': 37,\n",
    "          'crpix1': 1024, 'crpix2': 1024,\n",
    "          'cdelt1': .08, 'cdelt2': .08,\n",
    "          'ctype1': 'RA---TAN', 'ctype2': 'DEC--TAN',\n",
    "          'pc1_1': 1, 'pc1_2': 0, 'pc2_1': 0, 'pc2_2': 1\n",
    "          }\n",
    "\n",
    "slit_fields_num = [\"shutter_id\", \"xcen\", \"ycen\",\n",
    "                   \"ymin\", \"ymax\", \"quadrant\", \"source_id\",\n",
    "                   \"stellarity\", \"source_xpos\", \"source_ypos\"]\n",
    "\n",
    "\n",
    "slit_fields_str = [\"name\", \"shutter_state\", \"source_name\", \"source_alias\"]\n"
   ]
  },
  {
   "cell_type": "code",
   "execution_count": 5,
   "metadata": {},
   "outputs": [],
   "source": [
    "def create_hdul(detector='NRS1'):\n",
    "    \"\"\"\n",
    "    Create a fits HDUList instance.\n",
    "    \"\"\"\n",
    "    hdul = fits.HDUList()\n",
    "    phdu = fits.PrimaryHDU()\n",
    "    phdu.header['instrume'] = 'NIRSPEC'\n",
    "    phdu.header['detector'] = detector\n",
    "    phdu.header['time-obs'] = '8:59:37'\n",
    "    phdu.header['date-obs'] = '2016-09-05'\n",
    "\n",
    "    scihdu = fits.ImageHDU()\n",
    "    scihdu.header['EXTNAME'] = \"SCI\"\n",
    "    for item in wcs_kw.items():\n",
    "        scihdu.header[item[0]] = item[1]\n",
    "    hdul.append(phdu)\n",
    "    hdul.append(scihdu)\n",
    "    return hdul"
   ]
  },
  {
   "cell_type": "code",
   "execution_count": 6,
   "metadata": {},
   "outputs": [],
   "source": [
    "def create_nirspec_fs_file(grating, filter, lamp=\"N/A\", detector='NRS1'):\n",
    "    image = create_hdul(detector)\n",
    "    image[0].header['exp_type'] = 'NRS_FIXEDSLIT'\n",
    "    image[0].header['filter'] = filter\n",
    "    image[0].header['grating'] = grating\n",
    "    image[0].header['lamp'] = lamp\n",
    "    image[1].header['crval3'] = 0\n",
    "    image[1].header['wcsaxes'] = 3\n",
    "    image[1].header['ctype3'] = 'WAVE'\n",
    "    image[0].header['GWA_XTIL'] = 0.3316612243652344\n",
    "    image[0].header['GWA_YTIL'] = 0.1260581910610199\n",
    "    image[0].header['SUBARRAY'] = \"FULL\"\n",
    "    return image\n",
    "\n"
   ]
  },
  {
   "cell_type": "code",
   "execution_count": 7,
   "metadata": {
    "scrolled": true
   },
   "outputs": [
    {
     "name": "stderr",
     "output_type": "stream",
     "text": [
      "2018-05-09 21:50:52,798 - stpipe - INFO - gwa_ytilt is 0.1260581910610199 deg\n",
      "2018-05-09 21:50:52,799 - stpipe - INFO - gwa_xtilt is 0.3316612243652344 deg\n",
      "2018-05-09 21:50:52,801 - stpipe - INFO - theta_y correction: -0.009545474118238594 deg\n",
      "2018-05-09 21:50:52,802 - stpipe - INFO - theta_x correction: 0.0 deg\n"
     ]
    },
    {
     "name": "stdout",
     "output_type": "stream",
     "text": [
      "disp3 -0.04043794326212748\n",
      "disp5 -0.04043794326212748\n",
      "disp6 -0.04043794326212748\n"
     ]
    },
    {
     "name": "stderr",
     "output_type": "stream",
     "text": [
      "2018-05-09 21:50:58,258 - stpipe - INFO - Removing slit S200B1 from the list of open slits because the WCS bounding_box is completely outside the detector.\n",
      "2018-05-09 21:50:58,259 - stpipe - INFO - Slits projected on detector NRS1: ['S200A1', 'S200A2', 'S400A1', 'S1600A1']\n",
      "2018-05-09 21:50:58,260 - stpipe - INFO - Computing WCS for 4 open slitlets\n",
      "2018-05-09 21:50:58,424 - stpipe - INFO - gwa_ytilt is 0.1260581910610199 deg\n",
      "2018-05-09 21:50:58,425 - stpipe - INFO - gwa_xtilt is 0.3316612243652344 deg\n",
      "2018-05-09 21:50:58,426 - stpipe - INFO - theta_y correction: -0.009545474118238594 deg\n",
      "2018-05-09 21:50:58,428 - stpipe - INFO - theta_x correction: 0.0 deg\n",
      "2018-05-09 21:50:58,547 - stpipe - INFO - SPORDER= -1, wrange=[2.87e-06, 5.27e-06]\n"
     ]
    },
    {
     "name": "stdout",
     "output_type": "stream",
     "text": [
      "disp1 -0.04043794326212748\n",
      "disp5 -0.04043794326212748\n",
      "disp2 -0.04043794326212748\n",
      "disp3 -0.04043794326212748\n"
     ]
    },
    {
     "name": "stderr",
     "output_type": "stream",
     "text": [
      "2018-05-09 21:51:01,055 - stpipe - INFO - There are 0 open slits in quadrant 1\n",
      "2018-05-09 21:51:01,057 - stpipe - INFO - There are 0 open slits in quadrant 2\n",
      "2018-05-09 21:51:01,057 - stpipe - INFO - There are 0 open slits in quadrant 3\n",
      "2018-05-09 21:51:01,058 - stpipe - INFO - There are 0 open slits in quadrant 4\n",
      "2018-05-09 21:51:01,059 - stpipe - INFO - There are 4 open slits in quadrant 5\n",
      "2018-05-09 21:51:01,059 - stpipe - INFO - Getting slits location for quadrant 5\n"
     ]
    },
    {
     "name": "stdout",
     "output_type": "stream",
     "text": [
      "disp6 -0.04043794326212748\n",
      "disp4 -0.04043794326212748\n"
     ]
    },
    {
     "name": "stderr",
     "output_type": "stream",
     "text": [
      "2018-05-09 21:51:03,572 - stpipe - INFO - Created a NIRSPEC nrs_fixedslit pipeline with references {'camera': '/grp/crds/cache/references/jwst/jwst_nirspec_camera_0004.asdf', 'collimator': '/grp/crds/cache/references/jwst/jwst_nirspec_collimator_0004.asdf', 'disperser': '/grp/crds/cache/references/jwst/jwst_nirspec_disperser_0035.asdf', 'distortion': 'N/A', 'filteroffset': 'N/A', 'fore': '/grp/crds/cache/references/jwst/jwst_nirspec_fore_0022.asdf', 'fpa': '/grp/crds/cache/references/jwst/jwst_nirspec_fpa_0005.asdf', 'ifufore': '/grp/crds/cache/references/jwst/jwst_nirspec_ifufore_0003.asdf', 'ifupost': 'ifupost.asdf', 'ifuslicer': '/grp/crds/cache/references/jwst/jwst_nirspec_ifuslicer_0003.asdf', 'msa': '/grp/crds/cache/references/jwst/jwst_nirspec_msa_0005.asdf', 'ote': 'ote.asdf', 'regions': 'N/A', 'specwcs': 'N/A', 'wavelengthrange': '/grp/crds/cache/references/jwst/jwst_nirspec_wavelengthrange_0004.asdf'}\n"
     ]
    }
   ],
   "source": [
    "hdul = create_nirspec_fs_file(grating='G395H', filter='F290LP',  detector='NRS1')\n",
    "im = datamodels.ImageModel(hdul)\n",
    "\n",
    "pipeline = nirspec.create_pipeline(im, refs)\n",
    "w = wcs.WCS(pipeline)\n",
    "im.meta.wcs = w\n"
   ]
  },
  {
   "cell_type": "code",
   "execution_count": 8,
   "metadata": {},
   "outputs": [],
   "source": [
    "# Setup the test\n",
    "slitx = [0] * 5\n",
    "slity = [-.5, -.25, 0, .25, .5]\n",
    "wave_range = [2.87e-06, 5.27e-06]\n",
    "lam = np.array([2.9, 3.39, 3.88, 4.37, 5]) * 10**-6\n",
    "\n",
    "# Use slit S200A1\n",
    "slit_wcs = nirspec.nrs_wcs_set_input(im, 'S200A1')"
   ]
  },
  {
   "cell_type": "code",
   "execution_count": 9,
   "metadata": {},
   "outputs": [
    {
     "name": "stdout",
     "output_type": "stream",
     "text": [
      "slitx:  [0, 0, 0, 0, 0]\n",
      "slity:  [-0.5, -0.25, 0, 0.25, 0.5]\n",
      "msax:  [0.02697243 0.02697243 0.02697243 0.02697243 0.02697243]\n",
      "msay:  [-0.00335229 -0.00303449 -0.0027167  -0.00239891 -0.00208112]\n"
     ]
    }
   ],
   "source": [
    "# Slit to MSA absolute\n",
    "slit2msa = slit_wcs.get_transform('slit_frame', 'msa_frame')\n",
    "msax, msay, _= slit2msa(slitx, slity, lam)\n",
    "print('slitx: ', slitx )\n",
    "print('slity: ', slity)\n",
    "print('msax: ', msax)\n",
    "print('msay: ', msay)\n"
   ]
  },
  {
   "cell_type": "code",
   "execution_count": 10,
   "metadata": {},
   "outputs": [
    {
     "name": "stdout",
     "output_type": "stream",
     "text": [
      "x_collimator_exit [0.0403573  0.04035758 0.04035787 0.04035816 0.04035847]\n",
      "y_collimator_exit [-0.3004114  -0.29988724 -0.29936322 -0.29883931 -0.29831554]\n"
     ]
    }
   ],
   "source": [
    "# Coordinates at Collimator exit\n",
    "# Applies the Collimator forward transform to MSa absolute coordinates\n",
    "col = datamodels.open(refs['collimator'])\n",
    "colx, coly = col.model.inverse(msax, msay)\n",
    "print('x_collimator_exit', colx)\n",
    "print('y_collimator_exit', coly)\n",
    "col.close()"
   ]
  },
  {
   "cell_type": "code",
   "execution_count": 11,
   "metadata": {},
   "outputs": [
    {
     "name": "stdout",
     "output_type": "stream",
     "text": [
      "xcolDircosi  [0.03862206 0.0386279  0.03863373 0.03863956 0.0386454 ]\n",
      "ycolDircosi  [-0.28749467 -0.28703441 -0.28657407 -0.28611363 -0.28565311]\n",
      "z [0.95700321 0.95714112 0.95727882 0.9574163  0.95755357]\n"
     ]
    }
   ],
   "source": [
    "# After applying direcitonal cosines\n",
    "from jwst.transforms import models as trmodels\n",
    "\n",
    "dircos = trmodels.Unitless2DirCos()\n",
    "xcolDircosi, ycolDircosi, z = dircos(colx, coly)\n",
    "print('xcolDircosi ', xcolDircosi)\n",
    "print('ycolDircosi ', ycolDircosi)\n",
    "print('z', z)"
   ]
  },
  {
   "cell_type": "code",
   "execution_count": 12,
   "metadata": {},
   "outputs": [],
   "source": [
    "# MSA to GWA entrance\n",
    "# This runs the Collimator forward, Unitless to Directional cosine, and 3D Rotation\n",
    "# It uses the corrected GWA tilt value\n",
    "disp = datamodels.DisperserModel(refs['disperser'])"
   ]
  },
  {
   "cell_type": "code",
   "execution_count": 13,
   "metadata": {},
   "outputs": [
    {
     "name": "stdout",
     "output_type": "stream",
     "text": [
      "G395H\n",
      "theta_y:  -0.03089246914388889\n",
      "theta_y:  0.023015465167583335\n"
     ]
    }
   ],
   "source": [
    "print(disp.meta.instrument.grating)\n",
    "print('theta_y: ', disp.theta_y)\n",
    "print('theta_y: ', disp.theta_x)"
   ]
  },
  {
   "cell_type": "code",
   "execution_count": 14,
   "metadata": {},
   "outputs": [
    {
     "name": "stderr",
     "output_type": "stream",
     "text": [
      "2018-05-09 21:51:05,809 - stpipe - INFO - gwa_ytilt is 0.1260581910610199 deg\n",
      "2018-05-09 21:51:05,811 - stpipe - INFO - gwa_xtilt is 0.3316612243652344 deg\n",
      "2018-05-09 21:51:05,815 - stpipe - INFO - theta_y correction: -0.009545474118238594 deg\n",
      "2018-05-09 21:51:05,817 - stpipe - INFO - theta_x correction: 0.0 deg\n"
     ]
    },
    {
     "name": "stdout",
     "output_type": "stream",
     "text": [
      "theta_y corrected:  -0.04043794326212748\n",
      "theta_y:  0.023015465167583335\n",
      "disp6 -0.04043794326212748\n",
      "x_gwa_entrance: [0.18738332 0.18740684 0.18743033 0.18745378 0.1874772 ]\n",
      "y_gwa_entrance: [-0.28680741 -0.28634706 -0.28588663 -0.2854261  -0.28496549]\n",
      "z_gwa_entrance: [0.93948337 0.93961909 0.9397546  0.9398899  0.94002498]\n",
      "-34.36370682565894\n"
     ]
    }
   ],
   "source": [
    "disperser = nirspec.correct_tilt(disp, im.meta.instrument.gwa_xtilt, im.meta.instrument.gwa_ytilt)\n",
    "\n",
    "print('theta_y corrected: ', disperser.theta_y)\n",
    "print('theta_y: ', disperser.theta_x)\n",
    "collimator2gwa = nirspec.collimator_to_gwa(refs, disperser)\n",
    "x_gwa_in, y_gwa_in, z_gwa_in = collimator2gwa(msax, msay)\n",
    "disp.close()\n",
    "print('x_gwa_entrance:' , x_gwa_in)\n",
    "print('y_gwa_entrance:' , y_gwa_in)\n",
    "print('z_gwa_entrance:' , z_gwa_in)\n",
    "print(-0.009545474118238594*3600)"
   ]
  },
  {
   "cell_type": "code",
   "execution_count": 15,
   "metadata": {},
   "outputs": [
    {
     "data": {
      "text/plain": [
       "(0.07205848000000004, 0.2868086, 0.9552739933789308)"
      ]
     },
     "execution_count": 15,
     "metadata": {},
     "output_type": "execute_result"
    }
   ],
   "source": [
    "from jwst.transforms import models as trmodels\n",
    "#im.meta.wcsinfo._instance\n",
    "#afd = nirspec.angle_from_disperser(im, disperser)\n",
    "#disperser._instance\n",
    "\n",
    "afd= trmodels.AngleFromGratingEquation(disperser._instance['groovedensity'], -1)\n",
    "afd(2.9e-6, 0.18722675, -0.2868086, 0.93951422)"
   ]
  },
  {
   "cell_type": "code",
   "execution_count": 16,
   "metadata": {},
   "outputs": [
    {
     "name": "stdout",
     "output_type": "stream",
     "text": [
      "x_gwa_exit: [0.07190191 0.11568865 0.15947543 0.20326224 0.2595663 ]\n",
      "y_gwa_exit: [0.28680741 0.28634706 0.28588663 0.2854261  0.28496549]\n",
      "z_gwa_exit: [0.95528615 0.95111592 0.94490022 0.93659831 0.92272423]\n"
     ]
    }
   ],
   "source": [
    "# Slit to GWA out\n",
    "slit2gwa = slit_wcs.get_transform('slit_frame', 'gwa')\n",
    "x_gwa_out, y_gwa_out, z_gwa_out = slit2gwa(slitx, slity, lam)\n",
    "print('x_gwa_exit:' , x_gwa_out)\n",
    "print('y_gwa_exit:' , y_gwa_out)\n",
    "print('z_gwa_exit:' , z_gwa_out)"
   ]
  },
  {
   "cell_type": "code",
   "execution_count": 17,
   "metadata": {},
   "outputs": [
    {
     "name": "stdout",
     "output_type": "stream",
     "text": [
      "x_camera_entrance: [-0.07707064 -0.03101948  0.01514077  0.06171155  0.12272885]\n",
      "y_camera_entrance: [0.30046859 0.29882465 0.29781475 0.29744381 0.29808709]\n"
     ]
    }
   ],
   "source": [
    "# CAMERA entrance (assuming direction is from sky to detector)\n",
    "angles = [disperser['theta_x'], disperser['theta_y'],\n",
    "          disperser['theta_z'], disperser['tilt_y']]\n",
    "rotation = models.Rotation3DToGWA(angles, axes_order=\"xyzy\", name='rotation')\n",
    "dircos2unitless = models.DirCos2Unitless()\n",
    "\n",
    "gwa2cam = rotation.inverse | dircos2unitless\n",
    "x_camera_entrance, y_camera_entrance = gwa2cam(x_gwa_out, y_gwa_out, z_gwa_out)\n",
    "print('x_camera_entrance:' , x_camera_entrance)\n",
    "print('y_camera_entrance:' , y_camera_entrance)"
   ]
  },
  {
   "cell_type": "code",
   "execution_count": 18,
   "metadata": {},
   "outputs": [
    {
     "name": "stdout",
     "output_type": "stream",
     "text": [
      "x_fpa:  [-0.02239022 -0.00937323  0.00372075  0.01691372  0.03406922]\n",
      "y_fpa:  [0.00142652 0.00119317 0.00103662 0.0009563  0.00101618]\n"
     ]
    }
   ],
   "source": [
    "# at FPA\n",
    "camera = datamodels.CameraModel(refs['camera'])\n",
    "x_fpa, y_fpa = camera.model.inverse(x_camera_entrance, y_camera_entrance)\n",
    "camera.close()\n",
    "print('x_fpa: ', x_fpa )\n",
    "print('y_fpa: ' , y_fpa)"
   ]
  },
  {
   "cell_type": "code",
   "execution_count": 19,
   "metadata": {},
   "outputs": [
    {
     "name": "stdout",
     "output_type": "stream",
     "text": [
      "x_sca1:  [ 876.70094739 1599.86683035 2327.31023955 3060.25306449 4013.33665474]\n",
      "y_sca1:  [1102.75121505 1089.78694793 1081.08997251 1076.6275921  1079.95467952]\n",
      "x_sca2:  [3364.51728613 2641.35159688 1913.90831766 1180.96555945  227.88191961]\n",
      "y_sca2:  [944.16217632 957.13724461 965.84508511 970.31841273 967.00556052]\n"
     ]
    }
   ],
   "source": [
    "# at SCA These are 0-based , the IDT results are 1-based\n",
    "slit2sca = slit_wcs.get_transform('slit_frame', 'sca')\n",
    "x_sca_nrs1, y_sca_nrs1 = slit2sca(slitx, slity, lam)\n",
    "#fpa = datamodels.open(refs['fpa'])\n",
    "#print('fpax, fpay', fpa.nrs1_model.inverse(x_fpa, y_fpa))\n",
    "# At NRS2\n",
    "fpa = datamodels.FPAModel(refs['fpa'])\n",
    "fpa.nrs1_model\n",
    "x_sca_nrs2, y_sca_nrs2 = fpa.nrs2_model.inverse(x_fpa, y_fpa)\n",
    "fpa.close()\n",
    "print('x_sca1: ', x_sca_nrs1)\n",
    "print('y_sca1: ' , y_sca_nrs1)\n",
    "print('x_sca2: ', x_sca_nrs2 )\n",
    "print('y_sca2: ' , y_sca_nrs2)"
   ]
  },
  {
   "cell_type": "code",
   "execution_count": 20,
   "metadata": {},
   "outputs": [
    {
     "name": "stdout",
     "output_type": "stream",
     "text": [
      "x_oteip:  [0.02964448 0.02999172 0.03033894 0.03068614 0.03103378]\n",
      "y_oteip:  [-0.03278024 -0.03238316 -0.03198612 -0.03158912 -0.0311919 ]\n"
     ]
    }
   ],
   "source": [
    "# at oteip\n",
    "slit2oteip = slit_wcs.get_transform('slit_frame', 'oteip')\n",
    "x_oteip, y_oteip, _ = slit2oteip(slitx, slity, lam)\n",
    "print('x_oteip: ', x_oteip)\n",
    "print('y_oteip: ' , y_oteip)"
   ]
  },
  {
   "cell_type": "code",
   "execution_count": 21,
   "metadata": {},
   "outputs": [
    {
     "name": "stdout",
     "output_type": "stream",
     "text": [
      "v2:  [0.09254187 0.09238998 0.09223809 0.09208622 0.09193416]\n",
      "v3:  [-0.13344017 -0.13326734 -0.13309453 -0.13292174 -0.13274886]\n"
     ]
    }
   ],
   "source": [
    "# at v2, v3 [in arcsec]\n",
    "slit2v23 = slit_wcs.get_transform('slit_frame', 'v2v3')\n",
    "v2, v3, _ = slit2v23(slitx, slity, lam)\n",
    "v2 /= 3600\n",
    "v3 /= 3600\n",
    "print('v2: ', v2)\n",
    "print('v3: ' , v3)"
   ]
  },
  {
   "cell_type": "code",
   "execution_count": 22,
   "metadata": {},
   "outputs": [],
   "source": [
    "# Save results to an asdf file\n",
    "\n",
    "fa = AsdfFile()\n",
    "fa.tree['slitx'] = list(slitx)\n",
    "fa.tree['slity'] = list(slity)\n",
    "fa.tree['lam'] = list(lam)\n",
    "fa.tree['msax'] = list(msax)\n",
    "fa.tree['msay'] = list(msay)\n",
    "fa.tree['x_collimator_exit'] = list(colx)\n",
    "fa.tree['y_collimator_exit'] = list(coly)\n",
    "fa.tree['x_gwa_entrance'] = list(x_gwa_in)\n",
    "fa.tree['y_gwa_entrance'] = list(y_gwa_in)\n",
    "fa.tree['z_gwa_entrance'] = list(z_gwa_in)\n",
    "fa.tree['x_gwa_exit'] = list(x_gwa_out)\n",
    "fa.tree['y_gwa_exit'] = list(y_gwa_out)\n",
    "fa.tree['z_gwa_exit'] = list(z_gwa_out)\n",
    "fa.tree['x_camera_entrance'] = list(x_camera_entrance)\n",
    "fa.tree['y_camera_entrance'] = list(y_camera_entrance)\n",
    "fa.tree['x_fpa'] = list(x_fpa)\n",
    "fa.tree['y_fpa'] = list(y_fpa)\n",
    "fa.tree['x_sca_nrs1'] = list(x_sca_nrs1)\n",
    "fa.tree['y_sca_nrs1'] = list(y_sca_nrs1)\n",
    "fa.tree['x_sca_nrs2'] = list(x_sca_nrs2)\n",
    "fa.tree['y_sca_nrs2'] = list(y_sca_nrs2)\n",
    "fa.tree['x_oteip'] = list(x_oteip)\n",
    "fa.tree['y_oteip'] = list(y_oteip)\n",
    "fa.tree['v2'] = list(v2)\n",
    "fa.tree['v3'] = list(v3)\n",
    "fa.write_to(\"fixed_slits_functional.asdf\", all_array_storage=\"internal\")"
   ]
  },
  {
   "cell_type": "markdown",
   "metadata": {},
   "source": [
    "## Computing the GWA correction"
   ]
  },
  {
   "cell_type": "code",
   "execution_count": 23,
   "metadata": {},
   "outputs": [],
   "source": [
    "GWA_XTIL = 0.3316612243652344\n",
    "GWA_YTIL = 0.1260581910610199"
   ]
  },
  {
   "cell_type": "code",
   "execution_count": 24,
   "metadata": {},
   "outputs": [
    {
     "name": "stdout",
     "output_type": "stream",
     "text": [
      "grating:  G395H\n"
     ]
    }
   ],
   "source": [
    "disp = datamodels.DisperserModel(refs['disperser'])\n",
    "print('grating: ', disp.meta.instrument.grating)"
   ]
  },
  {
   "cell_type": "code",
   "execution_count": 25,
   "metadata": {},
   "outputs": [
    {
     "name": "stdout",
     "output_type": "stream",
     "text": [
      "theta_x:  0.023015465167583335\n",
      "theta_y:  -0.03089246914388889\n",
      "tilt_y:  -8.8\n"
     ]
    }
   ],
   "source": [
    "theta_x = disp.theta_x\n",
    "theta_y = disp.theta_y\n",
    "tilt_y = disp.tilt_y\n",
    "\n",
    "print('theta_x: ', theta_x)\n",
    "print('theta_y: ', theta_y)\n",
    "print('tilt_y: ', tilt_y)"
   ]
  },
  {
   "cell_type": "code",
   "execution_count": 26,
   "metadata": {},
   "outputs": [
    {
     "name": "stdout",
     "output_type": "stream",
     "text": [
      "coefficients, tilt_y:  {'temperatures': [37.17], 'tilt_model': <Polynomial1D(1, c0=0., c1=0.)>, 'unit': 'arcsec', 'zeroreadings': [0.1448970586]}\n"
     ]
    }
   ],
   "source": [
    "# Print C1, C2, zeroreadings\n",
    "print('coefficients, tilt_y: ', disp._instance['gwa_tilty'])"
   ]
  },
  {
   "cell_type": "code",
   "execution_count": 27,
   "metadata": {},
   "outputs": [
    {
     "name": "stdout",
     "output_type": "stream",
     "text": [
      "coefficients, tilt_x:  {'temperatures': [37.17], 'tilt_model': <Polynomial1D(1, c0=2649.677, c1=-8196.032)>, 'unit': 'arcsec', 'zeroreadings': [0.323275774717]}\n"
     ]
    }
   ],
   "source": [
    "print('coefficients, tilt_x: ', disp._instance['gwa_tiltx'])"
   ]
  },
  {
   "cell_type": "markdown",
   "metadata": {},
   "source": [
    "**Compute the correction for GWA_TILTY**"
   ]
  },
  {
   "cell_type": "code",
   "execution_count": 28,
   "metadata": {},
   "outputs": [
    {
     "data": {
      "text/plain": [
       "-68.62900805664003"
      ]
     },
     "execution_count": 28,
     "metadata": {},
     "output_type": "execute_result"
    }
   ],
   "source": [
    "# φy_exposure = C1 × GWA_XTILexposure + C2\n",
    "-8196.032*GWA_XTIL + 2649.677"
   ]
  },
  {
   "cell_type": "code",
   "execution_count": 29,
   "metadata": {},
   "outputs": [
    {
     "data": {
      "text/plain": [
       "0.0984055946778426"
      ]
     },
     "execution_count": 29,
     "metadata": {},
     "output_type": "execute_result"
    }
   ],
   "source": [
    "# φy_calibrator = C1 × Zeroreadings + C2 \n",
    "-8196.032* 0.323275774717 + 2649.677"
   ]
  },
  {
   "cell_type": "code",
   "execution_count": 30,
   "metadata": {},
   "outputs": [
    {
     "name": "stdout",
     "output_type": "stream",
     "text": [
      "correction:  -0.009545474118238594\n"
     ]
    }
   ],
   "source": [
    "# Δθcorrection = 0.5(φexposure − φcalibrator)\n",
    "correction = 0.5 * (-68.62900805664003 - 0.0984055946778426) / 3600 # in deg\n",
    "print('correction: ', correction)"
   ]
  },
  {
   "cell_type": "code",
   "execution_count": 31,
   "metadata": {},
   "outputs": [
    {
     "name": "stdout",
     "output_type": "stream",
     "text": [
      "corrected_theta_y:  -0.04043794326212748\n"
     ]
    }
   ],
   "source": [
    "corrected_theta_y = theta_y -0.009545474118238594\n",
    "print('corrected_theta_y: ', corrected_theta_y)"
   ]
  },
  {
   "cell_type": "code",
   "execution_count": null,
   "metadata": {},
   "outputs": [],
   "source": []
  }
 ],
 "metadata": {
  "kernelspec": {
   "display_name": "Python 3",
   "language": "python",
   "name": "python3"
  },
  "language_info": {
   "codemirror_mode": {
    "name": "ipython",
    "version": 3
   },
   "file_extension": ".py",
   "mimetype": "text/x-python",
   "name": "python",
   "nbconvert_exporter": "python",
   "pygments_lexer": "ipython3",
   "version": "3.6.5"
  }
 },
 "nbformat": 4,
 "nbformat_minor": 2
}
