{
 "cells": [
  {
   "cell_type": "code",
   "execution_count": 1,
   "metadata": {},
   "outputs": [],
   "source": [
    "import numpy as np\n",
    "from asdf import AsdfFile\n",
    "from astropy.io import fits\n",
    "from astropy import wcs as astwcs\n",
    "\n",
    "from gwcs import wcs\n",
    "from jwst import datamodels\n",
    "from jwst.assign_wcs import nirspec\n",
    "from jwst.transforms import models"
   ]
  },
  {
   "cell_type": "code",
   "execution_count": 2,
   "metadata": {},
   "outputs": [],
   "source": [
    "#Create reference file dict\n",
    "def create_reference_files(datamodel):\n",
    "    \"\"\"\n",
    "    Create a dict {reftype: reference_file}.\n",
    "    \"\"\"\n",
    "    refs = {}\n",
    "    step = assign_wcs_step.AssignWcsStep()\n",
    "    for reftype in assign_wcs_step.AssignWcsStep.reference_file_types:\n",
    "        refs[reftype] = step.get_reference_file(datamodel, reftype)\n",
    "    return refs\n",
    "\n",
    "# These are the CV3 files\n",
    "refs = {'camera': '/grp/crds/cache/references/jwst/jwst_nirspec_camera_0004.asdf',\n",
    "        'collimator': '/grp/crds/cache/references/jwst/jwst_nirspec_collimator_0004.asdf',\n",
    "        'disperser': '/grp/crds/cache/references/jwst/jwst_nirspec_disperser_0035.asdf',\n",
    "        'distortion': 'N/A',\n",
    "        'filteroffset': 'N/A',\n",
    "        'fore': '/grp/crds/cache/references/jwst/jwst_nirspec_fore_0022.asdf',\n",
    "        'fpa': '/grp/crds/cache/references/jwst/jwst_nirspec_fpa_0005.asdf',\n",
    "        'ifufore': '/grp/crds/cache/references/jwst/jwst_nirspec_ifufore_0003.asdf',\n",
    "        'ifupost': 'ifupost.asdf',\n",
    "        'ifuslicer': '/grp/crds/cache/references/jwst/jwst_nirspec_ifuslicer_0003.asdf',\n",
    "        'msa': '/grp/crds/cache/references/jwst/jwst_nirspec_msa_0005.asdf',\n",
    "        'ote': 'ote.asdf',\n",
    "        'regions': 'N/A',\n",
    "        'specwcs': 'N/A',\n",
    "        'wavelengthrange': '/grp/crds/cache/references/jwst/jwst_nirspec_wavelengthrange_0004.asdf'}\n"
   ]
  },
  {
   "cell_type": "code",
   "execution_count": 3,
   "metadata": {},
   "outputs": [],
   "source": [
    "wcs_kw = {'wcsaxes': 2, 'ra_ref': 165, 'dec_ref': 54,\n",
    "          'v2_ref': -8.3942412, 'v3_ref': -5.3123744, 'roll_ref': 37,\n",
    "          'crpix1': 1024, 'crpix2': 1024,\n",
    "          'cdelt1': .08, 'cdelt2': .08,\n",
    "          'ctype1': 'RA---TAN', 'ctype2': 'DEC--TAN',\n",
    "          'pc1_1': 1, 'pc1_2': 0, 'pc2_1': 0, 'pc2_2': 1\n",
    "          }\n",
    "\n",
    "slit_fields_num = [\"shutter_id\", \"xcen\", \"ycen\",\n",
    "                   \"ymin\", \"ymax\", \"quadrant\", \"source_id\",\n",
    "                   \"stellarity\", \"source_xpos\", \"source_ypos\"]\n",
    "\n",
    "\n",
    "slit_fields_str = [\"name\", \"shutter_state\", \"source_name\", \"source_alias\"]\n"
   ]
  },
  {
   "cell_type": "code",
   "execution_count": 4,
   "metadata": {},
   "outputs": [],
   "source": [
    "def create_hdul(detector='NRS1'):\n",
    "    \"\"\"\n",
    "    Create a fits HDUList instance.\n",
    "    \"\"\"\n",
    "    hdul = fits.HDUList()\n",
    "    phdu = fits.PrimaryHDU()\n",
    "    phdu.header['instrume'] = 'NIRSPEC'\n",
    "    phdu.header['detector'] = detector\n",
    "    phdu.header['time-obs'] = '8:59:37'\n",
    "    phdu.header['date-obs'] = '2016-09-05'\n",
    "\n",
    "    scihdu = fits.ImageHDU()\n",
    "    scihdu.header['EXTNAME'] = \"SCI\"\n",
    "    for item in wcs_kw.items():\n",
    "        scihdu.header[item[0]] = item[1]\n",
    "    hdul.append(phdu)\n",
    "    hdul.append(scihdu)\n",
    "    return hdul"
   ]
  },
  {
   "cell_type": "code",
   "execution_count": 5,
   "metadata": {},
   "outputs": [],
   "source": [
    "def create_nirspec_fs_file(grating, filter, lamp=\"N/A\", detector='NRS1'):\n",
    "    image = create_hdul(detector)\n",
    "    image[0].header['exp_type'] = 'NRS_FIXEDSLIT'\n",
    "    image[0].header['filter'] = filter\n",
    "    image[0].header['grating'] = grating\n",
    "    image[0].header['lamp'] = lamp\n",
    "    image[1].header['crval3'] = 0\n",
    "    image[1].header['wcsaxes'] = 3\n",
    "    image[1].header['ctype3'] = 'WAVE'\n",
    "    image[0].header['GWA_XTIL'] = 0.3316612243652344\n",
    "    image[0].header['GWA_YTIL'] = 0.1260581910610199\n",
    "    image[0].header['SUBARRAY'] = \"FULL\"\n",
    "    return image\n",
    "\n"
   ]
  },
  {
   "cell_type": "code",
   "execution_count": 6,
   "metadata": {
    "scrolled": true
   },
   "outputs": [
    {
     "name": "stderr",
     "output_type": "stream",
     "text": [
      "2018-04-28 10:42:53,510 - stpipe - INFO - gwa_ytilt is 0.1260581910610199 deg\n",
      "2018-04-28 10:42:53,511 - stpipe - INFO - gwa_xtilt is 0.3316612243652344 deg\n",
      "2018-04-28 10:42:53,512 - stpipe - INFO - theta_y correction: -0.009545474118238594 deg\n",
      "2018-04-28 10:42:53,514 - stpipe - INFO - theta_x correction: 0.0 deg\n",
      "2018-04-28 10:42:56,992 - stpipe - INFO - Removing slit S200B1 from the list of open slits because the WCS bounding_box is completely outside the detector.\n",
      "2018-04-28 10:42:56,994 - stpipe - INFO - Slits projected on detector NRS1: ['S200A1', 'S200A2', 'S400A1', 'S1600A1']\n",
      "2018-04-28 10:42:56,995 - stpipe - INFO - Computing WCS for 4 open slitlets\n",
      "2018-04-28 10:42:57,119 - stpipe - INFO - gwa_ytilt is 0.1260581910610199 deg\n",
      "2018-04-28 10:42:57,120 - stpipe - INFO - gwa_xtilt is 0.3316612243652344 deg\n",
      "2018-04-28 10:42:57,121 - stpipe - INFO - theta_y correction: -0.009545474118238594 deg\n",
      "2018-04-28 10:42:57,124 - stpipe - INFO - theta_x correction: 0.0 deg\n",
      "2018-04-28 10:42:57,211 - stpipe - INFO - SPORDER= -1, wrange=[2.87e-06, 5.27e-06]\n",
      "2018-04-28 10:42:59,080 - stpipe - INFO - There are 0 open slits in quadrant 1\n",
      "2018-04-28 10:42:59,081 - stpipe - INFO - There are 0 open slits in quadrant 2\n",
      "2018-04-28 10:42:59,081 - stpipe - INFO - There are 0 open slits in quadrant 3\n",
      "2018-04-28 10:42:59,082 - stpipe - INFO - There are 0 open slits in quadrant 4\n",
      "2018-04-28 10:42:59,083 - stpipe - INFO - There are 4 open slits in quadrant 5\n",
      "2018-04-28 10:42:59,083 - stpipe - INFO - Getting slits location for quadrant 5\n",
      "2018-04-28 10:43:01,225 - stpipe - INFO - Created a NIRSPEC nrs_fixedslit pipeline with references {'camera': '/grp/crds/cache/references/jwst/jwst_nirspec_camera_0004.asdf', 'collimator': '/grp/crds/cache/references/jwst/jwst_nirspec_collimator_0004.asdf', 'disperser': '/grp/crds/cache/references/jwst/jwst_nirspec_disperser_0035.asdf', 'distortion': 'N/A', 'filteroffset': 'N/A', 'fore': '/grp/crds/cache/references/jwst/jwst_nirspec_fore_0022.asdf', 'fpa': '/grp/crds/cache/references/jwst/jwst_nirspec_fpa_0005.asdf', 'ifufore': '/grp/crds/cache/references/jwst/jwst_nirspec_ifufore_0003.asdf', 'ifupost': 'ifupost.asdf', 'ifuslicer': '/grp/crds/cache/references/jwst/jwst_nirspec_ifuslicer_0003.asdf', 'msa': '/grp/crds/cache/references/jwst/jwst_nirspec_msa_0005.asdf', 'ote': 'ote.asdf', 'regions': 'N/A', 'specwcs': 'N/A', 'wavelengthrange': '/grp/crds/cache/references/jwst/jwst_nirspec_wavelengthrange_0004.asdf'}\n"
     ]
    }
   ],
   "source": [
    "hdul = create_nirspec_fs_file(grating='G395H', filter='F290LP',  detector='NRS1')\n",
    "im = datamodels.ImageModel(hdul)\n",
    "\n",
    "pipeline = nirspec.create_pipeline(im, refs)\n",
    "w = wcs.WCS(pipeline)\n",
    "im.meta.wcs = w\n"
   ]
  },
  {
   "cell_type": "code",
   "execution_count": 7,
   "metadata": {},
   "outputs": [],
   "source": [
    "# Setup the test\n",
    "slitx = [0] * 5\n",
    "slity = [-.5, -.25, 0, .25, .5]\n",
    "wave_range = [2.87e-06, 5.27e-06]\n",
    "lam = np.array([2.9, 3.39, 3.88, 4.37, 5]) * 10**-6\n",
    "\n",
    "# Use slit S200A1\n",
    "slit_wcs = nirspec.nrs_wcs_set_input(im, 'S200A1')"
   ]
  },
  {
   "cell_type": "code",
   "execution_count": 8,
   "metadata": {},
   "outputs": [
    {
     "name": "stdout",
     "output_type": "stream",
     "text": [
      "slitx:  [0, 0, 0, 0, 0]\n",
      "slity:  [-0.5, -0.25, 0, 0.25, 0.5]\n",
      "msax:  [0.02697243 0.02697243 0.02697243 0.02697243 0.02697243]\n",
      "msay:  [-0.00335229 -0.00303449 -0.0027167  -0.00239891 -0.00208112]\n"
     ]
    }
   ],
   "source": [
    "# Slit to MSA absolute\n",
    "slit2msa = slit_wcs.get_transform('slit_frame', 'msa_frame')\n",
    "msax, msay, _= slit2msa(slitx, slity, lam)\n",
    "print('slitx: ', slitx )\n",
    "print('slity: ', slity)\n",
    "print('msax: ', msax)\n",
    "print('msay: ', msay)\n"
   ]
  },
  {
   "cell_type": "code",
   "execution_count": 9,
   "metadata": {},
   "outputs": [
    {
     "name": "stdout",
     "output_type": "stream",
     "text": [
      "x_collimator_exit [0.01481493 0.01480212 0.01478927 0.01477638 0.01476345]\n",
      "y_collimator_exit [0.17838953 0.17855393 0.17871813 0.17888213 0.17904594]\n"
     ]
    }
   ],
   "source": [
    "# Coordinates at Collimator exit\n",
    "# Applies the Collimator forward transform to MSa absolute coordinates\n",
    "col = datamodels.open(refs['collimator'])\n",
    "colx, coly = col.model(msax, msay)\n",
    "print('x_collimator_exit', colx)\n",
    "print('y_collimator_exit', coly)\n",
    "col.close()"
   ]
  },
  {
   "cell_type": "code",
   "execution_count": 10,
   "metadata": {},
   "outputs": [
    {
     "name": "stderr",
     "output_type": "stream",
     "text": [
      "2018-04-28 10:43:03,012 - stpipe - INFO - gwa_ytilt is 0.1260581910610199 deg\n",
      "2018-04-28 10:43:03,013 - stpipe - INFO - gwa_xtilt is 0.3316612243652344 deg\n",
      "2018-04-28 10:43:03,014 - stpipe - INFO - theta_y correction: -0.009545474118238594 deg\n",
      "2018-04-28 10:43:03,017 - stpipe - INFO - theta_x correction: 0.0 deg\n"
     ]
    },
    {
     "name": "stdout",
     "output_type": "stream",
     "text": [
      "x_gwa_entrance: [0.18738332 0.18740684 0.18743033 0.18745378 0.1874772 ]\n",
      "y_gwa_entrance: [-0.28680741 -0.28634706 -0.28588663 -0.2854261  -0.28496549]\n",
      "z_gwa_entrance: [0.93948337 0.93961909 0.9397546  0.9398899  0.94002498]\n"
     ]
    }
   ],
   "source": [
    "# MSA to GWA entrance\n",
    "# This runs the Collimator forward, Unitless to Directional cosine, and 3D Rotation\n",
    "# It uses the corrected GWA tilt value\n",
    "disp = datamodels.DisperserModel(refs['disperser'])\n",
    "disperser = nirspec.correct_tilt(disp, im.meta.instrument.gwa_xtilt, im.meta.instrument.gwa_ytilt)\n",
    "collimator2gwa = nirspec.collimator_to_gwa(refs, disperser)\n",
    "x_gwa_in, y_gwa_in, z_gwa_in = collimator2gwa(msax, msay)\n",
    "disp.close()\n",
    "print('x_gwa_entrance:' , x_gwa_in)\n",
    "print('y_gwa_entrance:' , y_gwa_in)\n",
    "print('z_gwa_entrance:' , z_gwa_in)"
   ]
  },
  {
   "cell_type": "code",
   "execution_count": 11,
   "metadata": {},
   "outputs": [
    {
     "name": "stdout",
     "output_type": "stream",
     "text": [
      "x_gwa_exit: [0.07190191 0.11568865 0.15947543 0.20326224 0.2595663 ]\n",
      "y_gwa_exit: [0.28680741 0.28634706 0.28588663 0.2854261  0.28496549]\n",
      "z_gwa_exit: [0.95528615 0.95111592 0.94490022 0.93659831 0.92272423]\n"
     ]
    }
   ],
   "source": [
    "# Slit to GWA out\n",
    "slit2gwa = slit_wcs.get_transform('slit_frame', 'gwa')\n",
    "x_gwa_out, y_gwa_out, z_gwa_out = slit2gwa(slitx, slity, lam)\n",
    "print('x_gwa_exit:' , x_gwa_out)\n",
    "print('y_gwa_exit:' , y_gwa_out)\n",
    "print('z_gwa_exit:' , z_gwa_out)"
   ]
  },
  {
   "cell_type": "code",
   "execution_count": 12,
   "metadata": {},
   "outputs": [
    {
     "name": "stdout",
     "output_type": "stream",
     "text": [
      "x_camera_entrance: [-0.07707064 -0.03101948  0.01514077  0.06171155  0.12272885]\n",
      "y_camera_entrance: [0.30046859 0.29882465 0.29781475 0.29744381 0.29808709]\n"
     ]
    }
   ],
   "source": [
    "# CAMERA entrance (assuming direction is from sky to detector)\n",
    "angles = [disperser['theta_x'], disperser['theta_y'],\n",
    "          disperser['theta_z'], disperser['tilt_y']]\n",
    "rotation = models.Rotation3DToGWA(angles, axes_order=\"xyzy\", name='rotation')\n",
    "dircos2unitless = models.DirCos2Unitless()\n",
    "\n",
    "gwa2cam = rotation.inverse | dircos2unitless\n",
    "x_camera_entrance, y_camera_entrance = gwa2cam(x_gwa_out, y_gwa_out, z_gwa_out)\n",
    "print('x_camera_entrance:' , x_camera_entrance)\n",
    "print('y_camera_entrance:' , y_camera_entrance)"
   ]
  },
  {
   "cell_type": "code",
   "execution_count": 13,
   "metadata": {},
   "outputs": [
    {
     "name": "stdout",
     "output_type": "stream",
     "text": [
      "x_fpa:  [-0.02239022 -0.00937323  0.00372075  0.01691372  0.03406922]\n",
      "y_fpa:  [0.00142652 0.00119317 0.00103662 0.0009563  0.00101618]\n"
     ]
    }
   ],
   "source": [
    "# at FPA\n",
    "camera = datamodels.CameraModel(refs['camera'])\n",
    "x_fpa, y_fpa = camera.model.inverse(x_camera_entrance, y_camera_entrance)\n",
    "camera.close()\n",
    "print('x_fpa: ', x_fpa )\n",
    "print('y_fpa: ' , y_fpa)"
   ]
  },
  {
   "cell_type": "code",
   "execution_count": 14,
   "metadata": {},
   "outputs": [
    {
     "name": "stdout",
     "output_type": "stream",
     "text": [
      "x_sca1:  [ 876.70094739 1599.86683035 2327.31023955 3060.25306449 4013.33665474]\n",
      "y_sca1:  [1102.75121505 1089.78694793 1081.08997251 1076.6275921  1079.95467952]\n",
      "x_sca2:  [3364.51728613 2641.35159688 1913.90831766 1180.96555945  227.88191961]\n",
      "y_sca2:  [944.16217632 957.13724461 965.84508511 970.31841273 967.00556052]\n"
     ]
    }
   ],
   "source": [
    "# at SCA\n",
    "slit2sca = slit_wcs.get_transform('slit_frame', 'sca')\n",
    "x_sca_nrs1, y_sca_nrs1 = slit2sca(slitx, slity, lam)\n",
    "#fpa = datamodels.open(refs['fpa'])\n",
    "#print('fpax, fpay', fpa.nrs1_model.inverse(x_fpa, y_fpa))\n",
    "# At NRS2\n",
    "fpa = datamodels.FPAModel(refs['fpa'])\n",
    "x_sca_nrs2, y_sca_nrs2 = fpa.nrs2_model.inverse(x_fpa, y_fpa)\n",
    "fpa.close()\n",
    "print('x_sca1: ', x_sca_nrs1)\n",
    "print('y_sca1: ' , y_sca_nrs1)\n",
    "print('x_sca2: ', x_sca_nrs2 )\n",
    "print('y_sca2: ' , y_sca_nrs2)"
   ]
  },
  {
   "cell_type": "code",
   "execution_count": 15,
   "metadata": {},
   "outputs": [
    {
     "name": "stdout",
     "output_type": "stream",
     "text": [
      "x_oteip:  [0.02964448 0.02999172 0.03033894 0.03068614 0.03103378]\n",
      "y_oteip:  [-0.03278024 -0.03238316 -0.03198612 -0.03158912 -0.0311919 ]\n"
     ]
    }
   ],
   "source": [
    "# at oteip\n",
    "slit2oteip = slit_wcs.get_transform('slit_frame', 'oteip')\n",
    "x_oteip, y_oteip, _ = slit2oteip(slitx, slity, lam)\n",
    "print('x_oteip: ', x_oteip)\n",
    "print('y_oteip: ' , y_oteip)"
   ]
  },
  {
   "cell_type": "code",
   "execution_count": 16,
   "metadata": {},
   "outputs": [
    {
     "name": "stdout",
     "output_type": "stream",
     "text": [
      "v2:  [0.09254187 0.09238998 0.09223809 0.09208622 0.09193416]\n",
      "v3:  [-0.13344017 -0.13326734 -0.13309453 -0.13292174 -0.13274886]\n"
     ]
    }
   ],
   "source": [
    "# at v2, v3 [in arcsec]\n",
    "slit2v23 = slit_wcs.get_transform('slit_frame', 'v2v3')\n",
    "v2, v3, _ = slit2v23(slitx, slity, lam)\n",
    "v2 /= 3600\n",
    "v3 /= 3600\n",
    "print('v2: ', v2)\n",
    "print('v3: ' , v3)"
   ]
  },
  {
   "cell_type": "code",
   "execution_count": 17,
   "metadata": {},
   "outputs": [],
   "source": [
    "# Save results to an asdf file\n",
    "\n",
    "fa = AsdfFile()\n",
    "fa.tree['slitx'] = list(slitx)\n",
    "fa.tree['slity'] = list(slity)\n",
    "fa.tree['lam'] = list(lam)\n",
    "fa.tree['msax'] = list(msax)\n",
    "fa.tree['msay'] = list(msay)\n",
    "fa.tree['x_collimator_exit'] = list(colx)\n",
    "fa.tree['y_collimator_exit'] = list(coly)\n",
    "fa.tree['x_gwa_entrance'] = list(x_gwa_in)\n",
    "fa.tree['y_gwa_entrance'] = list(y_gwa_in)\n",
    "fa.tree['z_gwa_entrance'] = list(z_gwa_in)\n",
    "fa.tree['x_gwa_exit'] = list(x_gwa_out)\n",
    "fa.tree['y_gwa_exit'] = list(y_gwa_out)\n",
    "fa.tree['z_gwa_exit'] = list(z_gwa_out)\n",
    "fa.tree['x_camera_entrance'] = list(x_camera_entrance)\n",
    "fa.tree['y_camera_entrance'] = list(y_camera_entrance)\n",
    "fa.tree['x_fpa'] = list(x_fpa)\n",
    "fa.tree['y_fpa'] = list(y_fpa)\n",
    "fa.tree['x_sca_nrs1'] = list(x_sca_nrs1)\n",
    "fa.tree['y_sca_nrs1'] = list(y_sca_nrs1)\n",
    "fa.tree['x_sca_nrs2'] = list(x_sca_nrs2)\n",
    "fa.tree['y_sca_nrs2'] = list(y_sca_nrs2)\n",
    "fa.tree['x_oteip'] = list(x_oteip)\n",
    "fa.tree['y_oteip'] = list(y_oteip)\n",
    "fa.tree['v2'] = list(v2)\n",
    "fa.tree['v3'] = list(v3)\n",
    "fa.write_to(\"fixed_slits_functional.asdf\", all_array_storage=\"internal\")"
   ]
  },
  {
   "cell_type": "code",
   "execution_count": null,
   "metadata": {},
   "outputs": [],
   "source": []
  }
 ],
 "metadata": {
  "kernelspec": {
   "display_name": "Python 3",
   "language": "python",
   "name": "python3"
  },
  "language_info": {
   "codemirror_mode": {
    "name": "ipython",
    "version": 3
   },
   "file_extension": ".py",
   "mimetype": "text/x-python",
   "name": "python",
   "nbconvert_exporter": "python",
   "pygments_lexer": "ipython3",
   "version": "3.6.5"
  }
 },
 "nbformat": 4,
 "nbformat_minor": 2
}
