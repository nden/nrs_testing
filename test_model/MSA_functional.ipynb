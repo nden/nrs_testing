{
 "cells": [
  {
   "cell_type": "code",
   "execution_count": 1,
   "metadata": {
    "collapsed": true
   },
   "outputs": [],
   "source": [
    "import numpy as np\n",
    "from asdf import AsdfFile\n",
    "from astropy.io import fits\n",
    "from astropy import wcs as astwcs\n",
    "from astropy import table\n",
    "from gwcs import wcs\n",
    "\n",
    "from jwst import datamodels\n",
    "from jwst.assign_wcs import nirspec\n",
    "from jwst.transforms import models"
   ]
  },
  {
   "cell_type": "code",
   "execution_count": 2,
   "metadata": {
    "collapsed": true
   },
   "outputs": [],
   "source": [
    "#Create reference file dict\n",
    "def create_reference_files(datamodel):\n",
    "    \"\"\"\n",
    "    Create a dict {reftype: reference_file}.\n",
    "    \"\"\"\n",
    "    refs = {}\n",
    "    step = assign_wcs_step.AssignWcsStep()\n",
    "    for reftype in assign_wcs_step.AssignWcsStep.reference_file_types:\n",
    "        refs[reftype] = step.get_reference_file(datamodel, reftype)\n",
    "    return refs\n",
    "\n",
    "# These are the CV3 files\n",
    "refs = {'camera': '/grp/crds/cache/references/jwst/jwst_nirspec_camera_0004.asdf',\n",
    "        'collimator': '/grp/crds/cache/references/jwst/jwst_nirspec_collimator_0004.asdf',\n",
    "        'disperser': '/grp/crds/cache/references/jwst/jwst_nirspec_disperser_0035.asdf',\n",
    "        'distortion': 'N/A',\n",
    "        'filteroffset': 'N/A',\n",
    "        'fore': '/grp/crds/cache/references/jwst/jwst_nirspec_fore_0022.asdf',\n",
    "        'fpa': '/grp/crds/cache/references/jwst/jwst_nirspec_fpa_0005.asdf',\n",
    "        'ifufore': '/grp/crds/cache/references/jwst/jwst_nirspec_ifufore_0003.asdf',\n",
    "        'ifupost': 'ifupost.asdf',\n",
    "        'ifuslicer': '/grp/crds/cache/references/jwst/jwst_nirspec_ifuslicer_0003.asdf',\n",
    "        'msa': '/grp/crds/cache/references/jwst/jwst_nirspec_msa_0005.asdf',\n",
    "        'ote': 'ote.asdf',\n",
    "        'regions': 'N/A',\n",
    "        'specwcs': 'N/A',\n",
    "        'wavelengthrange': '/grp/crds/cache/references/jwst/jwst_nirspec_wavelengthrange_0004.asdf'}\n"
   ]
  },
  {
   "cell_type": "code",
   "execution_count": 3,
   "metadata": {
    "collapsed": true
   },
   "outputs": [],
   "source": [
    "wcs_kw = {'wcsaxes': 2, 'ra_ref': 165, 'dec_ref': 54,\n",
    "          'v2_ref': -8.3942412, 'v3_ref': -5.3123744, 'roll_ref': 37,\n",
    "          'crpix1': 1024, 'crpix2': 1024,\n",
    "          'cdelt1': .08, 'cdelt2': .08,\n",
    "          'ctype1': 'RA---TAN', 'ctype2': 'DEC--TAN',\n",
    "          'pc1_1': 1, 'pc1_2': 0, 'pc2_1': 0, 'pc2_2': 1\n",
    "          }\n",
    "\n",
    "slit_fields_num = [\"shutter_id\", \"xcen\", \"ycen\",\n",
    "                   \"ymin\", \"ymax\", \"quadrant\", \"source_id\",\n",
    "                   \"stellarity\", \"source_xpos\", \"source_ypos\"]\n",
    "\n",
    "\n",
    "slit_fields_str = [\"name\", \"shutter_state\", \"source_name\", \"source_alias\"]\n"
   ]
  },
  {
   "cell_type": "code",
   "execution_count": 19,
   "metadata": {},
   "outputs": [],
   "source": [
    "t = table.Table.read('/home/dencheva/data/astropy/test-nrs/nrs_testing/test_model/msa_functional_ESA_v1_20180619.txt', format='ascii')\n",
    "#t.columns"
   ]
  },
  {
   "cell_type": "code",
   "execution_count": 5,
   "metadata": {
    "collapsed": true
   },
   "outputs": [],
   "source": [
    "def create_hdul(detector='NRS1'):\n",
    "    \"\"\"\n",
    "    Create a fits HDUList instance.\n",
    "    \"\"\"\n",
    "    hdul = fits.HDUList()\n",
    "    phdu = fits.PrimaryHDU()\n",
    "    phdu.header['instrume'] = 'NIRSPEC'\n",
    "    phdu.header['detector'] = detector\n",
    "    phdu.header['time-obs'] = '8:59:37'\n",
    "    phdu.header['date-obs'] = '2016-09-05'\n",
    "\n",
    "    scihdu = fits.ImageHDU()\n",
    "    scihdu.header['EXTNAME'] = \"SCI\"\n",
    "    for item in wcs_kw.items():\n",
    "        scihdu.header[item[0]] = item[1]\n",
    "    hdul.append(phdu)\n",
    "    hdul.append(scihdu)\n",
    "    return hdul"
   ]
  },
  {
   "cell_type": "code",
   "execution_count": 6,
   "metadata": {
    "collapsed": true
   },
   "outputs": [],
   "source": [
    "def create_nirspec_mos_file(grating, filter, lamp=\"N/A\", detector=\"NRS1\"):\n",
    "    image = create_hdul(detector)\n",
    "    image[0].header['exp_type'] = 'NRS_MSASPEC'\n",
    "    image[0].header['filter'] = filter\n",
    "    image[0].header['grating'] = grating\n",
    "    image[0].header['crval3'] = 0\n",
    "    image[0].header['wcsaxes'] = 3\n",
    "    image[0].header['ctype3'] = 'WAVE'\n",
    "    image[0].header['pc3_1'] = 1\n",
    "    image[0].header['pc3_2'] = 0\n",
    "    return image"
   ]
  },
  {
   "cell_type": "code",
   "execution_count": 7,
   "metadata": {
    "scrolled": true
   },
   "outputs": [
    {
     "name": "stderr",
     "output_type": "stream",
     "text": [
      "2018-06-20 11:03:57,840 - stpipe - INFO - gwa_ytilt is None deg\n",
      "2018-06-20 11:03:57,841 - stpipe - INFO - gwa_xtilt is None deg\n",
      "2018-06-20 11:03:57,842 - stpipe - INFO - gwa_xtilt not applied\n",
      "2018-06-20 11:03:57,842 - stpipe - INFO - gwa_ytilt not applied\n",
      "2018-06-20 11:03:57,864 - stpipe - INFO - SPORDER= -1, wrange=[2.87e-06, 5.27e-06]\n",
      "2018-06-20 11:03:58,295 - stpipe - INFO - There are 0 open slits in quadrant 1\n",
      "2018-06-20 11:03:58,296 - stpipe - INFO - There are 0 open slits in quadrant 2\n",
      "2018-06-20 11:03:58,297 - stpipe - INFO - There are 1 open slits in quadrant 3\n",
      "2018-06-20 11:03:58,297 - stpipe - INFO - Getting slits location for quadrant 3\n",
      "2018-06-20 11:03:58,458 - stpipe - INFO - There are 0 open slits in quadrant 4\n",
      "2018-06-20 11:03:58,459 - stpipe - INFO - There are 0 open slits in quadrant 5\n"
     ]
    }
   ],
   "source": [
    "hdul = create_nirspec_mos_file(grating='G395H', filter='F290LP',  detector='NRS1')\n",
    "im = datamodels.ImageModel(hdul)\n",
    "\n",
    "slit = models.Slit(name=1, shutter_id=4699, xcen=319, ycen=13, ymin=-0.55000000000000004,\n",
    "                   ymax=0.55000000000000004, quadrant=3, source_id=1, shutter_state='x',\n",
    "                   source_name='lamp', source_alias='foo', stellarity=100.0, source_xpos=-0.5,\n",
    "                   source_ypos=0.5)\n",
    "open_slits = [slit]\n",
    "\n",
    "\n",
    "pipeline = nirspec.slitlets_wcs(im, refs, open_slits)\n",
    "w = wcs.WCS(pipeline)\n",
    "im.meta.wcs = w\n"
   ]
  },
  {
   "cell_type": "code",
   "execution_count": 8,
   "metadata": {
    "collapsed": true
   },
   "outputs": [],
   "source": [
    "# Setup the test\n",
    "slitx = [0] * 5\n",
    "slity = [-.5, -.25, 0, .25, .5]\n",
    "wave_range = [2.87e-06, 5.27e-06]\n",
    "lam = np.array([2.9, 3.39, 3.88, 4.37, 5]) * 10**-6\n",
    "\n",
    "# Use slit S200A1\n",
    "slit_wcs = nirspec.nrs_wcs_set_input(im, 1)"
   ]
  },
  {
   "cell_type": "code",
   "execution_count": 9,
   "metadata": {},
   "outputs": [
    {
     "name": "stdout",
     "output_type": "stream",
     "text": [
      "slitx:  [0, 0, 0, 0, 0]\n",
      "slity:  [-0.5, -0.25, 0, 0.25, 0.5]\n",
      "msax:  [ 0.03797902  0.03797902  0.03797903  0.03797904  0.03797905]\n",
      "msay:  [-0.03950002 -0.03945627 -0.03941252 -0.03936877 -0.03932502]\n",
      "diff slitx xslitpos\n",
      "--------\n",
      "       0\n",
      "       0\n",
      "       0\n",
      "       0\n",
      "       0\n",
      "diff slity yslitpos\n",
      "--------\n",
      "     0.0\n",
      "     0.0\n",
      "     0.0\n",
      "     0.0\n",
      "     0.0\n",
      "diff x_msa xmsapos\n",
      "-------\n",
      "    0.0\n",
      "    0.0\n",
      "    0.0\n",
      "    0.0\n",
      "    0.0\n",
      "diff y_msa ymaspos\n",
      "-------\n",
      "    0.0\n",
      "    0.0\n",
      "    0.0\n",
      "    0.0\n",
      "    0.0\n"
     ]
    }
   ],
   "source": [
    "# Slit to MSA absolute\n",
    "slit2msa = slit_wcs.get_transform('slit_frame', 'msa_frame')\n",
    "msax, msay, _= slit2msa(slitx, slity, lam)\n",
    "print('slitx: ', slitx )\n",
    "print('slity: ', slity)\n",
    "print('msax: ', msax)\n",
    "print('msay: ', msay)\n",
    "\n",
    "print('diff slitx', slitx - t['xslitpos'])\n",
    "print('diff slity', slity - t['yslitpos'])\n",
    "print('diff x_msa', msax - t['xmsapos'])\n",
    "print('diff y_msa', msay - t['ymaspos'])"
   ]
  },
  {
   "cell_type": "code",
   "execution_count": 10,
   "metadata": {},
   "outputs": [
    {
     "name": "stderr",
     "output_type": "stream",
     "text": [
      "2018-06-20 11:03:59,586 - stpipe - INFO - gwa_ytilt is None deg\n",
      "2018-06-20 11:03:59,587 - stpipe - INFO - gwa_xtilt is None deg\n",
      "2018-06-20 11:03:59,587 - stpipe - INFO - gwa_xtilt not applied\n",
      "2018-06-20 11:03:59,588 - stpipe - INFO - gwa_ytilt not applied\n"
     ]
    },
    {
     "name": "stdout",
     "output_type": "stream",
     "text": [
      "x_gwa_entrance: [ 0.20045291  0.20045681  0.20046072  0.20046463  0.20046853]\n",
      "y_gwa_entrance: [-0.33840909 -0.33834733 -0.33828557 -0.3382238  -0.33816203]\n",
      "z_gwa_entrance: [ 0.91940085  0.91942273  0.9194446   0.91946647  0.91948834]\n",
      "diff x_gwa_entrance      xdispIn      \n",
      "------------------\n",
      " -0.00066847607609\n",
      "-0.000668491925767\n",
      "-0.000668507772688\n",
      "-0.000668523616855\n",
      "-0.000668539458266\n",
      "diff y_gwa_entrance      ydispIn      \n",
      "------------------\n",
      "-5.12025786775e-06\n",
      "-5.12037899669e-06\n",
      "-5.12050010498e-06\n",
      "-5.12062119212e-06\n",
      "-5.12074225867e-06\n"
     ]
    }
   ],
   "source": [
    "# MSA to GWA entrance\n",
    "# This runs the Collimator forward, Unitless to Directional cosine, and 3D Rotation\n",
    "disp = datamodels.DisperserModel(refs['disperser'])\n",
    "disperser = nirspec.correct_tilt(disp, im.meta.instrument.gwa_xtilt, im.meta.instrument.gwa_ytilt)\n",
    "collimator2gwa = nirspec.collimator_to_gwa(refs, disperser)\n",
    "x_gwa_in, y_gwa_in, z_gwa_in = collimator2gwa(msax, msay)\n",
    "print('x_gwa_entrance:' , x_gwa_in)\n",
    "print('y_gwa_entrance:' , y_gwa_in)\n",
    "print('z_gwa_entrance:' , z_gwa_in)\n",
    "\n",
    "print('diff x_gwa_entrance', x_gwa_in - t['xdispIn'])\n",
    "print('diff y_gwa_entrance', y_gwa_in - t['ydispIn'])"
   ]
  },
  {
   "cell_type": "code",
   "execution_count": 11,
   "metadata": {},
   "outputs": [
    {
     "name": "stdout",
     "output_type": "stream",
     "text": [
      "x_gwa_exit: [ 0.05883232  0.10263868  0.14644503  0.19025139  0.24657497]\n",
      "y_gwa_exit: [ 0.33840909  0.33834733  0.33828557  0.3382238   0.33816203]\n",
      "z_gwa_exit: [ 0.93915816  0.93540707  0.92957879  0.92163391  0.908211  ]\n",
      "diff x_gwa_exit      xdispLaw    \n",
      "-----------------\n",
      " 0.00066847607609\n",
      "0.000668491925767\n",
      "0.000668507772688\n",
      "0.000668523616855\n",
      "0.000668539458266\n",
      "diff y_gwa_exit      ydispLaw    \n",
      "-----------------\n",
      "5.12025786775e-06\n",
      "5.12037899669e-06\n",
      "5.12050010498e-06\n",
      "5.12062119212e-06\n",
      "5.12074225867e-06\n"
     ]
    }
   ],
   "source": [
    "# Slit to GWA out\n",
    "slit2gwa = slit_wcs.get_transform('slit_frame', 'gwa')\n",
    "x_gwa_out, y_gwa_out, z_gwa_out = slit2gwa(slitx, slity, lam)\n",
    "print('x_gwa_exit:' , x_gwa_out)\n",
    "print('y_gwa_exit:' , y_gwa_out)\n",
    "print('z_gwa_exit:' , z_gwa_out)\n",
    "\n",
    "print('diff x_gwa_exit', x_gwa_out - t['xdispLaw'])\n",
    "print('diff y_gwa_exit', y_gwa_out - t['ydispLaw'])"
   ]
  },
  {
   "cell_type": "code",
   "execution_count": 12,
   "metadata": {},
   "outputs": [
    {
     "name": "stdout",
     "output_type": "stream",
     "text": [
      "x_camera_entrance: [-0.08909869 -0.04216234  0.00482219  0.05217109  0.11412658]\n",
      "y_camera_entrance: [ 0.36136011  0.35978315  0.35899585  0.35900545  0.36025069]\n",
      "diff x_camera_enrtance     xcamCosi    \n",
      "----------------\n",
      "0.00145033329697\n",
      "0.00144423734841\n",
      "0.00144609767317\n",
      "0.00145612214208\n",
      " 0.0014818101157\n",
      "diff y_camera_entrance      ycamCosi     \n",
      "------------------\n",
      " -4.6621666802e-05\n",
      "-2.21757837675e-05\n",
      " 2.18187125328e-06\n",
      " 2.68602083252e-05\n",
      " 5.97757993593e-05\n"
     ]
    }
   ],
   "source": [
    "# CAMERA entrance (assuming direction is from sky to detector)\n",
    "angles = [disperser['theta_x'], disperser['theta_y'],\n",
    "          disperser['theta_z'], disperser['tilt_y']]\n",
    "rotation = models.Rotation3DToGWA(angles, axes_order=\"xyzy\", name='rotation')\n",
    "dircos2unitless = models.DirCos2Unitless()\n",
    "\n",
    "gwa2cam = rotation.inverse | dircos2unitless\n",
    "x_camera_entrance, y_camera_entrance = gwa2cam(x_gwa_out, y_gwa_out, z_gwa_out)\n",
    "print('x_camera_entrance:' , x_camera_entrance)\n",
    "print('y_camera_entrance:' , y_camera_entrance)\n",
    "\n",
    "print('diff x_camera_enrtance', x_camera_entrance - t['xcamCosi'])\n",
    "print('diff y_camera_entrance', y_camera_entrance - t['ycamCosi'])"
   ]
  },
  {
   "cell_type": "code",
   "execution_count": 13,
   "metadata": {},
   "outputs": [
    {
     "name": "stdout",
     "output_type": "stream",
     "text": [
      "x_fpa:  [-0.02553711 -0.01247944  0.00064876  0.01387314  0.03106437]\n",
      "y_fpa:  [ 0.01741811  0.01725733  0.01719534  0.01722958  0.0174328 ]\n",
      "diff x_fpa      xfpapos     \n",
      "-----------------\n",
      "0.000402029475145\n",
      "0.000402960277387\n",
      "0.000404280916169\n",
      "0.000405890948642\n",
      "0.000408725158212\n",
      "diff y_fpa      yfpapos      \n",
      "------------------\n",
      "-2.82745717221e-06\n",
      " 3.43960246917e-07\n",
      " 3.30588920062e-06\n",
      " 6.29173449994e-06\n",
      "  1.0700772956e-05\n"
     ]
    }
   ],
   "source": [
    "# at FPA\n",
    "camera = datamodels.CameraModel(refs['camera'])\n",
    "x_fpa, y_fpa = camera.model.inverse(x_camera_entrance, y_camera_entrance)\n",
    "print('x_fpa: ', x_fpa )\n",
    "print('y_fpa: ' , y_fpa)\n",
    "\n",
    "print('diff x_fpa', x_fpa - t['xfpapos'])\n",
    "print('diff y_fpa', y_fpa - t['yfpapos'])"
   ]
  },
  {
   "cell_type": "code",
   "execution_count": 14,
   "metadata": {},
   "outputs": [
    {
     "name": "stdout",
     "output_type": "stream",
     "text": [
      "x_sca1:  [  701.8736012   1427.29965691  2156.6444643   2891.33190661  3846.40028601]\n",
      "y_sca1:  [ 1991.17297878  1982.24032509  1978.79690089  1980.6991596   1991.98890075]\n",
      "x_sca2:  [ 3539.33136286  2813.90544065  2084.56068477  1349.87321413   394.80466622]\n",
      "y_sca2:  [ 55.73780147  64.6812901   68.13560776  66.24432233  54.96884604]\n",
      "diff x_sca1       i      \n",
      "-------------\n",
      "21.3349708414\n",
      " 21.386682077\n",
      "diff y_sca1        j       \n",
      "---------------\n",
      " -1.15708095401\n",
      "-0.980891097393\n",
      "\n",
      "\n",
      "diff x_sca2       i       \n",
      "--------------\n",
      "-23.4600536389\n",
      " -23.549502365\n",
      "-23.7069621107\n",
      "diff y_sca2       j       \n",
      "--------------\n",
      "-1.18332504863\n",
      "-1.34920400705\n",
      "-1.59414823616\n",
      " SCA  \n",
      "------\n",
      "SCA491\n",
      "SCA491\n",
      "SCA492\n",
      "SCA492\n",
      "SCA492\n"
     ]
    }
   ],
   "source": [
    "# at SCA\n",
    "slit2sca = slit_wcs.get_transform('slit_frame', 'sca')\n",
    "x_sca_nrs1, y_sca_nrs1 = slit2sca(slitx, slity, lam)\n",
    "\n",
    "# At NRS2\n",
    "fpa = datamodels.FPAModel(refs['fpa'])\n",
    "x_sca_nrs2, y_sca_nrs2 = fpa.nrs2_model.inverse(x_fpa, y_fpa)\n",
    "print('x_sca1: ', x_sca_nrs1)\n",
    "print('y_sca1: ' , y_sca_nrs1)\n",
    "print('x_sca2: ', x_sca_nrs2 )\n",
    "print('y_sca2: ' , y_sca_nrs2)\n",
    "\n",
    "print('diff x_sca1', x_sca_nrs1[:2] - t['i'][:2])\n",
    "print('diff y_sca1', y_sca_nrs1[:2] - t['j'][:2])\n",
    "print('\\n')\n",
    "print('diff x_sca2', x_sca_nrs2[2:] - t['i'][2:])\n",
    "print('diff y_sca2', y_sca_nrs2[2:] - t['j'][2:])\n",
    "print(t['SCA'])"
   ]
  },
  {
   "cell_type": "code",
   "execution_count": 15,
   "metadata": {},
   "outputs": [
    {
     "name": "stdout",
     "output_type": "stream",
     "text": [
      "x_oteip:  [ 0.00356309  0.00361242  0.00366175  0.00371108  0.00376076]\n",
      "y_oteip:  [-0.0901622  -0.09010688 -0.09005155 -0.08999622 -0.08994092]\n",
      "diff x_oteip       xOTEIP      \n",
      "------------------\n",
      " -7.8062556419e-18\n",
      "-2.86229373536e-17\n",
      " 6.07153216592e-18\n",
      " -7.8062556419e-18\n",
      " 3.38271077815e-17\n",
      "diff y_oteip       yOTEIP      \n",
      "------------------\n",
      "-1.38777878078e-17\n",
      "               0.0\n",
      "-1.38777878078e-17\n",
      "               0.0\n",
      "               0.0\n"
     ]
    }
   ],
   "source": [
    "# at oteip\n",
    "slit2oteip = slit_wcs.get_transform('slit_frame', 'oteip')\n",
    "x_oteip, y_oteip, _ = slit2oteip(slitx, slity, lam)\n",
    "print('x_oteip: ', x_oteip)\n",
    "print('y_oteip: ' , y_oteip)\n",
    "\n",
    "print('diff x_oteip', x_oteip - t['xOTEIP'])\n",
    "print('diff y_oteip', y_oteip - t['yOTEIP'])"
   ]
  },
  {
   "cell_type": "code",
   "execution_count": 16,
   "metadata": {},
   "outputs": [
    {
     "name": "stdout",
     "output_type": "stream",
     "text": [
      "v2:  [ 0.10400871  0.10398709  0.10396548  0.10394386  0.1039221 ]\n",
      "v3:  [-0.1584595  -0.15843537 -0.15841123 -0.15838709 -0.15836296]\n",
      "diff V2       xV2V3       \n",
      "------------------\n",
      " 1.38777878078e-17\n",
      " 1.38777878078e-17\n",
      "               0.0\n",
      "               0.0\n",
      "-2.77555756156e-17\n",
      "diff V3       yV2V3       \n",
      "------------------\n",
      "-2.77555756156e-17\n",
      "               0.0\n",
      "               0.0\n",
      "               0.0\n",
      "               0.0\n"
     ]
    }
   ],
   "source": [
    "# at v2, v3 [in arcsec]\n",
    "slit2v23 = slit_wcs.get_transform('slit_frame', 'v2v3')\n",
    "v2, v3, _ = slit2v23(slitx, slity, lam)\n",
    "v2 /= 3600\n",
    "v3 /= 3600\n",
    "print('v2: ', v2)\n",
    "print('v3: ' , v3)\n",
    "\n",
    "print('diff V2', v2 - t['xV2V3'])\n",
    "print('diff V3', v3 - t['yV2V3'])"
   ]
  },
  {
   "cell_type": "code",
   "execution_count": 17,
   "metadata": {},
   "outputs": [
    {
     "name": "stdout",
     "output_type": "stream",
     "text": [
      "x_collimator_exit [ 0.05791667  0.05791633  0.05791599  0.05791564  0.0579153 ]\n",
      "y_collimator_exit [-0.36119052 -0.36111622 -0.36104192 -0.36096762 -0.36089332]\n",
      "diff x_collimator_exit       xcoll       \n",
      "------------------\n",
      "-6.93889390391e-18\n",
      "-6.93889390391e-18\n",
      "-1.38777878078e-17\n",
      "-6.93889390391e-18\n",
      "-1.38777878078e-17\n",
      "diff y_collimator_exit       ycoll       \n",
      "------------------\n",
      "               0.0\n",
      " 5.55111512313e-17\n",
      "-5.55111512313e-17\n",
      " 5.55111512313e-17\n",
      "-1.11022302463e-16\n"
     ]
    }
   ],
   "source": [
    "# Coordinates at Collimator exit\n",
    "# Applies the Collimator forward transform to MSa absolute coordinates\n",
    "col = datamodels.open(refs['collimator'])\n",
    "colx, coly = col.model.inverse(msax, msay)\n",
    "print('x_collimator_exit', colx)\n",
    "print('y_collimator_exit', coly)\n",
    "col.close()\n",
    "\n",
    "print('diff x_collimator_exit', colx - t['xcoll'])\n",
    "print('diff y_collimator_exit', coly - t['ycoll'])\n"
   ]
  },
  {
   "cell_type": "code",
   "execution_count": 18,
   "metadata": {
    "collapsed": true
   },
   "outputs": [],
   "source": [
    "# Save results to an asdf file\n",
    "\n",
    "fa = AsdfFile()\n",
    "fa.tree['slitx'] = list(slitx)\n",
    "fa.tree['slity'] = list(slity)\n",
    "fa.tree['lam'] = list(lam)\n",
    "fa.tree['msax'] = list(msax)\n",
    "fa.tree['msay'] = list(msay)\n",
    "fa.tree['x_collimator_exit'] = list(colx)\n",
    "fa.tree['y_collimator_exit'] = list(coly)\n",
    "fa.tree['x_gwa_entrance'] = list(x_gwa_in)\n",
    "fa.tree['y_gwa_entrance'] = list(y_gwa_in)\n",
    "fa.tree['z_gwa_entrance'] = list(z_gwa_in)\n",
    "fa.tree['x_gwa_exit'] = list(x_gwa_out)\n",
    "fa.tree['y_gwa_exit'] = list(y_gwa_out)\n",
    "fa.tree['z_gwa_exit'] = list(z_gwa_out)\n",
    "fa.tree['x_camera_entrance'] = list(x_camera_entrance)\n",
    "fa.tree['y_camera_entrance'] = list(y_camera_entrance)\n",
    "fa.tree['x_fpa'] = list(x_fpa)\n",
    "fa.tree['y_fpa'] = list(y_fpa)\n",
    "fa.tree['x_sca_nrs1'] = list(x_sca_nrs1)\n",
    "fa.tree['y_sca_nrs1'] = list(y_sca_nrs1)\n",
    "fa.tree['x_sca_nrs2'] = list(x_sca_nrs2)\n",
    "fa.tree['y_sca_nrs2'] = list(y_sca_nrs2)\n",
    "fa.tree['x_oteip'] = list(x_oteip)\n",
    "fa.tree['y_oteip'] = list(y_oteip)\n",
    "fa.tree['v2'] = list(v2)\n",
    "fa.tree['v3'] = list(v3)\n",
    "fa.write_to(\"msa_functional.asdf\", all_array_storage=\"internal\")"
   ]
  },
  {
   "cell_type": "code",
   "execution_count": null,
   "metadata": {
    "collapsed": true
   },
   "outputs": [],
   "source": []
  }
 ],
 "metadata": {
  "kernelspec": {
   "display_name": "Python 3",
   "language": "python",
   "name": "python3"
  },
  "language_info": {
   "codemirror_mode": {
    "name": "ipython",
    "version": 3
   },
   "file_extension": ".py",
   "mimetype": "text/x-python",
   "name": "python",
   "nbconvert_exporter": "python",
   "pygments_lexer": "ipython3",
   "version": "3.5.1"
  }
 },
 "nbformat": 4,
 "nbformat_minor": 2
}
