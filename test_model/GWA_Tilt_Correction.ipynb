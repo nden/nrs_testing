{
 "cells": [
  {
   "cell_type": "markdown",
   "metadata": {},
   "source": [
    "## Applying the GWA Tilt correciton"
   ]
  },
  {
   "cell_type": "markdown",
   "metadata": {},
   "source": [
    "We have established two things so far:\n",
    "\n",
    "- The 2 models (ESA and pipeline) are identical if the GWA tilt correction is not applied.\n",
    "  This means the rotation model used in the pipeline is correct, both forward and inverse.\n",
    "  \n",
    "- We agreed on the value of the correction.\n",
    "\n",
    "The model results differ when the correction is applied. The first step they differ is the\n",
    "transform from Collimator to disperser. We have established that the conversion of the coordinates\n",
    "after the collimator from Unitless quantities to directional cosines is identical. \n",
    "We need to agree on the results of the rotation.\n",
    "\n",
    "Task:\n",
    "\n",
    "- Figure out the differences between ('xdispIn','ydispIn') when th e GWA tilt correction is applied."
   ]
  },
  {
   "cell_type": "code",
   "execution_count": 6,
   "metadata": {},
   "outputs": [],
   "source": [
    "from astropy import table\n",
    "import numpy as np\n",
    "\n",
    "from jwst import datamodels\n",
    "from jwst.assign_wcs import nirspec\n",
    "from jwst.transforms import models"
   ]
  },
  {
   "cell_type": "code",
   "execution_count": 7,
   "metadata": {},
   "outputs": [
    {
     "data": {
      "text/plain": [
       "<TableColumns names=('wavelength','xslitpos','yslitpos','xmsapos','ymaspos','xcoll','ycoll','xcolDirCosi','ycolDirCosi','xdispIn','ydispIn','xdispLaw','ydispLaw','xdispOut','ydispOut','xcamCosi','ycamCosi','xfpapos','yfpapos','i','j','SCA','xOTEIP','yOTEIP','xV2V3','yV2V3')>"
      ]
     },
     "execution_count": 7,
     "metadata": {},
     "output_type": "execute_result"
    }
   ],
   "source": [
    "t2 = table.Table.read('/Users/dencheva/Downloads/fixed_slits_functional_ESA_v2.txt', format='ascii')\n",
    "t2.columns"
   ]
  },
  {
   "cell_type": "code",
   "execution_count": 9,
   "metadata": {},
   "outputs": [
    {
     "name": "stdout",
     "output_type": "stream",
     "text": [
      "grating:  G395H\n",
      "angles [deg]:  (0.023015465167583335, -0.03089246914388889, -0.4297395777055556, -8.8)\n",
      "angles [arcsec]:  [    82.8556746    -111.21288892  -1547.06247974 -31680.        ]\n"
     ]
    }
   ],
   "source": [
    "# For G395H grating\n",
    "\n",
    "disperser = datamodels.DisperserModel('jwst_nirspec_disperser_0035.asdf')\n",
    "print('grating: ', disperser.meta.instrument.grating)\n",
    "angles = disperser.theta_x, disperser.theta_y, disperser.theta_z, disperser.tilt_y\n",
    "print('angles [deg]: ', angles)\n",
    "print('angles [arcsec]: ', np.array(angles) * 3600)"
   ]
  },
  {
   "cell_type": "code",
   "execution_count": 11,
   "metadata": {},
   "outputs": [
    {
     "name": "stderr",
     "output_type": "stream",
     "text": [
      "2018-05-21 06:55:45,817 - stpipe - INFO - gwa_ytilt is 0.1260581910610199 deg\n",
      "2018-05-21 06:55:45,818 - stpipe - INFO - gwa_xtilt is 0.3316612243652344 deg\n",
      "2018-05-21 06:55:45,819 - stpipe - INFO - theta_y correction: -0.009545474118238594 deg\n",
      "2018-05-21 06:55:45,822 - stpipe - INFO - theta_x correction: 0.0 deg\n"
     ]
    }
   ],
   "source": [
    "# compute correction\n",
    "gwa_xtilt = 0.3316612243652344\n",
    "gwa_ytilt = 0.1260581910610199\n",
    "\n",
    "disp = nirspec.correct_tilt(disperser, gwa_xtilt, gwa_ytilt)"
   ]
  },
  {
   "cell_type": "code",
   "execution_count": 14,
   "metadata": {},
   "outputs": [
    {
     "name": "stdout",
     "output_type": "stream",
     "text": [
      "Computed theta_y correction:  -0.009545474118238594 deg or -34.36370682565894 arcsec\n"
     ]
    }
   ],
   "source": [
    "print('Computed theta_y correction: ', -0.009545474118238594, \"deg or\", -0.009545474118238594*3600, \"arcsec\")"
   ]
  },
  {
   "cell_type": "code",
   "execution_count": 15,
   "metadata": {},
   "outputs": [
    {
     "name": "stdout",
     "output_type": "stream",
     "text": [
      "angles [deg]:  (0.023015465167583335, -0.04043794326212748, -0.4297395777055556, -8.8)\n",
      "angles [arcsec]:  [    82.8556746    -145.57659574  -1547.06247974 -31680.        ]\n"
     ]
    }
   ],
   "source": [
    "# Angles after correction is applied:\n",
    "\n",
    "angles = disp.theta_x, disp.theta_y, disp.theta_z, disp.tilt_y\n",
    "print('angles [deg]: ', angles)\n",
    "print('angles [arcsec]: ', np.array(angles) * 3600)"
   ]
  },
  {
   "cell_type": "code",
   "execution_count": 16,
   "metadata": {},
   "outputs": [
    {
     "data": {
      "text/plain": [
       "-145.57659574565895"
      ]
     },
     "execution_count": 16,
     "metadata": {},
     "output_type": "execute_result"
    }
   ],
   "source": [
    "# The correction is added to theta_y\n",
    "-111.21288892 - 34.36370682565894"
   ]
  },
  {
   "cell_type": "code",
   "execution_count": 23,
   "metadata": {},
   "outputs": [],
   "source": [
    "# compute the rotation using as inputs 'xcolDirCosi','ycolDirCosi' from the v2 table provided by ESA,\n",
    "# previously agreed to be identical with the pipeline\n",
    "xcolDirCosi, ycolDirCosi = t2['xcolDirCosi'], t2['ycolDirCosi']\n",
    "\n",
    "# ESA result\n",
    "xdispIn, ydispIn = t2['xdispIn'], t2['ydispIn']"
   ]
  },
  {
   "cell_type": "code",
   "execution_count": 21,
   "metadata": {},
   "outputs": [],
   "source": [
    "rotation = models.Rotation3DToGWA(angles, axes_order='xyzy')\n",
    "z = [0.95700321, 0.95714112, 0.95727882, 0.9574163,  0.95755357] # previously checked out as correct\n",
    "xdisp, ydisp, zdisp = rotation.inverse(xcolDirCosi, ycolDirCosi, z)"
   ]
  },
  {
   "cell_type": "code",
   "execution_count": 24,
   "metadata": {},
   "outputs": [
    {
     "name": "stdout",
     "output_type": "stream",
     "text": [
      "diffrence in x:      xcolDirCosi    \n",
      "-------------------\n",
      "-0.2986052814432916\n",
      "-0.2986408001317326\n",
      "-0.2986762521728584\n",
      " -0.298711636023825\n",
      "-0.2987469532012322\n",
      "diffrence in y:        xcolDirCosi      \n",
      "-----------------------\n",
      " -0.0002507571335205183\n",
      "-0.00025079729130894624\n",
      "-0.00025083750915327885\n",
      " -0.0002508777985087418\n",
      "  -0.000250918147751078\n"
     ]
    }
   ],
   "source": [
    "print('diffrence in x: ', xdisp - xdispIn)\n",
    "print('diffrence in y: ', ydisp - ydispIn)"
   ]
  },
  {
   "cell_type": "code",
   "execution_count": 25,
   "metadata": {},
   "outputs": [
    {
     "data": {
      "text/plain": [
       "-68.72741365131787"
      ]
     },
     "execution_count": 25,
     "metadata": {},
     "output_type": "execute_result"
    }
   ],
   "source": [
    "# Hypothetically let's assume the 0.5 factor was not taken into\n",
    "# account when the correction was added to the theta_y angle\n",
    "\n",
    "theta_y_correction = -34.36370682565894 / .5\n",
    "theta_y_correction"
   ]
  },
  {
   "cell_type": "code",
   "execution_count": 32,
   "metadata": {},
   "outputs": [
    {
     "name": "stdout",
     "output_type": "stream",
     "text": [
      "angles [deg]:  (0.023015465167583335, -0.049983417380366074, -0.4297395777055556, -8.8)\n",
      "angles [arcsec]:  [    82.8556746    -179.94030257  -1547.06247974 -31680.        ]\n"
     ]
    }
   ],
   "source": [
    "disperser = datamodels.DisperserModel('jwst_nirspec_disperser_0035.asdf')\n",
    "angles = disperser.theta_x, disperser.theta_y + theta_y_correction/3600., disperser.theta_z, disperser.tilt_y\n",
    "print('angles [deg]: ', angles)\n",
    "print('angles [arcsec]: ', np.array(angles) * 3600)"
   ]
  },
  {
   "cell_type": "code",
   "execution_count": 43,
   "metadata": {},
   "outputs": [],
   "source": [
    "rotation = models.Rotation3DToGWA(angles, axes_order='xyzy')\n",
    "z = [0.95700321, 0.95714112, 0.95727882, 0.9574163,  0.95755357] # previously checked out as correct\n",
    "xdisp, ydisp, zdisp = rotation(xcolDirCosi, ycolDirCosi, z)"
   ]
  },
  {
   "cell_type": "code",
   "execution_count": 44,
   "metadata": {},
   "outputs": [
    {
     "name": "stdout",
     "output_type": "stream",
     "text": [
      "diffrence in x:        xcolDirCosi      \n",
      "-----------------------\n",
      "-3.5083047578154947e-14\n",
      " -5.664912983149861e-14\n",
      " -2.858824288409778e-15\n",
      "-2.7033930649622562e-14\n",
      " 2.7200464103316335e-14\n",
      "diffrence in y:       xcolDirCosi      \n",
      "----------------------\n",
      " -9.06219543850284e-13\n",
      "-1.465771948261363e-12\n",
      " -7.37188088351104e-14\n",
      "-7.029377080414179e-13\n",
      " 7.074341112911497e-13\n"
     ]
    }
   ],
   "source": [
    "print('diffrence in x: ', xdisp - xdispIn)\n",
    "print('diffrence in y: ', ydisp - ydispIn)"
   ]
  },
  {
   "cell_type": "code",
   "execution_count": 47,
   "metadata": {},
   "outputs": [],
   "source": [
    "# Perform the inverse transform, taking as inputs xdispIn, ydispIn from the ESA table\n",
    "# and compare results with xcolDirCosi, ycolDirCosi from table\n",
    "xcol, ycol,zcol = rotation.inverse(xdispIn, ydispIn, zdisp)"
   ]
  },
  {
   "cell_type": "code",
   "execution_count": 49,
   "metadata": {},
   "outputs": [
    {
     "name": "stdout",
     "output_type": "stream",
     "text": [
      "       xdispIn        \n",
      "----------------------\n",
      "4.1223968683112844e-14\n",
      " 6.655787032627813e-14\n",
      "3.3306690738754696e-15\n",
      "3.1787072973799013e-14\n",
      "-3.202299536653186e-14\n"
     ]
    }
   ],
   "source": [
    "print(xcol - xcolDirCosi)"
   ]
  },
  {
   "cell_type": "code",
   "execution_count": 50,
   "metadata": {},
   "outputs": [
    {
     "name": "stdout",
     "output_type": "stream",
     "text": [
      "        xdispIn        \n",
      "-----------------------\n",
      "-2.7755575615628914e-16\n",
      " -4.996003610813204e-16\n",
      " -5.551115123125783e-17\n",
      "-1.6653345369377348e-16\n",
      " 2.7755575615628914e-16\n"
     ]
    }
   ],
   "source": [
    "print(ycol - ycolDirCosi)"
   ]
  },
  {
   "cell_type": "markdown",
   "metadata": {},
   "source": [
    "Conclusions:\n",
    "\n",
    "- It looks like the 0.5 factor is not taken into account when the correction is applied to \n",
    "  the theta_y angle in the ESA test. When removed from the pipeline the forward rotation\n",
    "  results are much closer. The inverse rotation results are identical to machine precision.\n",
    "  \n",
    "- This points to another possible issue. It looks like in the ESA rotation implementation the \n",
    "  results don't roundtrip (the inverse rotation differences are as small as machine precision,\n",
    "  while the forward rotation differences are larger).\n",
    "  \n",
    "- I think that the first issue above is only applicable to the model testing because the \n",
    "  wavelength results from the two complete pipelines agree very well although it's worth checking \n",
    "  the ESA pipeline as well.\n",
    "  \n",
    "- This is all hypothetical because I have no access to the ESA code."
   ]
  },
  {
   "cell_type": "code",
   "execution_count": null,
   "metadata": {},
   "outputs": [],
   "source": []
  }
 ],
 "metadata": {
  "kernelspec": {
   "display_name": "Python 3",
   "language": "python",
   "name": "python3"
  },
  "language_info": {
   "codemirror_mode": {
    "name": "ipython",
    "version": 3
   },
   "file_extension": ".py",
   "mimetype": "text/x-python",
   "name": "python",
   "nbconvert_exporter": "python",
   "pygments_lexer": "ipython3",
   "version": "3.6.5"
  }
 },
 "nbformat": 4,
 "nbformat_minor": 2
}
