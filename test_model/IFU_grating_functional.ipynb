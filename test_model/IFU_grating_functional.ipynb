{
 "cells": [
  {
   "cell_type": "code",
   "execution_count": 1,
   "metadata": {
    "collapsed": true
   },
   "outputs": [],
   "source": [
    "import numpy as np\n",
    "from asdf import AsdfFile\n",
    "from astropy.io import fits\n",
    "from astropy import wcs as astwcs\n",
    "from gwcs import wcs\n",
    "\n",
    "from jwst import datamodels\n",
    "from jwst.assign_wcs import nirspec\n",
    "from jwst.transforms import models"
   ]
  },
  {
   "cell_type": "code",
   "execution_count": 2,
   "metadata": {
    "collapsed": true
   },
   "outputs": [],
   "source": [
    "# These are the CV3 files\n",
    "# It uses the new ifupost and ote files\n",
    "refs = {'camera': '/grp/crds/cache/references/jwst/jwst_nirspec_camera_0004.asdf',\n",
    "        'collimator': '/grp/crds/cache/references/jwst/jwst_nirspec_collimator_0004.asdf',\n",
    "        'disperser': '/grp/crds/cache/references/jwst/jwst_nirspec_disperser_0035.asdf',\n",
    "        'distortion': 'N/A',\n",
    "        'filteroffset': 'N/A',\n",
    "        'fore': '/grp/crds/cache/references/jwst/jwst_nirspec_fore_0022.asdf',\n",
    "        'fpa': '/grp/crds/cache/references/jwst/jwst_nirspec_fpa_0005.asdf',\n",
    "        'ifufore': '/grp/crds/cache/references/jwst/jwst_nirspec_ifufore_0003.asdf',\n",
    "        'ifupost': 'ifupost.asdf',\n",
    "        'ifuslicer': '/grp/crds/cache/references/jwst/jwst_nirspec_ifuslicer_0003.asdf',\n",
    "        'msa': '/grp/crds/cache/references/jwst/jwst_nirspec_msa_0005.asdf',\n",
    "        'ote': 'ote.asdf',\n",
    "        'regions': 'N/A',\n",
    "        'specwcs': 'N/A',\n",
    "        'wavelengthrange': '/grp/crds/cache/references/jwst/jwst_nirspec_wavelengthrange_0004.asdf'}\n"
   ]
  },
  {
   "cell_type": "code",
   "execution_count": 3,
   "metadata": {
    "collapsed": true
   },
   "outputs": [],
   "source": [
    "wcs_kw = {'wcsaxes': 2, 'ra_ref': 165, 'dec_ref': 54,\n",
    "          'v2_ref': -8.3942412, 'v3_ref': -5.3123744, 'roll_ref': 37,\n",
    "          'crpix1': 1024, 'crpix2': 1024,\n",
    "          'cdelt1': .08, 'cdelt2': .08,\n",
    "          'ctype1': 'RA---TAN', 'ctype2': 'DEC--TAN',\n",
    "          'pc1_1': 1, 'pc1_2': 0, 'pc2_1': 0, 'pc2_2': 1\n",
    "          }\n",
    "\n",
    "slit_fields_num = [\"shutter_id\", \"xcen\", \"ycen\",\n",
    "                   \"ymin\", \"ymax\", \"quadrant\", \"source_id\",\n",
    "                   \"stellarity\", \"source_xpos\", \"source_ypos\"]\n",
    "\n",
    "\n",
    "slit_fields_str = [\"name\", \"shutter_state\", \"source_name\", \"source_alias\"]\n"
   ]
  },
  {
   "cell_type": "code",
   "execution_count": 4,
   "metadata": {
    "collapsed": true
   },
   "outputs": [],
   "source": [
    "def create_hdul(detector='NRS1'):\n",
    "    \"\"\"\n",
    "    Create a fits HDUList instance.\n",
    "    \"\"\"\n",
    "    hdul = fits.HDUList()\n",
    "    phdu = fits.PrimaryHDU()\n",
    "    phdu.header['instrume'] = 'NIRSPEC'\n",
    "    phdu.header['detector'] = detector\n",
    "    phdu.header['time-obs'] = '8:59:37'\n",
    "    phdu.header['date-obs'] = '2016-09-05'\n",
    "\n",
    "    scihdu = fits.ImageHDU()\n",
    "    scihdu.header['EXTNAME'] = \"SCI\"\n",
    "    for item in wcs_kw.items():\n",
    "        scihdu.header[item[0]] = item[1]\n",
    "    hdul.append(phdu)\n",
    "    hdul.append(scihdu)\n",
    "    return hdul"
   ]
  },
  {
   "cell_type": "code",
   "execution_count": 5,
   "metadata": {
    "collapsed": true
   },
   "outputs": [],
   "source": [
    "def create_nirspec_ifu_file(filter='F290LP', grating='G395H', lamp='N/A', detector='NRS1'):\n",
    "    image = create_hdul(detector)\n",
    "    image[0].header['exp_type'] = 'NRS_IFU'\n",
    "    image[0].header['filter'] = filter\n",
    "    image[0].header['grating'] = grating\n",
    "    image[1].header['crval3'] = 0\n",
    "    image[1].header['wcsaxes'] = 3\n",
    "    image[1].header['ctype3'] = 'WAVE'\n",
    "    image[0].header['lamp'] = lamp\n",
    "    image[0].header['GWA_XTIL'] = 0.35986012\n",
    "    image[0].header['GWA_YTIL'] = 0.13448857\n",
    "    return image"
   ]
  },
  {
   "cell_type": "code",
   "execution_count": 6,
   "metadata": {},
   "outputs": [
    {
     "name": "stderr",
     "output_type": "stream",
     "text": [
      "2018-06-19 14:28:32,430 - stpipe - INFO - gwa_ytilt is 0.13448857 deg\n",
      "2018-06-19 14:28:32,431 - stpipe - INFO - gwa_xtilt is 0.35986012 deg\n",
      "2018-06-19 14:28:32,432 - stpipe - INFO - theta_y correction: -0.041645342310905185 deg\n",
      "2018-06-19 14:28:32,433 - stpipe - INFO - theta_x correction: 0.0 deg\n",
      "2018-06-19 14:28:45,265 - stpipe - INFO - Created a NIRSPEC nrs_ifu pipeline with references {'wavelengthrange': '/grp/crds/cache/references/jwst/jwst_nirspec_wavelengthrange_0004.asdf', 'fpa': '/grp/crds/cache/references/jwst/jwst_nirspec_fpa_0005.asdf', 'camera': '/grp/crds/cache/references/jwst/jwst_nirspec_camera_0004.asdf', 'collimator': '/grp/crds/cache/references/jwst/jwst_nirspec_collimator_0004.asdf', 'msa': '/grp/crds/cache/references/jwst/jwst_nirspec_msa_0005.asdf', 'regions': 'N/A', 'ifufore': '/grp/crds/cache/references/jwst/jwst_nirspec_ifufore_0003.asdf', 'fore': '/grp/crds/cache/references/jwst/jwst_nirspec_fore_0022.asdf', 'ote': 'ote.asdf', 'ifuslicer': '/grp/crds/cache/references/jwst/jwst_nirspec_ifuslicer_0003.asdf', 'filteroffset': 'N/A', 'distortion': 'N/A', 'specwcs': 'N/A', 'disperser': '/grp/crds/cache/references/jwst/jwst_nirspec_disperser_0035.asdf', 'ifupost': 'ifupost.asdf'}\n"
     ]
    }
   ],
   "source": [
    "!ulimit -n 1024\n",
    "hdul = create_nirspec_ifu_file(grating='G395H', filter='F290LP',  detector='NRS1')\n",
    "im = datamodels.ImageModel(hdul)\n",
    "\n",
    "pipeline = nirspec.create_pipeline(im, refs)\n",
    "w = wcs.WCS(pipeline)\n",
    "im.meta.wcs = w"
   ]
  },
  {
   "cell_type": "code",
   "execution_count": 7,
   "metadata": {
    "collapsed": true
   },
   "outputs": [],
   "source": [
    "# Setup the test\n",
    "slitx = [0] * 5\n",
    "slity = [-.5, -.25, 0, .25, .5]\n",
    "wave_range = [2.87e-06, 5.27e-06]\n",
    "lam = np.array([2.9, 3.39, 3.88, 4.37, 5]) * 10**-6\n",
    "\n",
    "order, wrange = nirspec.get_spectral_order_wrange(im, refs['wavelengthrange'])\n",
    "im.meta.wcsinfo.sporder = order\n",
    "im.meta.wcsinfo.waverange_start = wrange[0]\n",
    "im.meta.wcsinfo.waverange_end = wrange[1]\n",
    "# Use slice 0\n",
    "slit_wcs = nirspec.nrs_wcs_set_input(im, 0)\n"
   ]
  },
  {
   "cell_type": "code",
   "execution_count": 8,
   "metadata": {},
   "outputs": [
    {
     "name": "stdout",
     "output_type": "stream",
     "text": [
      "slitx:  [0, 0, 0, 0, 0]\n",
      "slity:  [-0.5, -0.25, 0, 0.25, 0.5]\n",
      "msax:  [ 0.04131163  0.04131081  0.04131053  0.04131081  0.04131163]\n",
      "msay:  [ -6.16116144e-04  -3.08195439e-04   3.09418172e-09   3.08202387e-04\n",
      "   6.16125124e-04]\n"
     ]
    }
   ],
   "source": [
    "# Slit to MSA entrance\n",
    "# This includes the Slicer transform and the IFUFORE transform\n",
    "slit2msa = slit_wcs.get_transform('slit_frame', 'msa_frame')\n",
    "msax, msay, _= slit2msa(slitx, slity, lam)\n",
    "print('slitx: ', slitx )\n",
    "print('slity: ', slity)\n",
    "print('msax: ', msax)\n",
    "print('msay: ', msay)\n"
   ]
  },
  {
   "cell_type": "code",
   "execution_count": 9,
   "metadata": {},
   "outputs": [
    {
     "name": "stdout",
     "output_type": "stream",
     "text": [
      "x_slicer:  [ 0.0004  0.0004  0.0004  0.0004  0.0004]\n",
      "y_slicer: [-0.006 -0.003  0.     0.003  0.006]\n"
     ]
    }
   ],
   "source": [
    "# Slicer\n",
    "slit2slicer = slit_wcs.get_transform('slit_frame', 'slicer')\n",
    "x_slicer, y_slicer, _ = slit2slicer(slitx, slity, lam)\n",
    "print('x_slicer: ', x_slicer)\n",
    "print('y_slicer:', y_slicer)"
   ]
  },
  {
   "cell_type": "code",
   "execution_count": 10,
   "metadata": {},
   "outputs": [
    {
     "name": "stdout",
     "output_type": "stream",
     "text": [
      "x_msa_exit:  [ 0.04862197  0.04861941  0.04861821  0.04861838  0.04861992]\n",
      "y_msa_exit:  [ 0.00794002  0.00824178  0.00854341  0.00884478  0.00914578]\n"
     ]
    }
   ],
   "source": [
    "# MSA exit\n",
    "# Applies the IFUPOST transform to coordinates at the Slicer\n",
    "ifupost = datamodels.IFUPostModel('ifupost.asdf')\n",
    "ifupost_transform = nirspec._create_ifupost_transform(ifupost.slice_0)\n",
    "x_msa_exit, y_msa_exit = ifupost_transform(x_slicer, y_slicer, lam)\n",
    "ifupost.close()\n",
    "print('x_msa_exit: ', x_msa_exit)\n",
    "print('y_msa_exit: ', y_msa_exit)"
   ]
  },
  {
   "cell_type": "code",
   "execution_count": 11,
   "metadata": {},
   "outputs": [
    {
     "name": "stdout",
     "output_type": "stream",
     "text": [
      "x_collimator_exit [ 0.07443997  0.07443401  0.07443022  0.07442859  0.07442913]\n",
      "y_collimator_exit [-0.28242043 -0.28192622 -0.28143237 -0.28093908 -0.28044655]\n"
     ]
    }
   ],
   "source": [
    "# Coordinates at Collimator exit\n",
    "# Applies the Collimator forward transform to coordinates at the MSA exit\n",
    "col = datamodels.open(refs['collimator'])\n",
    "colx, coly = col.model.inverse(x_msa_exit, y_msa_exit)\n",
    "col.close()\n",
    "print('x_collimator_exit', colx)\n",
    "print('y_collimator_exit', coly)"
   ]
  },
  {
   "cell_type": "code",
   "execution_count": 12,
   "metadata": {},
   "outputs": [
    {
     "name": "stderr",
     "output_type": "stream",
     "text": [
      "2018-06-19 14:28:47,983 - stpipe - INFO - gwa_ytilt is 0.13448857 deg\n",
      "2018-06-19 14:28:47,984 - stpipe - INFO - gwa_xtilt is 0.35986012 deg\n",
      "2018-06-19 14:28:47,985 - stpipe - INFO - theta_y correction: -0.041645342310905185 deg\n",
      "2018-06-19 14:28:47,986 - stpipe - INFO - theta_x correction: 0.0 deg\n"
     ]
    },
    {
     "name": "stdout",
     "output_type": "stream",
     "text": [
      "x_gwa_entrance: [ 0.22067237  0.22069163  0.22071285  0.22073601  0.22076113]\n",
      "y_gwa_entrance: [-0.27015622 -0.26971665 -0.26927718 -0.26883799 -0.26839925]\n",
      "z_gwa_entrance: [ 0.93718692  0.93730899  0.93743034  0.93755093  0.93767071]\n"
     ]
    }
   ],
   "source": [
    "# Slit to GWA entrance\n",
    "# applies the Collimator forward, Unitless to Directional and 3D Rotation to MSA exit coordinates\n",
    "disp = datamodels.DisperserModel(refs['disperser'])\n",
    "disperser = nirspec.correct_tilt(disp, im.meta.instrument.gwa_xtilt, im.meta.instrument.gwa_ytilt)\n",
    "collimator2gwa = nirspec.collimator_to_gwa(refs, disperser)\n",
    "x_gwa_in, y_gwa_in, z_gwa_in = collimator2gwa(x_msa_exit, y_msa_exit)\n",
    "disp.close()\n",
    "print('x_gwa_entrance:' , x_gwa_in)\n",
    "print('y_gwa_entrance:' , y_gwa_in)\n",
    "print('z_gwa_entrance:' , z_gwa_in)"
   ]
  },
  {
   "cell_type": "code",
   "execution_count": 13,
   "metadata": {},
   "outputs": [
    {
     "name": "stdout",
     "output_type": "stream",
     "text": [
      "x_gwa_exit: [ 0.03861286  0.08240387  0.12619291  0.16998001  0.22628237]\n",
      "y_gwa_exit: [ 0.27015622  0.26971665  0.26927718  0.26883799  0.26839925]\n",
      "z_gwa_exit: [ 0.96204192  0.95940739  0.95475921  0.948068    0.93635364]\n"
     ]
    }
   ],
   "source": [
    "# Slit to GWA out\n",
    "# Runs slit--> slicer --> msa_exit --> collimator --> dircos --> rotation --> angle_from_grating equation\n",
    "slit2gwa = slit_wcs.get_transform('slit_frame', 'gwa')\n",
    "x_gwa_out, y_gwa_out, z_gwa_out = slit2gwa(slitx, slity, lam)\n",
    "print('x_gwa_exit:' , x_gwa_out)\n",
    "print('y_gwa_exit:' , y_gwa_out)\n",
    "print('z_gwa_exit:' , z_gwa_out)"
   ]
  },
  {
   "cell_type": "code",
   "execution_count": 14,
   "metadata": {},
   "outputs": [
    {
     "name": "stdout",
     "output_type": "stream",
     "text": [
      "x_camera_entrance: [-0.11311156 -0.06716992 -0.02134772  0.02464534  0.08453302]\n",
      "y_camera_entrance: [ 0.28285903  0.28083671  0.27940655  0.27856425  0.27849854]\n"
     ]
    }
   ],
   "source": [
    "# CAMERA entrance (assuming direction is from sky to detector)\n",
    "angles = [disperser['theta_x'], disperser['theta_y'],\n",
    "          disperser['theta_z'], disperser['tilt_y']]\n",
    "rotation = models.Rotation3DToGWA(angles, axes_order=\"xyzy\", name='rotation')\n",
    "dircos2unitless = models.DirCos2Unitless()\n",
    "\n",
    "gwa2cam = rotation.inverse | dircos2unitless\n",
    "x_camera_entrance, y_camera_entrance = gwa2cam(x_gwa_out, y_gwa_out, z_gwa_out)\n",
    "print('x_camera_entrance:' , x_camera_entrance)\n",
    "print('y_camera_entrance:' , y_camera_entrance)"
   ]
  },
  {
   "cell_type": "code",
   "execution_count": 15,
   "metadata": {},
   "outputs": [
    {
     "name": "stdout",
     "output_type": "stream",
     "text": [
      "x_fpa:  [-0.03260156 -0.0196373  -0.00661481  0.00648947  0.02349652]\n",
      "y_fpa:  [-0.00354315 -0.0038227  -0.00402751 -0.00416094 -0.00418796]\n"
     ]
    }
   ],
   "source": [
    "# at FPA\n",
    "camera = datamodels.CameraModel(refs['camera'])\n",
    "x_fpa, y_fpa = camera.model.inverse(x_camera_entrance, y_camera_entrance)\n",
    "camera.close()\n",
    "print('x_fpa: ', x_fpa )\n",
    "print('y_fpa: ' , y_fpa)"
   ]
  },
  {
   "cell_type": "code",
   "execution_count": 16,
   "metadata": {},
   "outputs": [
    {
     "name": "stdout",
     "output_type": "stream",
     "text": [
      "x_sca1:  [  309.40456252  1029.64117666  1753.11275396  2481.12822002  3425.96453057]\n",
      "y_sca1:  [ 826.65806896  811.1275858   799.74961365  792.33653939  790.83550167]\n",
      "x_sca2:  [ 3931.81779465  3211.58141255  2488.11000527  1760.09465002   815.25836199]\n",
      "y_sca2:  [ 1220.24684926  1235.78808985  1247.17686774  1254.60081562  1256.11596538]\n"
     ]
    }
   ],
   "source": [
    "# at SCA\n",
    "slit2sca = slit_wcs.get_transform('slit_frame', 'sca')\n",
    "x_sca_nrs1, y_sca_nrs1 = slit2sca(slitx, slity, lam)\n",
    "\n",
    "# At NRS2\n",
    "fpa = datamodels.FPAModel(refs['fpa'])\n",
    "x_sca_nrs2, y_sca_nrs2 = fpa.nrs2_model.inverse(x_fpa, y_fpa)\n",
    "fpa.close()\n",
    "print('x_sca1: ', x_sca_nrs1)\n",
    "print('y_sca1: ' , y_sca_nrs1)\n",
    "print('x_sca2: ', x_sca_nrs2 )\n",
    "print('y_sca2: ' , y_sca_nrs2)"
   ]
  },
  {
   "cell_type": "code",
   "execution_count": 17,
   "metadata": {},
   "outputs": [
    {
     "name": "stdout",
     "output_type": "stream",
     "text": [
      "x_oteip:  [ 0.05010543  0.05044043  0.05077637  0.05111296  0.05145047]\n",
      "y_oteip:  [-0.04489819 -0.04451235 -0.04412679 -0.04374186 -0.04335772]\n"
     ]
    }
   ],
   "source": [
    "# at oteip\n",
    "# Goes through slicer, ifufore, and fore transforms\n",
    "slit2oteip = slit_wcs.get_transform('slit_frame', 'oteip')\n",
    "x_oteip, y_oteip, _ = slit2oteip(slitx, slity, lam)\n",
    "print('x_oteip: ', x_oteip)\n",
    "print('y_oteip: ' , y_oteip)"
   ]
  },
  {
   "cell_type": "code",
   "execution_count": 18,
   "metadata": {},
   "outputs": [
    {
     "name": "stdout",
     "output_type": "stream",
     "text": [
      "v2:  [ 0.08365329  0.08350689  0.08336007  0.08321298  0.08306549]\n",
      "v3:  [-0.1387331  -0.13856511 -0.13839724 -0.13822965 -0.1380624 ]\n"
     ]
    }
   ],
   "source": [
    "# at v2, v3 [in arcsec]\n",
    "slit2v23 = slit_wcs.get_transform('slit_frame', 'v2v3')\n",
    "v2, v3, _ = slit2v23(slitx, slity, lam)\n",
    "v2 /= 3600\n",
    "v3 /= 3600\n",
    "print('v2: ', v2)\n",
    "print('v3: ' , v3)"
   ]
  },
  {
   "cell_type": "code",
   "execution_count": 19,
   "metadata": {
    "collapsed": true
   },
   "outputs": [],
   "source": [
    "# Save results to an asdf file\n",
    "\n",
    "fa = AsdfFile()\n",
    "fa.tree['slitx'] = list(slitx)\n",
    "fa.tree['slity'] = list(slity)\n",
    "fa.tree['lam'] = list(lam)\n",
    "fa.tree['msax'] = list(msax)\n",
    "fa.tree['msay'] = list(msay)\n",
    "fa.tree['x_collimator_exit'] = list(colx)\n",
    "fa.tree['y_collimator_exit'] = list(coly)\n",
    "fa.tree['x_gwa_entrance'] = list(x_gwa_in)\n",
    "fa.tree['y_gwa_entrance'] = list(y_gwa_in)\n",
    "fa.tree['z_gwa_entrance'] = list(z_gwa_in)\n",
    "fa.tree['x_gwa_exit'] = list(x_gwa_out)\n",
    "fa.tree['y_gwa_exit'] = list(y_gwa_out)\n",
    "fa.tree['z_gwa_exit'] = list(z_gwa_out)\n",
    "fa.tree['x_camera_entrance'] = list(x_camera_entrance)\n",
    "fa.tree['y_camera_entrance'] = list(y_camera_entrance)\n",
    "fa.tree['x_fpa'] = list(x_fpa)\n",
    "fa.tree['y_fpa'] = list(y_fpa)\n",
    "fa.tree['x_sca_nrs1'] = list(x_sca_nrs1)\n",
    "fa.tree['y_sca_nrs1'] = list(y_sca_nrs1)\n",
    "fa.tree['x_sca_nrs2'] = list(x_sca_nrs2)\n",
    "fa.tree['y_sca_nrs2'] = list(y_sca_nrs2)\n",
    "fa.tree['x_oteip'] = list(x_oteip)\n",
    "fa.tree['y_oteip'] = list(y_oteip)\n",
    "fa.tree['v2'] = list(v2)\n",
    "fa.tree['v3'] = list(v3)\n",
    "fa.tree['x_slicer'] = list(x_slicer)\n",
    "fa.tree['y_slicer'] = list(y_slicer)\n",
    "fa.tree['x_msa_exit'] = list(x_msa_exit)\n",
    "fa.tree['y_msa_exit'] = list(y_msa_exit)\n",
    "fa.write_to(\"ifu_grating_functional.asdf\", all_array_storage=\"internal\")"
   ]
  },
  {
   "cell_type": "code",
   "execution_count": null,
   "metadata": {
    "collapsed": true
   },
   "outputs": [],
   "source": []
  }
 ],
 "metadata": {
  "kernelspec": {
   "display_name": "Python 3",
   "language": "python",
   "name": "python3"
  },
  "language_info": {
   "codemirror_mode": {
    "name": "ipython",
    "version": 3
   },
   "file_extension": ".py",
   "mimetype": "text/x-python",
   "name": "python",
   "nbconvert_exporter": "python",
   "pygments_lexer": "ipython3",
   "version": "3.5.1"
  }
 },
 "nbformat": 4,
 "nbformat_minor": 2
}
