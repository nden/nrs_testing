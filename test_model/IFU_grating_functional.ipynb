{
 "cells": [
  {
   "cell_type": "code",
   "execution_count": 1,
   "metadata": {
    "collapsed": true
   },
   "outputs": [],
   "source": [
    "import numpy as np\n",
    "from asdf import AsdfFile\n",
    "from astropy.io import fits\n",
    "from astropy import wcs as astwcs\n",
    "from astropy import table\n",
    "from gwcs import wcs\n",
    "\n",
    "from jwst import datamodels\n",
    "from jwst.assign_wcs import nirspec\n",
    "from jwst.transforms import models"
   ]
  },
  {
   "cell_type": "code",
   "execution_count": 2,
   "metadata": {
    "collapsed": true
   },
   "outputs": [],
   "source": [
    "# These are the CV3 files\n",
    "# It uses the new ifupost and ote files\n",
    "refs = {'camera': '/grp/crds/cache/references/jwst/jwst_nirspec_camera_0004.asdf',\n",
    "        'collimator': '/grp/crds/cache/references/jwst/jwst_nirspec_collimator_0004.asdf',\n",
    "        'disperser': '/grp/crds/cache/references/jwst/jwst_nirspec_disperser_0035.asdf',\n",
    "        'distortion': 'N/A',\n",
    "        'filteroffset': 'N/A',\n",
    "        'fore': '/grp/crds/cache/references/jwst/jwst_nirspec_fore_0022.asdf',\n",
    "        'fpa': '/grp/crds/cache/references/jwst/jwst_nirspec_fpa_0005.asdf',\n",
    "        'ifufore': '/grp/crds/cache/references/jwst/jwst_nirspec_ifufore_0003.asdf',\n",
    "        'ifupost': 'ifupost.asdf',\n",
    "        'ifuslicer': '/grp/crds/cache/references/jwst/jwst_nirspec_ifuslicer_0003.asdf',\n",
    "        'msa': '/grp/crds/cache/references/jwst/jwst_nirspec_msa_0005.asdf',\n",
    "        'ote': 'ote.asdf',\n",
    "        'regions': 'N/A',\n",
    "        'specwcs': 'N/A',\n",
    "        'wavelengthrange': '/grp/crds/cache/references/jwst/jwst_nirspec_wavelengthrange_0004.asdf'}\n"
   ]
  },
  {
   "cell_type": "code",
   "execution_count": 3,
   "metadata": {
    "collapsed": true
   },
   "outputs": [],
   "source": [
    "wcs_kw = {'wcsaxes': 2, 'ra_ref': 165, 'dec_ref': 54,\n",
    "          'v2_ref': -8.3942412, 'v3_ref': -5.3123744, 'roll_ref': 37,\n",
    "          'crpix1': 1024, 'crpix2': 1024,\n",
    "          'cdelt1': .08, 'cdelt2': .08,\n",
    "          'ctype1': 'RA---TAN', 'ctype2': 'DEC--TAN',\n",
    "          'pc1_1': 1, 'pc1_2': 0, 'pc2_1': 0, 'pc2_2': 1\n",
    "          }\n",
    "\n",
    "slit_fields_num = [\"shutter_id\", \"xcen\", \"ycen\",\n",
    "                   \"ymin\", \"ymax\", \"quadrant\", \"source_id\",\n",
    "                   \"stellarity\", \"source_xpos\", \"source_ypos\"]\n",
    "\n",
    "\n",
    "slit_fields_str = [\"name\", \"shutter_state\", \"source_name\", \"source_alias\"]\n"
   ]
  },
  {
   "cell_type": "code",
   "execution_count": 4,
   "metadata": {
    "collapsed": true
   },
   "outputs": [],
   "source": [
    "t = table.Table.read('/home/dencheva/data/astropy/test-nrs/nrs_testing/test_model/ifu_grating_functional_ESA_v1_20180619.txt', format='ascii')\n",
    "#t.columns"
   ]
  },
  {
   "cell_type": "code",
   "execution_count": 5,
   "metadata": {
    "collapsed": true
   },
   "outputs": [],
   "source": [
    "def create_hdul(detector='NRS1'):\n",
    "    \"\"\"\n",
    "    Create a fits HDUList instance.\n",
    "    \"\"\"\n",
    "    hdul = fits.HDUList()\n",
    "    phdu = fits.PrimaryHDU()\n",
    "    phdu.header['instrume'] = 'NIRSPEC'\n",
    "    phdu.header['detector'] = detector\n",
    "    phdu.header['time-obs'] = '8:59:37'\n",
    "    phdu.header['date-obs'] = '2016-09-05'\n",
    "\n",
    "    scihdu = fits.ImageHDU()\n",
    "    scihdu.header['EXTNAME'] = \"SCI\"\n",
    "    for item in wcs_kw.items():\n",
    "        scihdu.header[item[0]] = item[1]\n",
    "    hdul.append(phdu)\n",
    "    hdul.append(scihdu)\n",
    "    return hdul"
   ]
  },
  {
   "cell_type": "code",
   "execution_count": 6,
   "metadata": {
    "collapsed": true
   },
   "outputs": [],
   "source": [
    "def create_nirspec_ifu_file(filter='F290LP', grating='G395H', lamp='N/A', detector='NRS1'):\n",
    "    image = create_hdul(detector)\n",
    "    image[0].header['exp_type'] = 'NRS_IFU'\n",
    "    image[0].header['filter'] = filter\n",
    "    image[0].header['grating'] = grating\n",
    "    image[1].header['crval3'] = 0\n",
    "    image[1].header['wcsaxes'] = 3\n",
    "    image[1].header['ctype3'] = 'WAVE'\n",
    "    image[0].header['lamp'] = lamp\n",
    "    image[0].header['GWA_XTIL'] = 0.35986012\n",
    "    image[0].header['GWA_YTIL'] = 0.13448857\n",
    "    return image"
   ]
  },
  {
   "cell_type": "code",
   "execution_count": 7,
   "metadata": {},
   "outputs": [
    {
     "name": "stderr",
     "output_type": "stream",
     "text": [
      "2018-06-20 10:59:19,794 - stpipe - INFO - gwa_ytilt is 0.13448857 deg\n",
      "2018-06-20 10:59:19,795 - stpipe - INFO - gwa_xtilt is 0.35986012 deg\n",
      "2018-06-20 10:59:19,796 - stpipe - INFO - theta_y correction: -0.041645342310905185 deg\n",
      "2018-06-20 10:59:19,798 - stpipe - INFO - theta_x correction: 0.0 deg\n",
      "2018-06-20 10:59:32,696 - stpipe - INFO - Created a NIRSPEC nrs_ifu pipeline with references {'wavelengthrange': '/grp/crds/cache/references/jwst/jwst_nirspec_wavelengthrange_0004.asdf', 'disperser': '/grp/crds/cache/references/jwst/jwst_nirspec_disperser_0035.asdf', 'msa': '/grp/crds/cache/references/jwst/jwst_nirspec_msa_0005.asdf', 'fpa': '/grp/crds/cache/references/jwst/jwst_nirspec_fpa_0005.asdf', 'ifufore': '/grp/crds/cache/references/jwst/jwst_nirspec_ifufore_0003.asdf', 'filteroffset': 'N/A', 'ote': 'ote.asdf', 'fore': '/grp/crds/cache/references/jwst/jwst_nirspec_fore_0022.asdf', 'collimator': '/grp/crds/cache/references/jwst/jwst_nirspec_collimator_0004.asdf', 'regions': 'N/A', 'distortion': 'N/A', 'ifuslicer': '/grp/crds/cache/references/jwst/jwst_nirspec_ifuslicer_0003.asdf', 'camera': '/grp/crds/cache/references/jwst/jwst_nirspec_camera_0004.asdf', 'specwcs': 'N/A', 'ifupost': 'ifupost.asdf'}\n"
     ]
    }
   ],
   "source": [
    "!ulimit -n 1024\n",
    "hdul = create_nirspec_ifu_file(grating='G395H', filter='F290LP',  detector='NRS1')\n",
    "im = datamodels.ImageModel(hdul)\n",
    "\n",
    "pipeline = nirspec.create_pipeline(im, refs)\n",
    "w = wcs.WCS(pipeline)\n",
    "im.meta.wcs = w"
   ]
  },
  {
   "cell_type": "code",
   "execution_count": 8,
   "metadata": {
    "collapsed": true
   },
   "outputs": [],
   "source": [
    "# Setup the test\n",
    "slitx = [0] * 5\n",
    "slity = [-.5, -.25, 0, .25, .5]\n",
    "wave_range = [2.87e-06, 5.27e-06]\n",
    "lam = np.array([2.9, 3.39, 3.88, 4.37, 5]) * 10**-6\n",
    "\n",
    "order, wrange = nirspec.get_spectral_order_wrange(im, refs['wavelengthrange'])\n",
    "im.meta.wcsinfo.sporder = order\n",
    "im.meta.wcsinfo.waverange_start = wrange[0]\n",
    "im.meta.wcsinfo.waverange_end = wrange[1]\n",
    "# Use slice 0\n",
    "slit_wcs = nirspec.nrs_wcs_set_input(im, 0)\n"
   ]
  },
  {
   "cell_type": "code",
   "execution_count": 9,
   "metadata": {},
   "outputs": [
    {
     "name": "stdout",
     "output_type": "stream",
     "text": [
      "slitx:  [0, 0, 0, 0, 0]\n",
      "slity:  [-0.5, -0.25, 0, 0.25, 0.5]\n",
      "msax:  [ 0.04131163  0.04131081  0.04131053  0.04131081  0.04131163]\n",
      "msay:  [ -6.16116144e-04  -3.08195439e-04   3.09418172e-09   3.08202387e-04\n",
      "   6.16125124e-04]\n",
      "diff slitx xslitpos\n",
      "--------\n",
      "       0\n",
      "       0\n",
      "       0\n",
      "       0\n",
      "       0\n",
      "diff slity yslitpos\n",
      "--------\n",
      "     0.0\n",
      "     0.0\n",
      "     0.0\n",
      "     0.0\n",
      "     0.0\n",
      "diff x_msa      xmsapos     \n",
      "-----------------\n",
      "-0.00731033692549\n",
      " -0.0073085984888\n",
      "-0.00730768015109\n",
      " -0.0073075728071\n",
      "-0.00730828525063\n",
      "diff y_msa      ymaspos     \n",
      "-----------------\n",
      "-0.00855614006785\n",
      "-0.00854997507501\n",
      "-0.00854340482798\n",
      "-0.00853657871193\n",
      "-0.00852965789751\n"
     ]
    }
   ],
   "source": [
    "# Slit to MSA entrance\n",
    "# This includes the Slicer transform and the IFUFORE transform\n",
    "slit2msa = slit_wcs.get_transform('slit_frame', 'msa_frame')\n",
    "msax, msay, _= slit2msa(slitx, slity, lam)\n",
    "print('slitx: ', slitx )\n",
    "print('slity: ', slity)\n",
    "print('msax: ', msax)\n",
    "print('msay: ', msay)\n",
    "print('diff slitx', slitx - t['xslitpos'])\n",
    "print('diff slity', slity - t['yslitpos'])\n",
    "print('diff x_msa', msax - t['xmsapos'])\n",
    "print('diff y_msa', msay - t['ymaspos'])\n"
   ]
  },
  {
   "cell_type": "code",
   "execution_count": 10,
   "metadata": {},
   "outputs": [
    {
     "name": "stdout",
     "output_type": "stream",
     "text": [
      "x_slicer:  [ 0.0004  0.0004  0.0004  0.0004  0.0004]\n",
      "y_slicer: [-0.006 -0.003  0.     0.003  0.006]\n",
      "0.000399999989895 -0.00600000005215\n"
     ]
    }
   ],
   "source": [
    "# Slicer\n",
    "slit2slicer = slit_wcs.get_transform('slit_frame', 'slicer')\n",
    "x_slicer, y_slicer, _ = slit2slicer(slitx, slity, lam)\n",
    "print('x_slicer: ', x_slicer)\n",
    "print('y_slicer:', y_slicer)\n",
    "print(x_slicer[0], y_slicer[0])"
   ]
  },
  {
   "cell_type": "code",
   "execution_count": 11,
   "metadata": {},
   "outputs": [
    {
     "name": "stdout",
     "output_type": "stream",
     "text": [
      "x_msa_exit:  [ 0.04862197  0.04861941  0.04861821  0.04861838  0.04861992]\n",
      "y_msa_exit:  [ 0.00794002  0.00824178  0.00854341  0.00884478  0.00914578]\n",
      "x_msa_exit:  [ 0.04862197  0.04861941  0.04861821  0.04861838  0.04861992]\n",
      "y_msa_exit:  [ 0.00794002  0.00824178  0.00854341  0.00884478  0.00914578]\n",
      "diff x_msa      xmsapos      \n",
      "------------------\n",
      " 5.20312959384e-13\n",
      "-2.79785222768e-12\n",
      "-7.32559846117e-13\n",
      "-1.23519250383e-13\n",
      "-2.09762762715e-14\n",
      "diff y_msa      ymaspos      \n",
      "------------------\n",
      "-8.42248146227e-13\n",
      " 9.06556080205e-13\n",
      " 2.22133075822e-13\n",
      "  1.2788832493e-12\n",
      " -1.8511737282e-12\n"
     ]
    }
   ],
   "source": [
    "# MSA exit\n",
    "# Applies the IFUPOST transform to coordinates at the Slicer\n",
    "ifupost = datamodels.IFUPostModel('ifupost.asdf')\n",
    "ifupost_transform = nirspec._create_ifupost_transform(ifupost.slice_0)\n",
    "x_msa_exit, y_msa_exit = ifupost_transform(x_slicer, y_slicer, lam)\n",
    "ifupost.close()\n",
    "print('x_msa_exit: ', x_msa_exit)\n",
    "print('y_msa_exit: ', y_msa_exit)\n",
    "print('x_msa_exit: ', x_msa_exit)\n",
    "print('y_msa_exit: ', y_msa_exit)\n",
    "print('diff x_msa', x_msa_exit - t['xmsapos'])\n",
    "print('diff y_msa', y_msa_exit - t['ymaspos'])"
   ]
  },
  {
   "cell_type": "code",
   "execution_count": 12,
   "metadata": {},
   "outputs": [
    {
     "name": "stdout",
     "output_type": "stream",
     "text": [
      "ifupost_y 0.007940023923424633\n",
      "diff with table -8.52651282912e-13\n",
      "diff with pipeline -1.04031366854e-14\n"
     ]
    }
   ],
   "source": [
    "# Computations are done using the eact form of the equations in the reports\n",
    "from math import cos, sin\n",
    "# Part I of the Forward IFU-POST transform - the linear transform\n",
    "xc_out = 0.0487158154447 \n",
    "yc_out = 0.00856211956976\n",
    "xc_in = 0.000355277216\n",
    "yc_in = -3.0089012e-05\n",
    "theta = np.deg2rad(-0.129043957046)\n",
    "factor_x = 0.100989874454\n",
    "factor_y = 0.100405184145\n",
    "\n",
    "# Slicer coordinates\n",
    "xS = 0.000399999989895\n",
    "yS = -0.00600000005215\n",
    "\n",
    "x = xc_out + factor_x * (+cos(theta) * (xS - xc_in ) + sin(theta) * (yS - yc_in ))\n",
    "y = yc_out + factor_y * (-sin(theta) * (xS - xc_in ) + cos(theta) * (yS - yc_in))\n",
    "\n",
    "# Forward IFU-POST II part - non-linear transform\n",
    "\n",
    "lam = 2.9e-6\n",
    "\n",
    "# From the IFU-POST reference file for Slice 0, only the transform in y:\n",
    "\n",
    "y_forw ={         \n",
    "              'c0_0':-82.3492267824,\n",
    "              'c0_1':29234.6982762,\n",
    "              'c0_2':-540260.780853,\n",
    "              'c0_3':771881.305018,\n",
    "              'c0_4':-2563462.26848,\n",
    "              'c0_5': 29914272.1164,\n",
    "              'c1_0':4513.04082605,\n",
    "              'c1_1':-2212869.44311,\n",
    "              'c1_2':32875633.0303,\n",
    "              'c1_3':-29923698.5288,\n",
    "              'c1_4':27293902.5636,\n",
    "              'c2_0':-39820.4434726,\n",
    "              'c2_1':62431493.9962,\n",
    "              'c2_2':-667197265.033,\n",
    "              'c2_3':297253538.182,\n",
    "              'c3_0':-1838860.86305,\n",
    "              'c3_1':-777169857.2,\n",
    "              'c3_2':4514693865.7,\n",
    "              'c4_0':42790637.764,\n",
    "              'c4_1':3596423850.94,\n",
    "              'c5_0':-260274017.448,\n",
    "              }\n",
    "y_forw_dist = {\n",
    "              'c0_0':188531839.97,\n",
    "              'c0_1':-43453434864.0,\n",
    "              'c0_2':70807756765.8,\n",
    "              'c0_3':-308272809909.0,\n",
    "              'c0_4':159768473071.0,\n",
    "              'c0_5':9.71263334459e+12,\n",
    "              'c1_0':-11762923852.9,\n",
    "              'c1_1':3.54593887319e+12,\n",
    "              'c1_2':-4.19864365542e+12,\n",
    "              'c1_3':1.25456429831e+13,\n",
    "              'c1_4':-1.17070515916e+13,\n",
    "              'c2_0':173091230285.0,\n",
    "              'c2_1':-1.08534069056e+14,\n",
    "              'c2_2':8.28933480976e+13,\n",
    "              'c2_3':-1.24708740989e+14,\n",
    "              'c3_0':2.77438975799e+12,\n",
    "              'c3_1':1.4767797203e+15,\n",
    "              'c3_2':-5.45358301961e+14,\n",
    "              'c4_0':-9.31015579941e+13,\n",
    "              'c4_1':-7.53689063943e+15,\n",
    "              'c5_0':6.46310545048e+14,\n",
    "              }\n",
    "\n",
    "y_coeff = {}\n",
    "y_coeff['c0_0'] = y_forw['c0_0'] + lam * y_forw_dist['c0_0']\n",
    "y_coeff['c0_1'] = y_forw['c0_1'] + lam * y_forw_dist['c0_1']\n",
    "y_coeff['c0_2'] = y_forw['c0_2'] + lam * y_forw_dist['c0_2']\n",
    "y_coeff['c0_3'] = y_forw['c0_3'] + lam * y_forw_dist['c0_3']\n",
    "y_coeff['c0_4'] = y_forw['c0_4'] + lam * y_forw_dist['c0_4']\n",
    "y_coeff['c0_5'] = y_forw['c0_5'] + lam * y_forw_dist['c0_5']\n",
    "y_coeff['c1_0'] = y_forw['c1_0'] + lam * y_forw_dist['c1_0']\n",
    "y_coeff['c1_1'] = y_forw['c1_1'] + lam * y_forw_dist['c1_1']\n",
    "y_coeff['c1_2'] = y_forw['c1_2'] + lam * y_forw_dist['c1_2']\n",
    "y_coeff['c1_3'] = y_forw['c1_3'] + lam * y_forw_dist['c1_3']\n",
    "y_coeff['c1_4'] = y_forw['c1_4'] + lam * y_forw_dist['c1_4']\n",
    "y_coeff['c2_0'] = y_forw['c2_0'] + lam * y_forw_dist['c2_0']\n",
    "y_coeff['c2_1'] = y_forw['c2_1'] + lam * y_forw_dist['c2_1']\n",
    "y_coeff['c2_2'] = y_forw['c2_2'] + lam * y_forw_dist['c2_2']\n",
    "y_coeff['c2_3'] = y_forw['c2_3'] + lam * y_forw_dist['c2_3']\n",
    "y_coeff['c3_0'] = y_forw['c3_0'] + lam * y_forw_dist['c3_0']\n",
    "y_coeff['c3_1'] = y_forw['c3_1'] + lam * y_forw_dist['c3_1']\n",
    "y_coeff['c3_2'] = y_forw['c3_2'] + lam * y_forw_dist['c3_2']\n",
    "y_coeff['c4_0'] = y_forw['c4_0'] + lam * y_forw_dist['c4_0']\n",
    "y_coeff['c4_1'] = y_forw['c4_1'] + lam * y_forw_dist['c4_1']\n",
    "y_coeff['c5_0'] = y_forw['c5_0'] + lam * y_forw_dist['c5_0']\n",
    "\n",
    "\n",
    "ifupost_y = y_coeff['c0_0'] + y_coeff['c0_1'] * y +y_coeff['c0_2'] *y**2 +y_coeff['c0_3'] *y**3+y_coeff['c0_4'] *y**4+y_coeff['c0_5']*y**5 \\\n",
    "+y_coeff['c1_0'] *x+y_coeff['c1_1'] *x*y +y_coeff['c1_2'] *x*y**2+y_coeff['c1_3'] *x*y**3+y_coeff['c1_4'] *x*y**4 \\\n",
    "+y_coeff['c2_0'] *x**2+y_coeff['c2_1'] *x**2*y+ y_coeff['c2_2']*x**2*y**2+ y_coeff['c2_3'] *x**2*y**3 \\\n",
    "+y_coeff['c3_0']*x**3 +y_coeff['c3_1'] *x**3*y+y_coeff['c3_2'] *x**3*y**2 \\\n",
    "+y_coeff['c4_0']*x**4  +y_coeff['c4_1'] *x**4*y \\\n",
    "+y_coeff['c5_0'] *x**5\n",
    "\n",
    "print('ifupost_y', ifupost_y)\n",
    "print('diff with table', ifupost_y - t['ymaspos'][0])\n",
    "print('diff with pipeline', ifupost_y - y_msa_exit[0])"
   ]
  },
  {
   "cell_type": "code",
   "execution_count": 13,
   "metadata": {
    "collapsed": true
   },
   "outputs": [],
   "source": [
    "# Reset lam - last cell changed it\n",
    "lam = np.array([2.9, 3.39, 3.88, 4.37, 5]) * 10**-6"
   ]
  },
  {
   "cell_type": "code",
   "execution_count": 14,
   "metadata": {},
   "outputs": [
    {
     "name": "stdout",
     "output_type": "stream",
     "text": [
      "x_collimator_exit [ 0.07443997  0.07443401  0.07443022  0.07442859  0.07442913]\n",
      "y_collimator_exit [-0.28242043 -0.28192622 -0.28143237 -0.28093908 -0.28044655]\n",
      "diff x_collimator_exit       xcoll       \n",
      "------------------\n",
      " 8.25617352262e-13\n",
      "-4.41598146939e-12\n",
      "-1.15603360218e-12\n",
      "-2.02671213145e-13\n",
      "-2.15105711021e-14\n",
      "diff y_collimator_exit       ycoll       \n",
      "------------------\n",
      "-1.39493971929e-12\n",
      " 1.56807899998e-12\n",
      " 3.85524945301e-13\n",
      "   2.096656182e-12\n",
      "-3.02829983312e-12\n"
     ]
    }
   ],
   "source": [
    "# Coordinates at Collimator exit\n",
    "# Applies the Collimator forward transform to coordinates at the MSA exit\n",
    "col = datamodels.open(refs['collimator'])\n",
    "colx, coly = col.model.inverse(x_msa_exit, y_msa_exit)\n",
    "col.close()\n",
    "print('x_collimator_exit', colx)\n",
    "print('y_collimator_exit', coly)\n",
    "\n",
    "print('diff x_collimator_exit', colx - t['xcoll'])\n",
    "print('diff y_collimator_exit', coly - t['ycoll'])"
   ]
  },
  {
   "cell_type": "code",
   "execution_count": 15,
   "metadata": {},
   "outputs": [
    {
     "name": "stdout",
     "output_type": "stream",
     "text": [
      "xcolDircosi  [ 0.07145469  0.07145818  0.07146373  0.07147131  0.07148094]\n",
      "ycolDircosi  [-0.27109449 -0.27065499 -0.27021559 -0.2697765  -0.26933787]\n",
      "z [ 0.95989687  0.96002063  0.96014398  0.96026689  0.96038929]\n",
      "diff xcolDircosi    xcolDirCosi    \n",
      "------------------\n",
      "   7.625150511e-13\n",
      "-4.18866330509e-12\n",
      "-1.09713627072e-12\n",
      "-1.54792845208e-13\n",
      "-7.65498775479e-14\n",
      "diff ycolDircosi    ycolDirCosi    \n",
      "------------------\n",
      "-1.22524212998e-12\n",
      " 1.31311628238e-12\n",
      " 3.21631610234e-13\n",
      " 1.86306525762e-12\n",
      "-2.69778643869e-12\n"
     ]
    }
   ],
   "source": [
    "# After applying direcitonal cosines\n",
    "from jwst.transforms import models as trmodels\n",
    "\n",
    "dircos = trmodels.Unitless2DirCos()\n",
    "xcolDircosi, ycolDircosi, z = dircos(colx, coly)\n",
    "print('xcolDircosi ', xcolDircosi)\n",
    "print('ycolDircosi ', ycolDircosi)\n",
    "print('z', z)\n",
    "print('diff xcolDircosi', xcolDircosi - t['xcolDirCosi'])\n",
    "print('diff ycolDircosi', ycolDircosi - t['ycolDirCosi'])"
   ]
  },
  {
   "cell_type": "code",
   "execution_count": 16,
   "metadata": {},
   "outputs": [
    {
     "name": "stderr",
     "output_type": "stream",
     "text": [
      "2018-06-20 10:59:35,661 - stpipe - INFO - gwa_ytilt is 0.13448857 deg\n",
      "2018-06-20 10:59:35,662 - stpipe - INFO - gwa_xtilt is 0.35986012 deg\n",
      "2018-06-20 10:59:35,663 - stpipe - INFO - theta_y correction: -0.041645342310905185 deg\n",
      "2018-06-20 10:59:35,664 - stpipe - INFO - theta_x correction: 0.0 deg\n"
     ]
    },
    {
     "name": "stdout",
     "output_type": "stream",
     "text": [
      "x_gwa_entrance: [ 0.22067237  0.22069163  0.22071285  0.22073601  0.22076113]\n",
      "y_gwa_entrance: [-0.27015622 -0.26971665 -0.26927718 -0.26883799 -0.26839925]\n",
      "z_gwa_entrance: [ 0.93718692  0.93730899  0.93743034  0.93755093  0.93767071]\n",
      "diff x_gwa_entrance      xdispIn      \n",
      "------------------\n",
      " 7.00384195085e-13\n",
      "-4.04309918878e-12\n",
      "-1.05981889931e-12\n",
      "-8.43769498715e-14\n",
      "-1.71279657124e-13\n",
      "diff y_gwa_entrance      ydispIn      \n",
      "------------------\n",
      " -1.2196355037e-12\n",
      " 1.28191901538e-12\n",
      " 3.13471471003e-13\n",
      " 1.86212156805e-12\n",
      "-2.69861910596e-12\n"
     ]
    }
   ],
   "source": [
    "# Slit to GWA entrance\n",
    "# applies the Collimator forward, Unitless to Directional and 3D Rotation to MSA exit coordinates\n",
    "disp = datamodels.DisperserModel(refs['disperser'])\n",
    "disperser = nirspec.correct_tilt(disp, im.meta.instrument.gwa_xtilt, im.meta.instrument.gwa_ytilt)\n",
    "collimator2gwa = nirspec.collimator_to_gwa(refs, disperser)\n",
    "x_gwa_in, y_gwa_in, z_gwa_in = collimator2gwa(x_msa_exit, y_msa_exit)\n",
    "disp.close()\n",
    "print('x_gwa_entrance:' , x_gwa_in)\n",
    "print('y_gwa_entrance:' , y_gwa_in)\n",
    "print('z_gwa_entrance:' , z_gwa_in)\n",
    "\n",
    "print('diff x_gwa_entrance', x_gwa_in - t['xdispIn'])\n",
    "print('diff y_gwa_entrance', y_gwa_in - t['ydispIn'])"
   ]
  },
  {
   "cell_type": "code",
   "execution_count": 17,
   "metadata": {},
   "outputs": [
    {
     "name": "stdout",
     "output_type": "stream",
     "text": [
      "x_gwa_exit: [ 0.03861286  0.08240387  0.12619291  0.16998001  0.22628237]\n",
      "y_gwa_exit: [ 0.27015622  0.26971665  0.26927718  0.26883799  0.26839925]\n",
      "z_gwa_exit: [ 0.96204192  0.95940739  0.95475921  0.948068    0.93635364]\n",
      "diff x_gwa_exit      xdispLaw     \n",
      "------------------\n",
      "-7.00384195085e-13\n",
      " 4.04309918878e-12\n",
      " 1.05981889931e-12\n",
      " 8.43769498715e-14\n",
      " 1.71279657124e-13\n",
      "diff y_gwa_exit      ydispLaw     \n",
      "------------------\n",
      "  1.2196355037e-12\n",
      "-1.28191901538e-12\n",
      "-3.13471471003e-13\n",
      "-1.86212156805e-12\n",
      " 2.69861910596e-12\n"
     ]
    }
   ],
   "source": [
    "# Slit to GWA out\n",
    "# Runs slit--> slicer --> msa_exit --> collimator --> dircos --> rotation --> angle_from_grating equation\n",
    "slit2gwa = slit_wcs.get_transform('slit_frame', 'gwa')\n",
    "x_gwa_out, y_gwa_out, z_gwa_out = slit2gwa(slitx, slity, lam)\n",
    "print('x_gwa_exit:' , x_gwa_out)\n",
    "print('y_gwa_exit:' , y_gwa_out)\n",
    "print('z_gwa_exit:' , z_gwa_out)\n",
    "\n",
    "print('diff x_gwa_exit', x_gwa_out - t['xdispLaw'])\n",
    "print('diff y_gwa_exit', y_gwa_out - t['ydispLaw'])"
   ]
  },
  {
   "cell_type": "code",
   "execution_count": 18,
   "metadata": {},
   "outputs": [
    {
     "name": "stdout",
     "output_type": "stream",
     "text": [
      "x_camera_entrance: [-0.11311156 -0.06716992 -0.02134772  0.02464534  0.08453302]\n",
      "y_camera_entrance: [ 0.28285903  0.28083671  0.27940655  0.27856425  0.27849854]\n",
      "diff x_camera_enrtance      xcamCosi     \n",
      "------------------\n",
      " -7.1256889278e-13\n",
      " 4.19017598396e-12\n",
      " 1.09577277807e-12\n",
      "-2.33389696458e-14\n",
      "  3.9673819785e-13\n",
      "diff y_camera_entrance      ycamCosi     \n",
      "------------------\n",
      " 1.40382150349e-12\n",
      "-1.55164769922e-12\n",
      "-3.66373598126e-13\n",
      "-2.08394412837e-12\n",
      "  3.0342395263e-12\n"
     ]
    }
   ],
   "source": [
    "# CAMERA entrance (assuming direction is from sky to detector)\n",
    "angles = [disperser['theta_x'], disperser['theta_y'],\n",
    "          disperser['theta_z'], disperser['tilt_y']]\n",
    "rotation = models.Rotation3DToGWA(angles, axes_order=\"xyzy\", name='rotation')\n",
    "dircos2unitless = models.DirCos2Unitless()\n",
    "\n",
    "gwa2cam = rotation.inverse | dircos2unitless\n",
    "x_camera_entrance, y_camera_entrance = gwa2cam(x_gwa_out, y_gwa_out, z_gwa_out)\n",
    "print('x_camera_entrance:' , x_camera_entrance)\n",
    "print('y_camera_entrance:' , y_camera_entrance)\n",
    "\n",
    "print('diff x_camera_enrtance', x_camera_entrance - t['xcamCosi'])\n",
    "print('diff y_camera_entrance', y_camera_entrance - t['ycamCosi'])"
   ]
  },
  {
   "cell_type": "code",
   "execution_count": 19,
   "metadata": {},
   "outputs": [
    {
     "name": "stdout",
     "output_type": "stream",
     "text": [
      "x_fpa:  [-0.03260156 -0.0196373  -0.00661481  0.00648947  0.02349652]\n",
      "y_fpa:  [-0.00354315 -0.0038227  -0.00402751 -0.00416094 -0.00418796]\n",
      "diff x_fpa      xfpapos      \n",
      "------------------\n",
      "-1.93768612267e-13\n",
      "  1.1848022563e-12\n",
      "  3.1237686049e-13\n",
      " 1.29323635134e-15\n",
      " 8.94978535726e-14\n",
      "diff y_fpa      yfpapos      \n",
      "------------------\n",
      " 3.75361634136e-13\n",
      "-4.00640024628e-13\n",
      "-9.63118473862e-14\n",
      " -5.6710278834e-13\n",
      " 8.23793290528e-13\n"
     ]
    }
   ],
   "source": [
    "# at FPA\n",
    "camera = datamodels.CameraModel(refs['camera'])\n",
    "x_fpa, y_fpa = camera.model.inverse(x_camera_entrance, y_camera_entrance)\n",
    "camera.close()\n",
    "print('x_fpa: ', x_fpa )\n",
    "print('y_fpa: ' , y_fpa)\n",
    "\n",
    "print('diff x_fpa', x_fpa - t['xfpapos'])\n",
    "print('diff y_fpa', y_fpa - t['yfpapos'])"
   ]
  },
  {
   "cell_type": "code",
   "execution_count": 20,
   "metadata": {},
   "outputs": [
    {
     "name": "stdout",
     "output_type": "stream",
     "text": [
      "x_sca1:  [  309.40456252  1029.64117666  1753.11275396  2481.12822002  3425.96453057]\n",
      "y_sca1:  [ 826.65806896  811.1275858   799.74961365  792.33653939  790.83550167]\n",
      "x_sca2:  [ 3931.81779465  3211.58141255  2488.11000527  1760.09465002   815.25836199]\n",
      "y_sca2:  [ 1220.24684926  1235.78808985  1247.17686774  1254.60081562  1256.11596538]\n",
      "diff x_sca1        i       \n",
      "---------------\n",
      " -1.00000001076\n",
      "-0.999999934178\n",
      "-0.999999982645\n",
      "diff y_sca1        j       \n",
      "---------------\n",
      "-0.999999979147\n",
      " -1.00000002226\n",
      " -1.00000000535\n",
      "\n",
      "\n",
      "diff x_sca2       i       \n",
      "--------------\n",
      "-1.00000000007\n",
      "-1.00000000497\n",
      "diff y_sca2        j       \n",
      "---------------\n",
      "-0.999999968494\n",
      " -1.00000004577\n"
     ]
    }
   ],
   "source": [
    "# at SCA\n",
    "slit2sca = slit_wcs.get_transform('slit_frame', 'sca')\n",
    "x_sca_nrs1, y_sca_nrs1 = slit2sca(slitx, slity, lam)\n",
    "\n",
    "# At NRS2\n",
    "fpa = datamodels.FPAModel(refs['fpa'])\n",
    "x_sca_nrs2, y_sca_nrs2 = fpa.nrs2_model.inverse(x_fpa, y_fpa)\n",
    "fpa.close()\n",
    "print('x_sca1: ', x_sca_nrs1)\n",
    "print('y_sca1: ' , y_sca_nrs1)\n",
    "print('x_sca2: ', x_sca_nrs2 )\n",
    "print('y_sca2: ' , y_sca_nrs2)\n",
    "\n",
    "print('diff x_sca1', x_sca_nrs1[:3] - t['i'][:3])\n",
    "print('diff y_sca1', y_sca_nrs1[:3] - t['j'][:3])\n",
    "print('\\n')\n",
    "print('diff x_sca2', x_sca_nrs2[3:] - t['i'][3:])\n",
    "print('diff y_sca2', y_sca_nrs2[3:] - t['j'][3:])"
   ]
  },
  {
   "cell_type": "code",
   "execution_count": 21,
   "metadata": {},
   "outputs": [
    {
     "name": "stdout",
     "output_type": "stream",
     "text": [
      "x_oteip:  [ 0.05010543  0.05044043  0.05077637  0.05111296  0.05145047]\n",
      "y_oteip:  [-0.04489819 -0.04451235 -0.04412679 -0.04374186 -0.04335772]\n",
      "diff x_oteip       xOTEIP      \n",
      "------------------\n",
      "-6.93889390391e-18\n",
      "-6.93889390391e-18\n",
      " 1.38777878078e-17\n",
      "-6.93889390391e-18\n",
      "-2.08166817117e-17\n",
      "diff y_oteip       yOTEIP      \n",
      "------------------\n",
      " 6.93889390391e-18\n",
      " 6.93889390391e-18\n",
      "-6.93889390391e-18\n",
      " 6.93889390391e-18\n",
      " 1.38777878078e-17\n"
     ]
    }
   ],
   "source": [
    "# at oteip\n",
    "# Goes through slicer, ifufore, and fore transforms\n",
    "slit2oteip = slit_wcs.get_transform('slit_frame', 'oteip')\n",
    "x_oteip, y_oteip, _ = slit2oteip(slitx, slity, lam)\n",
    "print('x_oteip: ', x_oteip)\n",
    "print('y_oteip: ' , y_oteip)\n",
    "\n",
    "print('diff x_oteip', x_oteip - t['xOTEIP'])\n",
    "print('diff y_oteip', y_oteip - t['yOTEIP'])"
   ]
  },
  {
   "cell_type": "code",
   "execution_count": 22,
   "metadata": {},
   "outputs": [
    {
     "name": "stdout",
     "output_type": "stream",
     "text": [
      "v2:  [ 0.08365329  0.08350689  0.08336007  0.08321298  0.08306549]\n",
      "v3:  [-0.1387331  -0.13856511 -0.13839724 -0.13822965 -0.1380624 ]\n",
      "diff V2       xV2V3       \n",
      "------------------\n",
      " 2.77555756156e-17\n",
      "-1.38777878078e-17\n",
      "-1.38777878078e-17\n",
      "-1.38777878078e-17\n",
      "               0.0\n",
      "diff V3       yV2V3       \n",
      "------------------\n",
      "               0.0\n",
      "               0.0\n",
      "               0.0\n",
      "-2.77555756156e-17\n",
      "               0.0\n"
     ]
    }
   ],
   "source": [
    "# at v2, v3 [in arcsec]\n",
    "slit2v23 = slit_wcs.get_transform('slit_frame', 'v2v3')\n",
    "v2, v3, _ = slit2v23(slitx, slity, lam)\n",
    "v2 /= 3600\n",
    "v3 /= 3600\n",
    "print('v2: ', v2)\n",
    "print('v3: ' , v3)\n",
    "\n",
    "print('diff V2', v2 - t['xV2V3'])\n",
    "print('diff V3', v3 - t['yV2V3'])"
   ]
  },
  {
   "cell_type": "code",
   "execution_count": 23,
   "metadata": {
    "collapsed": true
   },
   "outputs": [],
   "source": [
    "# Save results to an asdf file\n",
    "\n",
    "fa = AsdfFile()\n",
    "fa.tree['slitx'] = list(slitx)\n",
    "fa.tree['slity'] = list(slity)\n",
    "fa.tree['lam'] = list(lam)\n",
    "fa.tree['msax'] = list(msax)\n",
    "fa.tree['msay'] = list(msay)\n",
    "fa.tree['x_collimator_exit'] = list(colx)\n",
    "fa.tree['y_collimator_exit'] = list(coly)\n",
    "fa.tree['x_gwa_entrance'] = list(x_gwa_in)\n",
    "fa.tree['y_gwa_entrance'] = list(y_gwa_in)\n",
    "fa.tree['z_gwa_entrance'] = list(z_gwa_in)\n",
    "fa.tree['x_gwa_exit'] = list(x_gwa_out)\n",
    "fa.tree['y_gwa_exit'] = list(y_gwa_out)\n",
    "fa.tree['z_gwa_exit'] = list(z_gwa_out)\n",
    "fa.tree['x_camera_entrance'] = list(x_camera_entrance)\n",
    "fa.tree['y_camera_entrance'] = list(y_camera_entrance)\n",
    "fa.tree['x_fpa'] = list(x_fpa)\n",
    "fa.tree['y_fpa'] = list(y_fpa)\n",
    "fa.tree['x_sca_nrs1'] = list(x_sca_nrs1)\n",
    "fa.tree['y_sca_nrs1'] = list(y_sca_nrs1)\n",
    "fa.tree['x_sca_nrs2'] = list(x_sca_nrs2)\n",
    "fa.tree['y_sca_nrs2'] = list(y_sca_nrs2)\n",
    "fa.tree['x_oteip'] = list(x_oteip)\n",
    "fa.tree['y_oteip'] = list(y_oteip)\n",
    "fa.tree['v2'] = list(v2)\n",
    "fa.tree['v3'] = list(v3)\n",
    "fa.tree['x_slicer'] = list(x_slicer)\n",
    "fa.tree['y_slicer'] = list(y_slicer)\n",
    "fa.tree['x_msa_exit'] = list(x_msa_exit)\n",
    "fa.tree['y_msa_exit'] = list(y_msa_exit)\n",
    "fa.write_to(\"ifu_grating_functional.asdf\", all_array_storage=\"internal\")"
   ]
  },
  {
   "cell_type": "code",
   "execution_count": 24,
   "metadata": {},
   "outputs": [
    {
     "data": {
      "text/plain": [
       "(5.27e-06, 2.87e-06)"
      ]
     },
     "execution_count": 24,
     "metadata": {},
     "output_type": "execute_result"
    }
   ],
   "source": [
    "im.meta.wcsinfo.waverange_end, im.meta.wcsinfo.waverange_start"
   ]
  },
  {
   "cell_type": "code",
   "execution_count": 25,
   "metadata": {},
   "outputs": [
    {
     "data": {
      "text/plain": [
       "4.07e-06"
      ]
     },
     "execution_count": 25,
     "metadata": {},
     "output_type": "execute_result"
    }
   ],
   "source": [
    "lam_cen = 0.5 * (im.meta.wcsinfo.waverange_end -\n",
    "                 im.meta.wcsinfo.waverange_start\n",
    "                ) + im.meta.wcsinfo.waverange_start\n",
    "lam_cen"
   ]
  },
  {
   "cell_type": "code",
   "execution_count": null,
   "metadata": {
    "collapsed": true
   },
   "outputs": [],
   "source": []
  }
 ],
 "metadata": {
  "kernelspec": {
   "display_name": "Python 3",
   "language": "python",
   "name": "python3"
  },
  "language_info": {
   "codemirror_mode": {
    "name": "ipython",
    "version": 3
   },
   "file_extension": ".py",
   "mimetype": "text/x-python",
   "name": "python",
   "nbconvert_exporter": "python",
   "pygments_lexer": "ipython3",
   "version": "3.5.1"
  }
 },
 "nbformat": 4,
 "nbformat_minor": 2
}
