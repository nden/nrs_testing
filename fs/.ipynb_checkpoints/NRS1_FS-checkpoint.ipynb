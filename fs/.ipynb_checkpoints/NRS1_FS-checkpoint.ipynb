{
 "cells": [
  {
   "cell_type": "code",
   "execution_count": 1,
   "metadata": {
    "collapsed": false
   },
   "outputs": [
    {
     "name": "stdout",
     "output_type": "stream",
     "text": [
      "numpy version:  1.12.1\n",
      "astropy version:  3.1.dev21448\n",
      "asdf version:  1.3.2.dev1202\n",
      "gwcs version:  0.9.dev306\n",
      "jwst version:  0.9.1a.dev42\n"
     ]
    }
   ],
   "source": [
    "import glob\n",
    "import numpy as np\n",
    "print('numpy version: ', np.__version__)\n",
    "import astropy\n",
    "print('astropy version: ', astropy.__version__)\n",
    "from astropy.io import fits\n",
    "import asdf\n",
    "print('asdf version: ', asdf.__version__)\n",
    "import gwcs\n",
    "print('gwcs version: ', gwcs.__version__)\n",
    "import jwst\n",
    "print('jwst version: ', jwst.__version__)"
   ]
  },
  {
   "cell_type": "code",
   "execution_count": 2,
   "metadata": {
    "collapsed": true
   },
   "outputs": [],
   "source": [
    "%matplotlib inline\n",
    "from matplotlib import pyplot as plt"
   ]
  },
  {
   "cell_type": "code",
   "execution_count": 3,
   "metadata": {
    "collapsed": false
   },
   "outputs": [],
   "source": [
    "from jwst import datamodels\n",
    "from jwst.assign_wcs.nirspec import nrs_wcs_set_input\n",
    "import test_slits"
   ]
  },
  {
   "cell_type": "markdown",
   "metadata": {},
   "source": [
    "### Test 1\n",
    "\n",
    "For each Trace file:\n",
    "- Compute the pixel indices (x, y) for values in the SLIT extension that are between -0.5 and 0.5 (within the slit).\n",
    "- Get the wavelength values for these pixels from the LAM extension.\n",
    "- Transfer these (x, y) to full frame coordinates using the FITS WCS in the Trace file.\n",
    "- Evaluate the pipeline WCS passing these x, y as input to obtain ra, dec, lam from the pipeline code.\n",
    "- Compute the difference between the ESA and pipeline wavelengths for these x, y pixels."
   ]
  },
  {
   "cell_type": "code",
   "execution_count": 4,
   "metadata": {
    "collapsed": false
   },
   "outputs": [
    {
     "ename": "ValueError",
     "evalue": "list.remove(x): x not in list",
     "output_type": "error",
     "traceback": [
      "\u001b[0;31m---------------------------------------------------------------------------\u001b[0m",
      "\u001b[0;31mValueError\u001b[0m                                Traceback (most recent call last)",
      "\u001b[0;32m<ipython-input-4-58e5195daf0a>\u001b[0m in \u001b[0;36m<module>\u001b[0;34m()\u001b[0m\n\u001b[1;32m      1\u001b[0m \u001b[0;31m# Create a list of all TRACE* files from ESA. The files are expected to be in the a subdirectory called \"esa\".\u001b[0m\u001b[0;34m\u001b[0m\u001b[0;34m\u001b[0m\u001b[0m\n\u001b[1;32m      2\u001b[0m \u001b[0mesa\u001b[0m \u001b[0;34m=\u001b[0m \u001b[0mglob\u001b[0m\u001b[0;34m.\u001b[0m\u001b[0mglob\u001b[0m\u001b[0;34m(\u001b[0m\u001b[0;34m\"esa/*.fits\"\u001b[0m\u001b[0;34m)\u001b[0m\u001b[0;34m\u001b[0m\u001b[0m\n\u001b[0;32m----> 3\u001b[0;31m \u001b[0mesa\u001b[0m\u001b[0;34m.\u001b[0m\u001b[0mremove\u001b[0m\u001b[0;34m(\u001b[0m\u001b[0;34m\"Trace_SLIT_B_200_V84600010001P0000000002101_39547_JLAB88.fits\"\u001b[0m\u001b[0;34m)\u001b[0m\u001b[0;34m\u001b[0m\u001b[0m\n\u001b[0m\u001b[1;32m      4\u001b[0m \u001b[0mpipeline_file\u001b[0m \u001b[0;34m=\u001b[0m \u001b[0;34m\"nrs1_fs_assign_wcs.fits\"\u001b[0m\u001b[0;34m\u001b[0m\u001b[0m\n",
      "\u001b[0;31mValueError\u001b[0m: list.remove(x): x not in list"
     ]
    }
   ],
   "source": [
    "# Create a list of all TRACE* files from ESA. The files are expected to be in the a subdirectory called \"esa\".\n",
    "esa = glob.glob(\"esa/*.fits\")\n",
    "esa.remove(\"esa/Trace_SLIT_B_200_V84600010001P0000000002101_39547_JLAB88.fits\")\n",
    "pipeline_file = \"nrs1_fs_assign_wcs.fits\""
   ]
  },
  {
   "cell_type": "code",
   "execution_count": null,
   "metadata": {
    "collapsed": false
   },
   "outputs": [],
   "source": [
    "test_slits.test_fixed_slit(pipeline_file, esa)"
   ]
  },
  {
   "cell_type": "code",
   "execution_count": null,
   "metadata": {
    "collapsed": true
   },
   "outputs": [],
   "source": []
  },
  {
   "cell_type": "code",
   "execution_count": null,
   "metadata": {
    "collapsed": true
   },
   "outputs": [],
   "source": []
  }
 ],
 "metadata": {
  "anaconda-cloud": {},
  "kernelspec": {
   "display_name": "Python [jwstdev]",
   "language": "python",
   "name": "Python [jwstdev]"
  },
  "language_info": {
   "codemirror_mode": {
    "name": "ipython",
    "version": 3
   },
   "file_extension": ".py",
   "mimetype": "text/x-python",
   "name": "python",
   "nbconvert_exporter": "python",
   "pygments_lexer": "ipython3",
   "version": "3.5.1"
  }
 },
 "nbformat": 4,
 "nbformat_minor": 0
}
