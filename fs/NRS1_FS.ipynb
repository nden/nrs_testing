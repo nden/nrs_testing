{
 "cells": [
  {
   "cell_type": "code",
   "execution_count": 1,
   "metadata": {
    "collapsed": false
   },
   "outputs": [
    {
     "name": "stdout",
     "output_type": "stream",
     "text": [
      "numpy version:  1.12.1\n",
      "astropy version:  3.1.dev21448\n",
      "asdf version:  1.3.2.dev1202\n",
      "gwcs version:  0.9.dev306\n",
      "jwst version:  0.9.1a.dev42\n"
     ]
    }
   ],
   "source": [
    "import glob\n",
    "import numpy as np\n",
    "print('numpy version: ', np.__version__)\n",
    "import astropy\n",
    "print('astropy version: ', astropy.__version__)\n",
    "from astropy.io import fits\n",
    "import asdf\n",
    "print('asdf version: ', asdf.__version__)\n",
    "import gwcs\n",
    "print('gwcs version: ', gwcs.__version__)\n",
    "import jwst\n",
    "print('jwst version: ', jwst.__version__)"
   ]
  },
  {
   "cell_type": "code",
   "execution_count": 2,
   "metadata": {
    "collapsed": true
   },
   "outputs": [],
   "source": [
    "%matplotlib inline\n",
    "from matplotlib import pyplot as plt"
   ]
  },
  {
   "cell_type": "code",
   "execution_count": 3,
   "metadata": {
    "collapsed": false
   },
   "outputs": [],
   "source": [
    "from jwst import datamodels\n",
    "from jwst.assign_wcs.nirspec import nrs_wcs_set_input\n",
    "import test_slits"
   ]
  },
  {
   "cell_type": "markdown",
   "metadata": {},
   "source": [
    "### Test 1\n",
    "\n",
    "For each Trace file:\n",
    "- Compute the pixel indices (x, y) for values in the SLIT extension that are between -0.5 and 0.5 (within the slit).\n",
    "- Get the wavelength values for these pixels from the LAM extension.\n",
    "- Transfer these (x, y) to full frame coordinates using the FITS WCS in the Trace file.\n",
    "- Evaluate the pipeline WCS passing these x, y as input to obtain ra, dec, lam from the pipeline code.\n",
    "- Compute the difference between the ESA and pipeline wavelengths for these x, y pixels."
   ]
  },
  {
   "cell_type": "code",
   "execution_count": 4,
   "metadata": {
    "collapsed": false
   },
   "outputs": [],
   "source": [
    "# Create a list of all TRACE* files from ESA. The files are expected to be in the a subdirectory called \"esa\".\n",
    "esa = glob.glob(\"esa/*.fits\")\n",
    "esa.remove(\"esa/Trace_SLIT_B_200_V84600010001P0000000002101_39547_JLAB88.fits\")\n",
    "pipeline_file = \"nrs1_fs_assign_wcs.fits\""
   ]
  },
  {
   "cell_type": "code",
   "execution_count": 5,
   "metadata": {
    "collapsed": false
   },
   "outputs": [
    {
     "name": "stdout",
     "output_type": "stream",
     "text": [
      "\n",
      "Running test for slit S1600A1\n",
      "Slit SLIT_A_1600\n",
      "\t Max diff in wavelength:  6.29845767115e-14\n",
      "\t Mean diff in wavelength:  2.8576312509e-14\n",
      "\t Max diff along slit y-axis:  2.65187618993e-05\n",
      "\t Max diff in MSA x coordinate:  0.0\n",
      "\t Mean diff in MSA x coordinate:  0.0\n",
      "\t Max diff in MSA y coordinate:  1.64943886748e-08\n",
      "\t Mean diff in MSA y coordinate:  7.53311555959e-09\n",
      "\n",
      "Running test for slit S200A1\n",
      "Slit SLIT_A_200_1\n",
      "\t Number of pixels with NaN values in the diff:  1\n",
      "\t Number of pixels with values of <= 10**-13 in the diff:  43060\n",
      "\t Max diff in wavelength:  8.46919830239e-14\n",
      "\t Mean diff in wavelength:  3.04407402759e-14\n",
      "\t Max diff along slit y-axis:  5.66791927099e-05\n",
      "\t Max diff in MSA x coordinate:  0.0\n",
      "\t Mean diff in MSA x coordinate:  0.0\n",
      "\t Max diff in MSA y coordinate:  7.21480765439e-08\n",
      "\t Mean diff in MSA y coordinate:  3.27581703612e-08\n",
      "\n",
      "Running test for slit S200A2\n",
      "Slit SLIT_A_200_2\n",
      "\t Number of pixels with NaN values in the diff:  67\n",
      "\t Number of pixels with values of <= 10**-13 in the diff:  45674\n",
      "\t Max diff in wavelength:  8.71140858068e-14\n",
      "\t Mean diff in wavelength:  3.06410458152e-14\n",
      "\t Max diff along slit y-axis:  5.58818335605e-05\n",
      "\t Max diff in MSA x coordinate:  0.0\n",
      "\t Mean diff in MSA x coordinate:  0.0\n",
      "\t Max diff in MSA y coordinate:  7.08142836874e-08\n",
      "\t Mean diff in MSA y coordinate:  3.22145958909e-08\n",
      "\n",
      "Running test for slit S400A1\n",
      "Slit SLIT_A_400\n",
      "\t Number of pixels with NaN values in the diff:  1\n",
      "\t Number of pixels with values of <= 10**-13 in the diff:  51702\n",
      "\t Max diff in wavelength:  9.33479848714e-14\n",
      "\t Mean diff in wavelength:  3.16770146716e-14\n",
      "\t Max diff along slit y-axis:  6.28612925766e-05\n",
      "\t Max diff in MSA x coordinate:  0.0\n",
      "\t Mean diff in MSA x coordinate:  0.0\n",
      "\t Max diff in MSA y coordinate:  9.11368566065e-08\n",
      "\t Mean diff in MSA y coordinate:  4.15332626682e-08\n"
     ]
    }
   ],
   "source": [
    "test_slits.test_fixed_slit(pipeline_file, esa)"
   ]
  },
  {
   "cell_type": "code",
   "execution_count": null,
   "metadata": {
    "collapsed": true
   },
   "outputs": [],
   "source": []
  },
  {
   "cell_type": "code",
   "execution_count": null,
   "metadata": {
    "collapsed": true
   },
   "outputs": [],
   "source": []
  }
 ],
 "metadata": {
  "anaconda-cloud": {},
  "kernelspec": {
   "display_name": "Python [jwstdev]",
   "language": "python",
   "name": "Python [jwstdev]"
  },
  "language_info": {
   "codemirror_mode": {
    "name": "ipython",
    "version": 3
   },
   "file_extension": ".py",
   "mimetype": "text/x-python",
   "name": "python",
   "nbconvert_exporter": "python",
   "pygments_lexer": "ipython3",
   "version": "3.5.1"
  }
 },
 "nbformat": 4,
 "nbformat_minor": 0
}
