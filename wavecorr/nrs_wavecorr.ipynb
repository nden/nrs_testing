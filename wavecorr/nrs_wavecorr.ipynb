{
 "cells": [
  {
   "cell_type": "code",
   "execution_count": 3,
   "metadata": {},
   "outputs": [],
   "source": [
    "import numpy as np\n",
    "from jwst import datamodels\n",
    "from jwst.wavecorr import wavecorr_step\n",
    "from jwst.wavecorr import wavecorr\n",
    "from jwst.srctype import srctype_step\n",
    "from jwst.transforms import models as trmodels"
   ]
  },
  {
   "cell_type": "code",
   "execution_count": 4,
   "metadata": {},
   "outputs": [
    {
     "name": "stderr",
     "output_type": "stream",
     "text": [
      "2021-08-12 17:19:39,849 - stpipe.WavecorrStep - INFO - WavecorrStep instance created.\n",
      "2021-08-12 17:19:39,851 - stpipe.SourceTypeStep - INFO - SourceTypeStep instance created.\n"
     ]
    }
   ],
   "source": [
    "step = wavecorr_step.WavecorrStep()\n",
    "src = srctype_step.SourceTypeStep()"
   ]
  },
  {
   "cell_type": "code",
   "execution_count": 5,
   "metadata": {},
   "outputs": [],
   "source": [
    "fd01 = \"/Users/dencheva/dev/jwst/jp-2103/reopened/mod_nirspec_002_CLEAR-PRISM_SLIT_fluxcal11_d01_000_491_cts_NRS1_mod_extract2dstep.fits\"\n",
    "\n",
    "fd02 = \"/Users/dencheva/dev/jwst/jp-2103/reopened/mod_nirspec_002_CLEAR-PRISM_SLIT_fluxcal11_d02_000_491_cts_NRS1_mod_extract2dstep.fits\"\n",
    "\n",
    "fd03 = \"/Users/dencheva/dev/jwst/jp-2103/reopened/mod_nirspec_002_CLEAR-PRISM_SLIT_fluxcal11_d03_000_491_cts_NRS1_mod_extract2dstep.fits\"\n"
   ]
  },
  {
   "cell_type": "code",
   "execution_count": 6,
   "metadata": {},
   "outputs": [
    {
     "name": "stderr",
     "output_type": "stream",
     "text": [
      "2021-08-12 17:22:55,898 - stpipe.SourceTypeStep - INFO - SourceTypeStep instance created.\n",
      "2021-08-12 17:22:55,973 - stpipe.SourceTypeStep - INFO - Step SourceTypeStep running with args (<MultiSlitModel from mod_nirspec_002_CLEAR-PRISM_SLIT_fluxcal11_d01_000_491_cts_NRS1_mod_extract2dstep.fits>,).\n",
      "2021-08-12 17:22:55,975 - stpipe.SourceTypeStep - INFO - Step SourceTypeStep parameters are: {'pre_hooks': [], 'post_hooks': [], 'output_file': None, 'output_dir': None, 'output_ext': '.fits', 'output_use_model': False, 'output_use_index': True, 'save_results': False, 'skip': False, 'suffix': None, 'search_output_file': True, 'input_dir': ''}\n",
      "2021-08-12 17:22:55,988 - stpipe.SourceTypeStep - INFO - Input EXP_TYPE is NRS_FIXEDSLIT\n",
      "2021-08-12 17:22:55,989 - stpipe.SourceTypeStep - INFO - Input SRCTYAPT = UNKNOWN\n",
      "2021-08-12 17:22:55,990 - stpipe.SourceTypeStep - INFO - Exposure is nodded; setting SRCTYPE = POINT\n",
      "2021-08-12 17:22:55,995 - stpipe.SourceTypeStep - INFO - Step SourceTypeStep done\n",
      "2021-08-12 17:22:56,013 - stpipe.WavecorrStep - INFO - WavecorrStep instance created.\n",
      "2021-08-12 17:22:56,095 - stpipe.WavecorrStep - INFO - Step WavecorrStep running with args (<MultiSlitModel from mod_nirspec_002_CLEAR-PRISM_SLIT_fluxcal11_d01_000_491_cts_NRS1_mod_extract2dstep.fits>,).\n",
      "2021-08-12 17:22:56,097 - stpipe.WavecorrStep - INFO - Step WavecorrStep parameters are: {'pre_hooks': [], 'post_hooks': [], 'output_file': None, 'output_dir': None, 'output_ext': '.fits', 'output_use_model': False, 'output_use_index': True, 'save_results': False, 'skip': False, 'suffix': None, 'search_output_file': True, 'input_dir': ''}\n",
      "2021-08-12 17:22:56,132 - stpipe.WavecorrStep - INFO - Using WAVECORR reference file /Users/dencheva/crds/references/jwst/nirspec/jwst_nirspec_wavecorr_0001.asdf\n",
      "2021-08-12 17:22:56,347 - stpipe.WavecorrStep - INFO - Detected a POINT source type in slit S200A1\n",
      "2021-08-12 17:22:56,348 - stpipe.WavecorrStep - INFO - slit name S200A1\n",
      "2021-08-12 17:22:56,360 - stpipe.AssignWcsStep - INFO - AssignWcsStep instance created.\n",
      "2021-08-12 17:22:56,412 - stpipe.WavecorrStep - INFO - wcsinfo, 332.136078, -479.224213, 138.7605896, -1\n",
      "2021-08-12 17:22:56,413 - stpipe.WavecorrStep - INFO - xoffset, yoffset, 0.06031954628773706, 1.08979871249158, 2\n",
      "2021-08-12 17:22:56,445 - stpipe.WavecorrStep - INFO - msa model, 1, 0.02697242796421051, -0.0027167024090886116, 8.135000098263845e-05, 0.001271169981919229\n",
      "2021-08-12 17:22:56,462 - stpipe.WavecorrStep - INFO - Source X/Y position in V2V3: 332.8998387583057, -480.00393678794353\n",
      "2021-08-12 17:22:56,463 - stpipe.WavecorrStep - INFO - Source X/Y position in the slit: -0.2904821280235972, -0.3618853318233134, 2, 2e-06\n",
      "2021-08-12 17:22:56,464 - stpipe.WavecorrStep - INFO - Source X/Y position in the MSA: 0.02694879724281035, -0.003176720179799287\n",
      "2021-08-12 17:22:56,465 - stpipe.WavecorrStep - INFO - Fractional position of source in aperture -0.2904821280235972\n",
      "2021-08-12 17:22:56,502 - stpipe.WavecorrStep - WARNING - /Users/dencheva/opt/anaconda3/envs/jwstdev/lib/python3.8/site-packages/gwcs/geometry.py:203: RuntimeWarning: invalid value encountered in remainder\n",
      "  lon = np.mod(lon, 360.0 * u.deg if nquant else 360.0)\n",
      "\n",
      "2021-08-12 17:22:56,568 - stpipe.WavecorrStep - INFO - Using wavelength zero-point correction for aperture S200A1\n",
      "2021-08-12 17:22:56,576 - stpipe.WavecorrStep - INFO - Step WavecorrStep done\n",
      "2021-08-12 17:22:56,818 - stpipe.SourceTypeStep - INFO - SourceTypeStep instance created.\n",
      "2021-08-12 17:22:56,904 - stpipe.SourceTypeStep - INFO - Step SourceTypeStep running with args (<MultiSlitModel from mod_nirspec_002_CLEAR-PRISM_SLIT_fluxcal11_d02_000_491_cts_NRS1_mod_extract2dstep.fits>,).\n",
      "2021-08-12 17:22:56,906 - stpipe.SourceTypeStep - INFO - Step SourceTypeStep parameters are: {'pre_hooks': [], 'post_hooks': [], 'output_file': None, 'output_dir': None, 'output_ext': '.fits', 'output_use_model': False, 'output_use_index': True, 'save_results': False, 'skip': False, 'suffix': None, 'search_output_file': True, 'input_dir': ''}\n",
      "2021-08-12 17:22:56,918 - stpipe.SourceTypeStep - INFO - Input EXP_TYPE is NRS_FIXEDSLIT\n",
      "2021-08-12 17:22:56,919 - stpipe.SourceTypeStep - INFO - Input SRCTYAPT = UNKNOWN\n",
      "2021-08-12 17:22:56,920 - stpipe.SourceTypeStep - INFO - Exposure is nodded; setting SRCTYPE = POINT\n",
      "2021-08-12 17:22:56,924 - stpipe.SourceTypeStep - INFO - Step SourceTypeStep done\n",
      "2021-08-12 17:22:56,942 - stpipe.WavecorrStep - INFO - WavecorrStep instance created.\n",
      "2021-08-12 17:22:57,031 - stpipe.WavecorrStep - INFO - Step WavecorrStep running with args (<MultiSlitModel from mod_nirspec_002_CLEAR-PRISM_SLIT_fluxcal11_d02_000_491_cts_NRS1_mod_extract2dstep.fits>,).\n",
      "2021-08-12 17:22:57,033 - stpipe.WavecorrStep - INFO - Step WavecorrStep parameters are: {'pre_hooks': [], 'post_hooks': [], 'output_file': None, 'output_dir': None, 'output_ext': '.fits', 'output_use_model': False, 'output_use_index': True, 'save_results': False, 'skip': False, 'suffix': None, 'search_output_file': True, 'input_dir': ''}\n",
      "2021-08-12 17:22:57,064 - stpipe.WavecorrStep - INFO - Using WAVECORR reference file /Users/dencheva/crds/references/jwst/nirspec/jwst_nirspec_wavecorr_0001.asdf\n",
      "2021-08-12 17:22:57,271 - stpipe.WavecorrStep - INFO - Detected a POINT source type in slit S200A1\n",
      "2021-08-12 17:22:57,271 - stpipe.WavecorrStep - INFO - slit name S200A1\n",
      "2021-08-12 17:22:57,273 - stpipe.AssignWcsStep - INFO - AssignWcsStep instance created.\n",
      "2021-08-12 17:22:57,313 - stpipe.WavecorrStep - INFO - wcsinfo, 332.136078, -479.224213, 138.7605896, -1\n",
      "2021-08-12 17:22:57,314 - stpipe.WavecorrStep - INFO - xoffset, yoffset, 0.08671958670133095, 1.089798747701114, 2\n",
      "2021-08-12 17:22:57,345 - stpipe.WavecorrStep - INFO - msa model, 1, 0.02697242796421051, -0.0027167024090886116, 8.135000098263845e-05, 0.001271169981919229\n",
      "2021-08-12 17:22:57,359 - stpipe.WavecorrStep - INFO - Source X/Y position in V2V3: 332.91969059965464, -479.98653372703757\n",
      "2021-08-12 17:22:57,360 - stpipe.WavecorrStep - INFO - Source X/Y position in the slit: -0.4176102163269116, -0.36195218279029456, 2, 2e-06\n",
      "2021-08-12 17:22:57,361 - stpipe.WavecorrStep - INFO - Source X/Y position in the MSA: 0.026938455372701956, -0.003176805158741776\n",
      "2021-08-12 17:22:57,361 - stpipe.WavecorrStep - INFO - Fractional position of source in aperture -0.4176102163269116\n",
      "2021-08-12 17:22:57,400 - stpipe.WavecorrStep - WARNING - /Users/dencheva/opt/anaconda3/envs/jwstdev/lib/python3.8/site-packages/gwcs/geometry.py:203: RuntimeWarning: invalid value encountered in remainder\n",
      "  lon = np.mod(lon, 360.0 * u.deg if nquant else 360.0)\n",
      "\n",
      "2021-08-12 17:22:57,481 - stpipe.WavecorrStep - INFO - Using wavelength zero-point correction for aperture S200A1\n",
      "2021-08-12 17:22:57,488 - stpipe.WavecorrStep - INFO - Step WavecorrStep done\n",
      "2021-08-12 17:22:57,731 - stpipe.SourceTypeStep - INFO - SourceTypeStep instance created.\n",
      "2021-08-12 17:22:57,822 - stpipe.SourceTypeStep - INFO - Step SourceTypeStep running with args (<MultiSlitModel from mod_nirspec_002_CLEAR-PRISM_SLIT_fluxcal11_d03_000_491_cts_NRS1_mod_extract2dstep.fits>,).\n",
      "2021-08-12 17:22:57,825 - stpipe.SourceTypeStep - INFO - Step SourceTypeStep parameters are: {'pre_hooks': [], 'post_hooks': [], 'output_file': None, 'output_dir': None, 'output_ext': '.fits', 'output_use_model': False, 'output_use_index': True, 'save_results': False, 'skip': False, 'suffix': None, 'search_output_file': True, 'input_dir': ''}\n",
      "2021-08-12 17:22:57,837 - stpipe.SourceTypeStep - INFO - Input EXP_TYPE is NRS_FIXEDSLIT\n",
      "2021-08-12 17:22:57,839 - stpipe.SourceTypeStep - INFO - Input SRCTYAPT = UNKNOWN\n",
      "2021-08-12 17:22:57,840 - stpipe.SourceTypeStep - INFO - Exposure is nodded; setting SRCTYPE = POINT\n",
      "2021-08-12 17:22:57,844 - stpipe.SourceTypeStep - INFO - Step SourceTypeStep done\n",
      "2021-08-12 17:22:57,861 - stpipe.WavecorrStep - INFO - WavecorrStep instance created.\n",
      "2021-08-12 17:22:57,959 - stpipe.WavecorrStep - INFO - Step WavecorrStep running with args (<MultiSlitModel from mod_nirspec_002_CLEAR-PRISM_SLIT_fluxcal11_d03_000_491_cts_NRS1_mod_extract2dstep.fits>,).\n",
      "2021-08-12 17:22:57,961 - stpipe.WavecorrStep - INFO - Step WavecorrStep parameters are: {'pre_hooks': [], 'post_hooks': [], 'output_file': None, 'output_dir': None, 'output_ext': '.fits', 'output_use_model': False, 'output_use_index': True, 'save_results': False, 'skip': False, 'suffix': None, 'search_output_file': True, 'input_dir': ''}\n"
     ]
    },
    {
     "name": "stderr",
     "output_type": "stream",
     "text": [
      "2021-08-12 17:22:57,994 - stpipe.WavecorrStep - INFO - Using WAVECORR reference file /Users/dencheva/crds/references/jwst/nirspec/jwst_nirspec_wavecorr_0001.asdf\n",
      "2021-08-12 17:22:58,214 - stpipe.WavecorrStep - INFO - Detected a POINT source type in slit S200A1\n",
      "2021-08-12 17:22:58,215 - stpipe.WavecorrStep - INFO - slit name S200A1\n",
      "2021-08-12 17:22:58,217 - stpipe.AssignWcsStep - INFO - AssignWcsStep instance created.\n",
      "2021-08-12 17:22:58,254 - stpipe.WavecorrStep - INFO - wcsinfo, 332.136078, -479.224213, 138.7605896, -1\n",
      "2021-08-12 17:22:58,256 - stpipe.WavecorrStep - INFO - xoffset, yoffset, 0.1131196271090688, 1.089798782905515, 2\n",
      "2021-08-12 17:22:58,287 - stpipe.WavecorrStep - INFO - msa model, 1, 0.02697242796421051, -0.0027167024090886116, 8.135000098263845e-05, 0.001271169981919229\n",
      "2021-08-12 17:22:58,300 - stpipe.WavecorrStep - INFO - Source X/Y position in V2V3: 332.9395424409958, -479.9691306661316\n",
      "2021-08-12 17:22:58,301 - stpipe.WavecorrStep - INFO - Source X/Y position in the slit: -0.5447384431760098, -0.3620190224338676, 2, 2e-06\n",
      "2021-08-12 17:22:58,302 - stpipe.WavecorrStep - INFO - Source X/Y position in the MSA: 0.02692811349132286, -0.003176890123290288\n",
      "2021-08-12 17:22:58,302 - stpipe.WavecorrStep - INFO - Fractional position of source in aperture -0.5447384431760098\n",
      "2021-08-12 17:22:58,341 - stpipe.WavecorrStep - WARNING - /Users/dencheva/opt/anaconda3/envs/jwstdev/lib/python3.8/site-packages/gwcs/geometry.py:203: RuntimeWarning: invalid value encountered in remainder\n",
      "  lon = np.mod(lon, 360.0 * u.deg if nquant else 360.0)\n",
      "\n",
      "2021-08-12 17:22:58,399 - stpipe.WavecorrStep - INFO - Using wavelength zero-point correction for aperture S200A1\n",
      "2021-08-12 17:22:58,406 - stpipe.WavecorrStep - INFO - Step WavecorrStep done\n"
     ]
    }
   ],
   "source": [
    "d01 = datamodels.open(fd01)\n",
    "sd01 = src.call(d01)\n",
    "wd01 = step.call(sd01)\n",
    "\n",
    "d02 = datamodels.open(fd02)\n",
    "sd02 = src.call(d02)\n",
    "wd02 = step.call(sd02)\n",
    "\n",
    "d03 = datamodels.open(fd03)\n",
    "sd03 = src.call(d03)\n",
    "wd03 = step.call(sd03)"
   ]
  },
  {
   "cell_type": "code",
   "execution_count": 8,
   "metadata": {},
   "outputs": [
    {
     "data": {
      "text/plain": [
       "{'position_number': 1,\n",
       " 'primary_points': 3,\n",
       " 'primary_type': '3-POINT-NOD',\n",
       " 'spatial_position_number': 1,\n",
       " 'spectral_position_number': 1,\n",
       " 'subpixel_pattern': 'SPECTRAL',\n",
       " 'subpixel_total_points': 3,\n",
       " 'total_points': 9,\n",
       " 'x_offset': 0.06031954628773706,\n",
       " 'y_offset': 1.08979871249158}"
      ]
     },
     "execution_count": 8,
     "metadata": {},
     "output_type": "execute_result"
    }
   ],
   "source": [
    "sd01.slits[0].meta.dither.instance"
   ]
  },
  {
   "cell_type": "code",
   "execution_count": 9,
   "metadata": {},
   "outputs": [
    {
     "data": {
      "text/plain": [
       "{'position_number': 2,\n",
       " 'primary_points': 3,\n",
       " 'primary_type': '3-POINT-NOD',\n",
       " 'spatial_position_number': 1,\n",
       " 'spectral_position_number': 1,\n",
       " 'subpixel_pattern': 'SPECTRAL',\n",
       " 'subpixel_total_points': 3,\n",
       " 'total_points': 9,\n",
       " 'x_offset': 0.08671958670133095,\n",
       " 'y_offset': 1.089798747701114}"
      ]
     },
     "execution_count": 9,
     "metadata": {},
     "output_type": "execute_result"
    }
   ],
   "source": [
    "sd02.slits[0].meta.dither.instance"
   ]
  },
  {
   "cell_type": "code",
   "execution_count": 10,
   "metadata": {},
   "outputs": [
    {
     "data": {
      "text/plain": [
       "{'position_number': 3,\n",
       " 'primary_points': 3,\n",
       " 'primary_type': '3-POINT-NOD',\n",
       " 'spatial_position_number': 1,\n",
       " 'spectral_position_number': 1,\n",
       " 'subpixel_pattern': 'SPECTRAL',\n",
       " 'subpixel_total_points': 3,\n",
       " 'total_points': 9,\n",
       " 'x_offset': 0.1131196271090688,\n",
       " 'y_offset': 1.089798782905515}"
      ]
     },
     "execution_count": 10,
     "metadata": {},
     "output_type": "execute_result"
    }
   ],
   "source": [
    "sd03.slits[0].meta.dither.instance"
   ]
  },
  {
   "cell_type": "code",
   "execution_count": 11,
   "metadata": {},
   "outputs": [],
   "source": [
    "def get_ideal2v23(wcsinfo):\n",
    "    v3idlyangle = wcsinfo.v3yangle\n",
    "    v2ref = wcsinfo.v2_ref\n",
    "    v3ref = wcsinfo.v3_ref\n",
    "    vparity = wcsinfo.vparity\n",
    "    \n",
    "    return trmodels.IdealToV2V3(v3idlyangle, v2ref, v3ref, vparity)"
   ]
  },
  {
   "cell_type": "code",
   "execution_count": 16,
   "metadata": {},
   "outputs": [],
   "source": [
    "def get_offsets_ideal(dither):\n",
    "    return dither.x_offset, dither.y_offset"
   ]
  },
  {
   "cell_type": "code",
   "execution_count": 23,
   "metadata": {},
   "outputs": [
    {
     "name": "stdout",
     "output_type": "stream",
     "text": [
      "v2, v3 for position #1: 332.8998387583057, -480.00393678794353\n",
      "mx, my in the MSA frame for position #1: 0.02694879724281035, -0.003176720179799287, 2e-06\n",
      "sx, sy in the slit frame for position #1: -0.2904821280235972, -0.3618853318233134, 2e-06\n"
     ]
    }
   ],
   "source": [
    "# position #1\n",
    "slit = sd01.slits[0]\n",
    "xoff, yoff = get_offsets_ideal(slit.meta.dither)\n",
    "idl_to_v23 = get_ideal2v23(slit.meta.wcsinfo)\n",
    "v2, v3 = idl_to_v23(xoff, yoff)\n",
    "print(f'v2, v3 for position #1: {v2}, {v3}')\n",
    "\n",
    "v23_to_slit = slit.meta.wcs.get_transform(\"v2v3\", \"slit_frame\")\n",
    "v23_to_msa = slit.meta.wcs.get_transform(\"v2v3\", \"msa_frame\")\n",
    "\n",
    "mx, my, ml = v23_to_msa(v2, v3, 2)\n",
    "sx, sy, sl = v23_to_slit(v2, v3, 2)\n",
    "\n",
    "print(f'mx, my in the MSA frame for position #1: {mx}, {my}, {ml}')\n",
    "print(f'sx, sy in the slit frame for position #1: {sx}, {sy}, {sl}')"
   ]
  },
  {
   "cell_type": "code",
   "execution_count": 24,
   "metadata": {},
   "outputs": [
    {
     "name": "stdout",
     "output_type": "stream",
     "text": [
      "v2, v3 for position #1: 332.91969059965464, -479.98653372703757\n",
      "mx, my in the MSA frame for position #1: 0.026938455372701956, -0.003176805158741776, 2e-06\n",
      "sx, sy in the slit frame for position #1: -0.4176102163269116, -0.36195218279029456, 2e-06\n"
     ]
    }
   ],
   "source": [
    "# position #2\n",
    "slit = sd02.slits[0]\n",
    "xoff, yoff = get_offsets_ideal(slit.meta.dither)\n",
    "idl_to_v23 = get_ideal2v23(slit.meta.wcsinfo)\n",
    "v2, v3 = idl_to_v23(xoff, yoff)\n",
    "print(f'v2, v3 for position #1: {v2}, {v3}')\n",
    "\n",
    "v23_to_slit = slit.meta.wcs.get_transform(\"v2v3\", \"slit_frame\")\n",
    "v23_to_msa = slit.meta.wcs.get_transform(\"v2v3\", \"msa_frame\")\n",
    "\n",
    "mx, my, ml = v23_to_msa(v2, v3, 2)\n",
    "sx, sy, sl = v23_to_slit(v2, v3, 2)\n",
    "\n",
    "print(f'mx, my in the MSA frame for position #1: {mx}, {my}, {ml}')\n",
    "print(f'sx, sy in the slit frame for position #1: {sx}, {sy}, {sl}')"
   ]
  },
  {
   "cell_type": "code",
   "execution_count": 25,
   "metadata": {},
   "outputs": [
    {
     "name": "stdout",
     "output_type": "stream",
     "text": [
      "v2, v3 for position #1: 332.9395424409958, -479.9691306661316\n",
      "mx, my in the MSA frame for position #1: 0.02692811349132286, -0.003176890123290288, 2e-06\n",
      "sx, sy in the slit frame for position #1: -0.5447384431760098, -0.3620190224338676, 2e-06\n"
     ]
    }
   ],
   "source": [
    "# position #3\n",
    "slit = sd03.slits[0]\n",
    "xoff, yoff = get_offsets_ideal(slit.meta.dither)\n",
    "idl_to_v23 = get_ideal2v23(slit.meta.wcsinfo)\n",
    "v2, v3 = idl_to_v23(xoff, yoff)\n",
    "print(f'v2, v3 for position #1: {v2}, {v3}')\n",
    "\n",
    "v23_to_slit = slit.meta.wcs.get_transform(\"v2v3\", \"slit_frame\")\n",
    "v23_to_msa = slit.meta.wcs.get_transform(\"v2v3\", \"msa_frame\")\n",
    "\n",
    "mx, my, ml = v23_to_msa(v2, v3, 2)\n",
    "sx, sy, sl = v23_to_slit(v2, v3, 2)\n",
    "\n",
    "print(f'mx, my in the MSA frame for position #1: {mx}, {my}, {ml}')\n",
    "print(f'sx, sy in the slit frame for position #1: {sx}, {sy}, {sl}')"
   ]
  },
  {
   "cell_type": "code",
   "execution_count": 35,
   "metadata": {},
   "outputs": [
    {
     "name": "stdout",
     "output_type": "stream",
     "text": [
      "center of slit in v2v3, 332.06710834460057, -479.14554045370676, 2.0\n"
     ]
    },
    {
     "data": {
      "text/plain": [
       "(-1.0552389130003004e-06, -0.10462400730744273)"
      ]
     },
     "execution_count": 35,
     "metadata": {},
     "output_type": "execute_result"
    }
   ],
   "source": [
    "# check where the center of the slit (0,0) ends up in the ideal frame\n",
    "\n",
    "s2v=slit.meta.wcs.get_transform('slit_frame', 'v2v3')\n",
    "v2_s0, v3_s0, lam = s2v(0, 0, 2e-6)\n",
    "print(f'center of slit in v2v3, {v2_s0}, {v3_s0}, {lam}')\n",
    "\n",
    "idl_to_v23.inverse(v2_s0, v3_s0)"
   ]
  },
  {
   "cell_type": "code",
   "execution_count": null,
   "metadata": {},
   "outputs": [],
   "source": []
  }
 ],
 "metadata": {
  "kernelspec": {
   "display_name": "Python 3",
   "language": "python",
   "name": "python3"
  },
  "language_info": {
   "codemirror_mode": {
    "name": "ipython",
    "version": 3
   },
   "file_extension": ".py",
   "mimetype": "text/x-python",
   "name": "python",
   "nbconvert_exporter": "python",
   "pygments_lexer": "ipython3",
   "version": "3.8.5"
  }
 },
 "nbformat": 4,
 "nbformat_minor": 4
}
